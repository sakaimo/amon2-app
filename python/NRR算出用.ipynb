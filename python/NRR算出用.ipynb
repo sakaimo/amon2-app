{
  "cells": [
    {
      "cell_type": "markdown",
      "metadata": {
        "id": "view-in-github",
        "colab_type": "text"
      },
      "source": [
        "<a href=\"https://colab.research.google.com/github/sakaimo/amon2-app/blob/master/python/NRR%E7%AE%97%E5%87%BA%E7%94%A8.ipynb\" target=\"_parent\"><img src=\"https://colab.research.google.com/assets/colab-badge.svg\" alt=\"Open In Colab\"/></a>"
      ]
    },
    {
      "cell_type": "markdown",
      "source": [
        "# 1.楽楽販売からDLしたCSVの処理\n",
        "\n",
        "* MONI: [ここ](https://hdsilver.htdb.jp/rvgvj8a/top/index/urlparams/JTJGcnZndmo4YSUyRjMlMkZkYmdJZCUyRjEwMDA0NyUyRmRiU2NoZW1hSWQlMkYxMDA3NjglMkZtZW51SWQlMkYxMDY0MDklMkZyZWNvcmRJZCUyRg%3D%3D)\n",
        "* SAS: [ここ](https://hdsilver.htdb.jp/rvgvj8a/top/index/urlparams/JTJGcnZndmo4YSUyRjMlMkZkYmdJZCUyRjEwMDA1NyUyRmRiU2NoZW1hSWQlMkYxMDEyMjMlMkZtZW51SWQlMkYxMDY0MTElMkZyZWNvcmRJZCUyRg%3D%3D)\n",
        "* FS: [ここ](https://hdsilver.htdb.jp/rvgvj8a/top/index/urlparams/JTJGcnZndmo4YSUyRjMlMkZkYmdJZCUyRjEwMDExNSUyRmRiU2NoZW1hSWQlMkYxMDI4MjMlMkZtZW51SWQlMkYxMDY0MTMlMkZyZWNvcmRJZCUyRg%3D%3D)\n",
        "* hitobo: [ここ](https://hdsilver.htdb.jp/rvgvj8a/top/index/urlparams/JTJGcnZndmo4YSUyRjMlMkZkYmdJZCUyRjEwMDEyMiUyRmRiU2NoZW1hSWQlMkYxMDMxNzMlMkZtZW51SWQlMkYxMDY0MTAlMkZyZWNvcmRJZCUyRg%3D%3D)\n",
        "* SG: [ここ](https://hdsilver.htdb.jp/rvgvj8a/top/index/urlparams/JTJGcnZndmo4YSUyRjMlMkZkYmdJZCUyRjEwMDEwMCUyRmRiU2NoZW1hSWQlMkYxMDE5OTElMkZtZW51SWQlMkYxMDY0MTQlMkZyZWNvcmRJZCUyRg%3D%3D)\n",
        "\n",
        "から「対象月」で「2021年1月」以降を指定してCSVをDL。<br>\n",
        "ファイル名をそれぞれ「moni.csv」「sas.csv」「fs.csv」「hitobo.csv」「sg.csv」にする\n",
        "\n",
        "ダウンロードしたCSVは [このフォルダ](https://drive.google.com/drive/folders/1G7ZJmUXtMXu9x5lo2iXIQdfdlAciJqw3) に入れる。同名ファイルは上書きしてください。"
      ],
      "metadata": {
        "id": "LZ1LgknWIQpv"
      }
    },
    {
      "cell_type": "markdown",
      "source": [
        "## ドライブをマウント\n"
      ],
      "metadata": {
        "id": "iR3l8fOzINsV"
      }
    },
    {
      "cell_type": "code",
      "execution_count": null,
      "metadata": {
        "colab": {
          "base_uri": "https://localhost:8080/"
        },
        "id": "g19f9U9XILDJ",
        "outputId": "3deec56f-cb20-4da7-aa73-b7cff41d2a4b"
      },
      "outputs": [
        {
          "output_type": "stream",
          "name": "stdout",
          "text": [
            "Mounted at /content/drive\n"
          ]
        }
      ],
      "source": [
        "from google.colab import drive\n",
        "drive.mount('/content/drive')\n",
        "\n",
        "import numpy as np\n",
        "import pandas as pd"
      ]
    },
    {
      "cell_type": "markdown",
      "source": [
        "## SG以外のCSV読み込み→処理→出力\n",
        "\n",
        "ファイルにSJISにはなくてCP932にはある拡張文字がある → cp932 ならいける\n"
      ],
      "metadata": {
        "id": "fKhwCdkAfOmL"
      }
    },
    {
      "cell_type": "code",
      "source": [
        "# MONI\n",
        "moni_df = pd.read_csv(\"/content/drive/Shareddrives/BI推進部/NRR算出/元データCSV/moni.csv\",encoding=\"cp932\")\n",
        "moni_columns=[\"対象月\",\"取引先名\",\"案件種別\",\"案件名\",\"計上部署\",\"請求額\",\"プロダクト名\",\"案件マスタID\",\"案件マスタ名\",\"案件ID\",\"明細ID\",\"運用ステータス\",\"開始日\",\"終了日\",\"取引先ID\"]\n",
        "\n",
        "for column in moni_columns:\n",
        "    if column not in moni_df.columns:\n",
        "        raise ValueError(f\"csvに[{column}]のカラム名が存在しません\")\n",
        "\n",
        "moni_df = moni_df.rename(columns={\"対象月\": \"対象年月\"})\n",
        "\n",
        "moni_df[\"対象年月\"] = pd.to_datetime(moni_df[\"対象年月\"])\n",
        "moni_df[\"開始日\"] = pd.to_datetime(moni_df[\"開始日\"], format=\"%Y年%m月%d日\")\n",
        "moni_df[\"終了日\"] = pd.to_datetime(moni_df[\"終了日\"], format=\"%Y年%m月%d日\")"
      ],
      "metadata": {
        "id": "anWZ3aPYfDSJ"
      },
      "execution_count": null,
      "outputs": []
    },
    {
      "cell_type": "code",
      "source": [
        "# SAS\n",
        "sas_df = pd.read_csv(\"/content/drive/Shareddrives/BI推進部/NRR算出/元データCSV/sas.csv\",encoding='cp932')\n",
        "sas_columns = [\"対象月\",\"取引先名\",\"案件種別\",\"案件名\",\"計上部署\",\"請求金額\",\"商品名\",\"案件マスタID\",\"案件マスタ名\",\"案件ID\",\"明細ID\",\"運用ステータス\",\"開始日\",\"終了日\",\"取引先ID\"]\n",
        "for column in sas_columns:\n",
        "    if column not in sas_df.columns:\n",
        "        raise ValueError(f\"csvに[{column}]のカラム名が存在しません\")\n",
        "sas_df = sas_df.rename(columns={\"請求金額\": \"請求額\", \"対象月\": \"対象年月\"})\n",
        "\n",
        "sas_df[\"対象年月\"] = pd.to_datetime(sas_df[\"対象年月\"])\n",
        "sas_df[\"開始日\"] = pd.to_datetime(sas_df[\"開始日\"])\n",
        "sas_df[\"終了日\"] = pd.to_datetime(sas_df[\"終了日\"])"
      ],
      "metadata": {
        "id": "MJkSA94dt9PD"
      },
      "execution_count": null,
      "outputs": []
    },
    {
      "cell_type": "code",
      "source": [
        "# FS\n",
        "fs_df = pd.read_csv(\"/content/drive/Shareddrives/BI推進部/NRR算出/元データCSV/fs.csv\",encoding='cp932')\n",
        "fs_columns = [\"対象月\",\"取引先名\",\"案件種別\",\"案件名\",\"計上部署\",\"サービス金額\",\"サービス名\",\"案件マスタID\",\"案件マスタ名\",\"案件ID\",\"明細ID\",\"運用ステータス\",\"開始日\",\"終了日\",\"取引先ID\"]\n",
        "for column in fs_columns:\n",
        "    if column not in fs_df.columns:\n",
        "        raise ValueError(f\"csvに[{column}]のカラム名が存在しません\")\n",
        "fs_df = fs_df.rename(columns={\"サービス金額\": \"請求額\", \"対象月\": \"対象年月\"})\n",
        "\n",
        "fs_df[\"対象年月\"] = pd.to_datetime(fs_df[\"対象年月\"])\n",
        "fs_df[\"開始日\"] = pd.to_datetime(fs_df[\"開始日\"])\n",
        "fs_df[\"終了日\"] = pd.to_datetime(fs_df[\"終了日\"])"
      ],
      "metadata": {
        "id": "BcFnlCw1uonk"
      },
      "execution_count": null,
      "outputs": []
    },
    {
      "cell_type": "code",
      "source": [
        "# hitobo\n",
        "ht_df = pd.read_csv(\"/content/drive/Shareddrives/BI推進部/NRR算出/元データCSV/hitobo.csv\",encoding='cp932')\n",
        "ht_columns = [\"対象月\",\"取引先名\",\"案件種別\",\"案件名\",\"計上部署\",\"月額費用\",\"商品名\",\"案件ID\",\"明細ID\",\"運用ステータス\",\"開始日\",\"終了日\",\"取引先ID\"]\n",
        "for column in ht_columns:\n",
        "    if column not in ht_df.columns:\n",
        "        raise ValueError(f\"csvに[{column}]のカラム名が存在しません\")\n",
        "ht_df = ht_df.rename(columns={\"月額費用\": \"請求額\", \"対象月\": \"対象年月\"})\n",
        "\n",
        "ht_df[\"対象年月\"] = pd.to_datetime(ht_df[\"対象年月\"])\n",
        "ht_df[\"開始日\"] = pd.to_datetime(ht_df[\"開始日\"])\n",
        "ht_df[\"終了日\"] = pd.to_datetime(ht_df[\"終了日\"])"
      ],
      "metadata": {
        "id": "g5CDoae7vCow"
      },
      "execution_count": null,
      "outputs": []
    },
    {
      "cell_type": "code",
      "source": [
        "# 縦に結合\n",
        "rakuraku_df = pd.concat([moni_df, sas_df, fs_df, ht_df],  axis=0, ignore_index=True)\n",
        "\n",
        "# 案件種別をランニングだけ\n",
        "rakuraku_df = rakuraku_df[rakuraku_df[\"案件種別\"] == \"ランニング\"]\n",
        "\n",
        "# 請求額の欠損値をゼロ埋め\n",
        "rakuraku_df = rakuraku_df.fillna({\"請求額\":0})\n",
        "\n",
        "# 欠損チェック (やっつけ)\n",
        "a = rakuraku_df[\"対象年月\"].isnull().sum()\n",
        "b = rakuraku_df[\"請求額\"].isnull().sum()\n",
        "c = rakuraku_df[\"取引先ID\"].isnull().sum()\n",
        "d = rakuraku_df[\"案件ID\"].isnull().sum()\n",
        "if a+b+c+d > 0:\n",
        "  raise ValueError(\"必須項目に空欄がある\")"
      ],
      "metadata": {
        "id": "rI1P1Pg0n1mV"
      },
      "execution_count": null,
      "outputs": []
    },
    {
      "cell_type": "code",
      "source": [
        "# CSVに出力\n",
        "rakuraku_df.to_csv(\"/content/drive/Shareddrives/BI推進部/NRR算出/加工済データCSV/SG以外_rakuraku.csv\", index=False)\n",
        "rakuraku_df"
      ],
      "metadata": {
        "colab": {
          "base_uri": "https://localhost:8080/",
          "height": 788
        },
        "id": "6J_3Joke2hoM",
        "outputId": "9f4adc78-6b01-4db4-eb2f-ce52ffc90fc1"
      },
      "execution_count": null,
      "outputs": [
        {
          "output_type": "execute_result",
          "data": {
            "text/plain": [
              "            対象年月           取引先名   案件種別                                  案件名  \\\n",
              "0     2023-08-01        株式会社クレハ  ランニング                         株式会社クレハ_Pazu   \n",
              "1     2023-07-01  株式会社TRUSTDOCK  ランニング     TRUSTDOCK_ヤフオク!・PayPayフリマ_本人確認業務   \n",
              "2     2023-07-01  株式会社TRUSTDOCK  ランニング  DOG HUGGY TRUSTDOCK（健康保険証マスキング状態確認）   \n",
              "3     2023-07-01  株式会社TRUSTDOCK  ランニング      DOG HUGGY TRUSTDOCK（健康保険証マスキング）   \n",
              "4     2023-07-01  株式会社TRUSTDOCK  ランニング                  DOG HUGGY　TRUSTDOCK   \n",
              "...          ...            ...    ...                                  ...   \n",
              "30956 2021-01-01        IMV株式会社  ランニング                              IMV株式会社   \n",
              "30957 2021-01-01   トレンドマイクロ株式会社  ランニング                      トレンドマイクロ法人向けサイト   \n",
              "30958 2021-01-01   トレンドマイクロ株式会社  ランニング                      トレンドマイクロ法人向けサイト   \n",
              "30959 2021-01-01   トレンドマイクロ株式会社  ランニング                      トレンドマイクロ法人向けサイト   \n",
              "30960 2021-01-01   トレンドマイクロ株式会社  ランニング                      トレンドマイクロ法人向けサイト   \n",
              "\n",
              "       計上部署        請求額     プロダクト名                   案件マスタID  \\\n",
              "0       SPY    40000.0        NaN  MONI-Service-M-000000240   \n",
              "1      MONI  6104770.0  TRUSTDOCK  MONI-Service-M-000000182   \n",
              "2      MONI     1364.0  TRUSTDOCK  MONI-Service-M-000000263   \n",
              "3      MONI       16.0  TRUSTDOCK  MONI-Service-M-000000263   \n",
              "4      MONI    10260.0  TRUSTDOCK  MONI-Service-M-000000016   \n",
              "...     ...        ...        ...                       ...   \n",
              "30956    HT        0.0        NaN                       NaN   \n",
              "30957    HT    30000.0        NaN                       NaN   \n",
              "30958    HT        0.0        NaN                       NaN   \n",
              "30959    HT        0.0        NaN                       NaN   \n",
              "30960    HT        0.0        NaN                       NaN   \n",
              "\n",
              "                             案件マスタ名                   案件ID  \\\n",
              "0                      株式会社クレハ_Pazu  OMD-Service-000001824   \n",
              "1                   ヤフオク!・PayPayフリマ  OMD-Service-000002079   \n",
              "2      DOG HUGGY TRUSTDOCK(マスキング業務)  OMD-Service-000001692   \n",
              "3      DOG HUGGY TRUSTDOCK(マスキング業務)  OMD-Service-000001694   \n",
              "4               DOG HUGGY TRUSTDOCK  OMD-Service-000000903   \n",
              "...                             ...                    ...   \n",
              "30956                           NaN     HTB_Project_000034   \n",
              "30957                           NaN     HTB_Project_000001   \n",
              "30958                           NaN     HTB_Project_000001   \n",
              "30959                           NaN     HTB_Project_000001   \n",
              "30960                           NaN     HTB_Project_000001   \n",
              "\n",
              "                     明細ID         運用ステータス        開始日        終了日       取引先ID  \\\n",
              "0      OMD-Report-0040000   運用中（15日締請求案件） 2022-04-01        NaT  C-00014906   \n",
              "1      OMD-Report-0039958  運用中（TRUSTDOCK） 2023-01-01        NaT  C-00017126   \n",
              "2      OMD-Report-0039957  運用中（TRUSTDOCK） 2021-07-30        NaT  C-00017126   \n",
              "3      OMD-Report-0039956  運用中（TRUSTDOCK） 2021-07-30        NaT  C-00017126   \n",
              "4      OMD-Report-0039955  運用中（TRUSTDOCK） 2017-05-15        NaT  C-00017126   \n",
              "...                   ...             ...        ...        ...         ...   \n",
              "30956   HTB_Report_000631              終了 2020-10-01 2021-03-31  C-00017330   \n",
              "30957   HTB_Report_000630              終了 2017-04-01 2022-09-30  C-00010303   \n",
              "30958   HTB_Report_000630              終了 2017-04-01 2022-09-30  C-00010303   \n",
              "30959   HTB_Report_000630              終了 2017-04-01 2022-09-30  C-00010303   \n",
              "30960   HTB_Report_000630              終了 2017-04-01 2022-09-30  C-00010303   \n",
              "\n",
              "      移行先案件ID           商品名 サービス名  \n",
              "0         NaN           NaN   NaN  \n",
              "1         NaN           NaN   NaN  \n",
              "2         NaN           NaN   NaN  \n",
              "3         NaN           NaN   NaN  \n",
              "4         NaN           NaN   NaN  \n",
              "...       ...           ...   ...  \n",
              "30956     NaN  hitoboスタンダード   NaN  \n",
              "30957     NaN   hitoboベーシック   NaN  \n",
              "30958     NaN   hitoboベーシック   NaN  \n",
              "30959     NaN   hitoboベーシック   NaN  \n",
              "30960     NaN   hitoboベーシック   NaN  \n",
              "\n",
              "[28950 rows x 18 columns]"
            ],
            "text/html": [
              "\n",
              "  <div id=\"df-1f51c3fc-a78c-4dee-a4ea-73f758b14774\" class=\"colab-df-container\">\n",
              "    <div>\n",
              "<style scoped>\n",
              "    .dataframe tbody tr th:only-of-type {\n",
              "        vertical-align: middle;\n",
              "    }\n",
              "\n",
              "    .dataframe tbody tr th {\n",
              "        vertical-align: top;\n",
              "    }\n",
              "\n",
              "    .dataframe thead th {\n",
              "        text-align: right;\n",
              "    }\n",
              "</style>\n",
              "<table border=\"1\" class=\"dataframe\">\n",
              "  <thead>\n",
              "    <tr style=\"text-align: right;\">\n",
              "      <th></th>\n",
              "      <th>対象年月</th>\n",
              "      <th>取引先名</th>\n",
              "      <th>案件種別</th>\n",
              "      <th>案件名</th>\n",
              "      <th>計上部署</th>\n",
              "      <th>請求額</th>\n",
              "      <th>プロダクト名</th>\n",
              "      <th>案件マスタID</th>\n",
              "      <th>案件マスタ名</th>\n",
              "      <th>案件ID</th>\n",
              "      <th>明細ID</th>\n",
              "      <th>運用ステータス</th>\n",
              "      <th>開始日</th>\n",
              "      <th>終了日</th>\n",
              "      <th>取引先ID</th>\n",
              "      <th>移行先案件ID</th>\n",
              "      <th>商品名</th>\n",
              "      <th>サービス名</th>\n",
              "    </tr>\n",
              "  </thead>\n",
              "  <tbody>\n",
              "    <tr>\n",
              "      <th>0</th>\n",
              "      <td>2023-08-01</td>\n",
              "      <td>株式会社クレハ</td>\n",
              "      <td>ランニング</td>\n",
              "      <td>株式会社クレハ_Pazu</td>\n",
              "      <td>SPY</td>\n",
              "      <td>40000.0</td>\n",
              "      <td>NaN</td>\n",
              "      <td>MONI-Service-M-000000240</td>\n",
              "      <td>株式会社クレハ_Pazu</td>\n",
              "      <td>OMD-Service-000001824</td>\n",
              "      <td>OMD-Report-0040000</td>\n",
              "      <td>運用中（15日締請求案件）</td>\n",
              "      <td>2022-04-01</td>\n",
              "      <td>NaT</td>\n",
              "      <td>C-00014906</td>\n",
              "      <td>NaN</td>\n",
              "      <td>NaN</td>\n",
              "      <td>NaN</td>\n",
              "    </tr>\n",
              "    <tr>\n",
              "      <th>1</th>\n",
              "      <td>2023-07-01</td>\n",
              "      <td>株式会社TRUSTDOCK</td>\n",
              "      <td>ランニング</td>\n",
              "      <td>TRUSTDOCK_ヤフオク!・PayPayフリマ_本人確認業務</td>\n",
              "      <td>MONI</td>\n",
              "      <td>6104770.0</td>\n",
              "      <td>TRUSTDOCK</td>\n",
              "      <td>MONI-Service-M-000000182</td>\n",
              "      <td>ヤフオク!・PayPayフリマ</td>\n",
              "      <td>OMD-Service-000002079</td>\n",
              "      <td>OMD-Report-0039958</td>\n",
              "      <td>運用中（TRUSTDOCK）</td>\n",
              "      <td>2023-01-01</td>\n",
              "      <td>NaT</td>\n",
              "      <td>C-00017126</td>\n",
              "      <td>NaN</td>\n",
              "      <td>NaN</td>\n",
              "      <td>NaN</td>\n",
              "    </tr>\n",
              "    <tr>\n",
              "      <th>2</th>\n",
              "      <td>2023-07-01</td>\n",
              "      <td>株式会社TRUSTDOCK</td>\n",
              "      <td>ランニング</td>\n",
              "      <td>DOG HUGGY TRUSTDOCK（健康保険証マスキング状態確認）</td>\n",
              "      <td>MONI</td>\n",
              "      <td>1364.0</td>\n",
              "      <td>TRUSTDOCK</td>\n",
              "      <td>MONI-Service-M-000000263</td>\n",
              "      <td>DOG HUGGY TRUSTDOCK(マスキング業務)</td>\n",
              "      <td>OMD-Service-000001692</td>\n",
              "      <td>OMD-Report-0039957</td>\n",
              "      <td>運用中（TRUSTDOCK）</td>\n",
              "      <td>2021-07-30</td>\n",
              "      <td>NaT</td>\n",
              "      <td>C-00017126</td>\n",
              "      <td>NaN</td>\n",
              "      <td>NaN</td>\n",
              "      <td>NaN</td>\n",
              "    </tr>\n",
              "    <tr>\n",
              "      <th>3</th>\n",
              "      <td>2023-07-01</td>\n",
              "      <td>株式会社TRUSTDOCK</td>\n",
              "      <td>ランニング</td>\n",
              "      <td>DOG HUGGY TRUSTDOCK（健康保険証マスキング）</td>\n",
              "      <td>MONI</td>\n",
              "      <td>16.0</td>\n",
              "      <td>TRUSTDOCK</td>\n",
              "      <td>MONI-Service-M-000000263</td>\n",
              "      <td>DOG HUGGY TRUSTDOCK(マスキング業務)</td>\n",
              "      <td>OMD-Service-000001694</td>\n",
              "      <td>OMD-Report-0039956</td>\n",
              "      <td>運用中（TRUSTDOCK）</td>\n",
              "      <td>2021-07-30</td>\n",
              "      <td>NaT</td>\n",
              "      <td>C-00017126</td>\n",
              "      <td>NaN</td>\n",
              "      <td>NaN</td>\n",
              "      <td>NaN</td>\n",
              "    </tr>\n",
              "    <tr>\n",
              "      <th>4</th>\n",
              "      <td>2023-07-01</td>\n",
              "      <td>株式会社TRUSTDOCK</td>\n",
              "      <td>ランニング</td>\n",
              "      <td>DOG HUGGY　TRUSTDOCK</td>\n",
              "      <td>MONI</td>\n",
              "      <td>10260.0</td>\n",
              "      <td>TRUSTDOCK</td>\n",
              "      <td>MONI-Service-M-000000016</td>\n",
              "      <td>DOG HUGGY TRUSTDOCK</td>\n",
              "      <td>OMD-Service-000000903</td>\n",
              "      <td>OMD-Report-0039955</td>\n",
              "      <td>運用中（TRUSTDOCK）</td>\n",
              "      <td>2017-05-15</td>\n",
              "      <td>NaT</td>\n",
              "      <td>C-00017126</td>\n",
              "      <td>NaN</td>\n",
              "      <td>NaN</td>\n",
              "      <td>NaN</td>\n",
              "    </tr>\n",
              "    <tr>\n",
              "      <th>...</th>\n",
              "      <td>...</td>\n",
              "      <td>...</td>\n",
              "      <td>...</td>\n",
              "      <td>...</td>\n",
              "      <td>...</td>\n",
              "      <td>...</td>\n",
              "      <td>...</td>\n",
              "      <td>...</td>\n",
              "      <td>...</td>\n",
              "      <td>...</td>\n",
              "      <td>...</td>\n",
              "      <td>...</td>\n",
              "      <td>...</td>\n",
              "      <td>...</td>\n",
              "      <td>...</td>\n",
              "      <td>...</td>\n",
              "      <td>...</td>\n",
              "      <td>...</td>\n",
              "    </tr>\n",
              "    <tr>\n",
              "      <th>30956</th>\n",
              "      <td>2021-01-01</td>\n",
              "      <td>IMV株式会社</td>\n",
              "      <td>ランニング</td>\n",
              "      <td>IMV株式会社</td>\n",
              "      <td>HT</td>\n",
              "      <td>0.0</td>\n",
              "      <td>NaN</td>\n",
              "      <td>NaN</td>\n",
              "      <td>NaN</td>\n",
              "      <td>HTB_Project_000034</td>\n",
              "      <td>HTB_Report_000631</td>\n",
              "      <td>終了</td>\n",
              "      <td>2020-10-01</td>\n",
              "      <td>2021-03-31</td>\n",
              "      <td>C-00017330</td>\n",
              "      <td>NaN</td>\n",
              "      <td>hitoboスタンダード</td>\n",
              "      <td>NaN</td>\n",
              "    </tr>\n",
              "    <tr>\n",
              "      <th>30957</th>\n",
              "      <td>2021-01-01</td>\n",
              "      <td>トレンドマイクロ株式会社</td>\n",
              "      <td>ランニング</td>\n",
              "      <td>トレンドマイクロ法人向けサイト</td>\n",
              "      <td>HT</td>\n",
              "      <td>30000.0</td>\n",
              "      <td>NaN</td>\n",
              "      <td>NaN</td>\n",
              "      <td>NaN</td>\n",
              "      <td>HTB_Project_000001</td>\n",
              "      <td>HTB_Report_000630</td>\n",
              "      <td>終了</td>\n",
              "      <td>2017-04-01</td>\n",
              "      <td>2022-09-30</td>\n",
              "      <td>C-00010303</td>\n",
              "      <td>NaN</td>\n",
              "      <td>hitoboベーシック</td>\n",
              "      <td>NaN</td>\n",
              "    </tr>\n",
              "    <tr>\n",
              "      <th>30958</th>\n",
              "      <td>2021-01-01</td>\n",
              "      <td>トレンドマイクロ株式会社</td>\n",
              "      <td>ランニング</td>\n",
              "      <td>トレンドマイクロ法人向けサイト</td>\n",
              "      <td>HT</td>\n",
              "      <td>0.0</td>\n",
              "      <td>NaN</td>\n",
              "      <td>NaN</td>\n",
              "      <td>NaN</td>\n",
              "      <td>HTB_Project_000001</td>\n",
              "      <td>HTB_Report_000630</td>\n",
              "      <td>終了</td>\n",
              "      <td>2017-04-01</td>\n",
              "      <td>2022-09-30</td>\n",
              "      <td>C-00010303</td>\n",
              "      <td>NaN</td>\n",
              "      <td>hitoboベーシック</td>\n",
              "      <td>NaN</td>\n",
              "    </tr>\n",
              "    <tr>\n",
              "      <th>30959</th>\n",
              "      <td>2021-01-01</td>\n",
              "      <td>トレンドマイクロ株式会社</td>\n",
              "      <td>ランニング</td>\n",
              "      <td>トレンドマイクロ法人向けサイト</td>\n",
              "      <td>HT</td>\n",
              "      <td>0.0</td>\n",
              "      <td>NaN</td>\n",
              "      <td>NaN</td>\n",
              "      <td>NaN</td>\n",
              "      <td>HTB_Project_000001</td>\n",
              "      <td>HTB_Report_000630</td>\n",
              "      <td>終了</td>\n",
              "      <td>2017-04-01</td>\n",
              "      <td>2022-09-30</td>\n",
              "      <td>C-00010303</td>\n",
              "      <td>NaN</td>\n",
              "      <td>hitoboベーシック</td>\n",
              "      <td>NaN</td>\n",
              "    </tr>\n",
              "    <tr>\n",
              "      <th>30960</th>\n",
              "      <td>2021-01-01</td>\n",
              "      <td>トレンドマイクロ株式会社</td>\n",
              "      <td>ランニング</td>\n",
              "      <td>トレンドマイクロ法人向けサイト</td>\n",
              "      <td>HT</td>\n",
              "      <td>0.0</td>\n",
              "      <td>NaN</td>\n",
              "      <td>NaN</td>\n",
              "      <td>NaN</td>\n",
              "      <td>HTB_Project_000001</td>\n",
              "      <td>HTB_Report_000630</td>\n",
              "      <td>終了</td>\n",
              "      <td>2017-04-01</td>\n",
              "      <td>2022-09-30</td>\n",
              "      <td>C-00010303</td>\n",
              "      <td>NaN</td>\n",
              "      <td>hitoboベーシック</td>\n",
              "      <td>NaN</td>\n",
              "    </tr>\n",
              "  </tbody>\n",
              "</table>\n",
              "<p>28950 rows × 18 columns</p>\n",
              "</div>\n",
              "    <div class=\"colab-df-buttons\">\n",
              "\n",
              "  <div class=\"colab-df-container\">\n",
              "    <button class=\"colab-df-convert\" onclick=\"convertToInteractive('df-1f51c3fc-a78c-4dee-a4ea-73f758b14774')\"\n",
              "            title=\"Convert this dataframe to an interactive table.\"\n",
              "            style=\"display:none;\">\n",
              "\n",
              "  <svg xmlns=\"http://www.w3.org/2000/svg\" height=\"24px\" viewBox=\"0 -960 960 960\">\n",
              "    <path d=\"M120-120v-720h720v720H120Zm60-500h600v-160H180v160Zm220 220h160v-160H400v160Zm0 220h160v-160H400v160ZM180-400h160v-160H180v160Zm440 0h160v-160H620v160ZM180-180h160v-160H180v160Zm440 0h160v-160H620v160Z\"/>\n",
              "  </svg>\n",
              "    </button>\n",
              "\n",
              "  <style>\n",
              "    .colab-df-container {\n",
              "      display:flex;\n",
              "      gap: 12px;\n",
              "    }\n",
              "\n",
              "    .colab-df-convert {\n",
              "      background-color: #E8F0FE;\n",
              "      border: none;\n",
              "      border-radius: 50%;\n",
              "      cursor: pointer;\n",
              "      display: none;\n",
              "      fill: #1967D2;\n",
              "      height: 32px;\n",
              "      padding: 0 0 0 0;\n",
              "      width: 32px;\n",
              "    }\n",
              "\n",
              "    .colab-df-convert:hover {\n",
              "      background-color: #E2EBFA;\n",
              "      box-shadow: 0px 1px 2px rgba(60, 64, 67, 0.3), 0px 1px 3px 1px rgba(60, 64, 67, 0.15);\n",
              "      fill: #174EA6;\n",
              "    }\n",
              "\n",
              "    .colab-df-buttons div {\n",
              "      margin-bottom: 4px;\n",
              "    }\n",
              "\n",
              "    [theme=dark] .colab-df-convert {\n",
              "      background-color: #3B4455;\n",
              "      fill: #D2E3FC;\n",
              "    }\n",
              "\n",
              "    [theme=dark] .colab-df-convert:hover {\n",
              "      background-color: #434B5C;\n",
              "      box-shadow: 0px 1px 3px 1px rgba(0, 0, 0, 0.15);\n",
              "      filter: drop-shadow(0px 1px 2px rgba(0, 0, 0, 0.3));\n",
              "      fill: #FFFFFF;\n",
              "    }\n",
              "  </style>\n",
              "\n",
              "    <script>\n",
              "      const buttonEl =\n",
              "        document.querySelector('#df-1f51c3fc-a78c-4dee-a4ea-73f758b14774 button.colab-df-convert');\n",
              "      buttonEl.style.display =\n",
              "        google.colab.kernel.accessAllowed ? 'block' : 'none';\n",
              "\n",
              "      async function convertToInteractive(key) {\n",
              "        const element = document.querySelector('#df-1f51c3fc-a78c-4dee-a4ea-73f758b14774');\n",
              "        const dataTable =\n",
              "          await google.colab.kernel.invokeFunction('convertToInteractive',\n",
              "                                                    [key], {});\n",
              "        if (!dataTable) return;\n",
              "\n",
              "        const docLinkHtml = 'Like what you see? Visit the ' +\n",
              "          '<a target=\"_blank\" href=https://colab.research.google.com/notebooks/data_table.ipynb>data table notebook</a>'\n",
              "          + ' to learn more about interactive tables.';\n",
              "        element.innerHTML = '';\n",
              "        dataTable['output_type'] = 'display_data';\n",
              "        await google.colab.output.renderOutput(dataTable, element);\n",
              "        const docLink = document.createElement('div');\n",
              "        docLink.innerHTML = docLinkHtml;\n",
              "        element.appendChild(docLink);\n",
              "      }\n",
              "    </script>\n",
              "  </div>\n",
              "\n",
              "\n",
              "<div id=\"df-332b92df-158d-41b9-a271-1c3a621c8d14\">\n",
              "  <button class=\"colab-df-quickchart\" onclick=\"quickchart('df-332b92df-158d-41b9-a271-1c3a621c8d14')\"\n",
              "            title=\"Suggest charts.\"\n",
              "            style=\"display:none;\">\n",
              "\n",
              "<svg xmlns=\"http://www.w3.org/2000/svg\" height=\"24px\"viewBox=\"0 0 24 24\"\n",
              "     width=\"24px\">\n",
              "    <g>\n",
              "        <path d=\"M19 3H5c-1.1 0-2 .9-2 2v14c0 1.1.9 2 2 2h14c1.1 0 2-.9 2-2V5c0-1.1-.9-2-2-2zM9 17H7v-7h2v7zm4 0h-2V7h2v10zm4 0h-2v-4h2v4z\"/>\n",
              "    </g>\n",
              "</svg>\n",
              "  </button>\n",
              "\n",
              "<style>\n",
              "  .colab-df-quickchart {\n",
              "    background-color: #E8F0FE;\n",
              "    border: none;\n",
              "    border-radius: 50%;\n",
              "    cursor: pointer;\n",
              "    display: none;\n",
              "    fill: #1967D2;\n",
              "    height: 32px;\n",
              "    padding: 0 0 0 0;\n",
              "    width: 32px;\n",
              "  }\n",
              "\n",
              "  .colab-df-quickchart:hover {\n",
              "    background-color: #E2EBFA;\n",
              "    box-shadow: 0px 1px 2px rgba(60, 64, 67, 0.3), 0px 1px 3px 1px rgba(60, 64, 67, 0.15);\n",
              "    fill: #174EA6;\n",
              "  }\n",
              "\n",
              "  [theme=dark] .colab-df-quickchart {\n",
              "    background-color: #3B4455;\n",
              "    fill: #D2E3FC;\n",
              "  }\n",
              "\n",
              "  [theme=dark] .colab-df-quickchart:hover {\n",
              "    background-color: #434B5C;\n",
              "    box-shadow: 0px 1px 3px 1px rgba(0, 0, 0, 0.15);\n",
              "    filter: drop-shadow(0px 1px 2px rgba(0, 0, 0, 0.3));\n",
              "    fill: #FFFFFF;\n",
              "  }\n",
              "</style>\n",
              "\n",
              "  <script>\n",
              "    async function quickchart(key) {\n",
              "      const charts = await google.colab.kernel.invokeFunction(\n",
              "          'suggestCharts', [key], {});\n",
              "    }\n",
              "    (() => {\n",
              "      let quickchartButtonEl =\n",
              "        document.querySelector('#df-332b92df-158d-41b9-a271-1c3a621c8d14 button');\n",
              "      quickchartButtonEl.style.display =\n",
              "        google.colab.kernel.accessAllowed ? 'block' : 'none';\n",
              "    })();\n",
              "  </script>\n",
              "</div>\n",
              "    </div>\n",
              "  </div>\n"
            ]
          },
          "metadata": {},
          "execution_count": 7
        }
      ]
    },
    {
      "cell_type": "markdown",
      "source": [
        "## SGのみのCSV読み込み→処理→出力\n",
        "\n",
        "* SGのデータを[ここ](https://hdsilver.htdb.jp/rvgvj8a/top/index/urlparams/JTJGcnZndmo4YSUyRjMlMkZkYmdJZCUyRjEwMDEwMCUyRmRiU2NoZW1hSWQlMkYxMDE5OTElMkZtZW51SWQlMkYxMDY0MTQlMkZyZWNvcmRJZCUyRg%3D%3D)からダウンロード。\n",
        "* 請求月を「2021年1月以降」で抽出\n",
        "* `sg.csv` にリネームして [このフォルダ](https://drive.google.com/drive/folders/1G7ZJmUXtMXu9x5lo2iXIQdfdlAciJqw3)に保存。\n"
      ],
      "metadata": {
        "id": "WoPZ7PylaDfX"
      }
    },
    {
      "cell_type": "code",
      "source": [
        "sg_df = pd.read_csv(\"/content/drive/Shareddrives/BI推進部/NRR算出/元データCSV/sg.csv\",encoding=\"cp932\")\n",
        "sg_columns = [\"請求月\",\"クライアント名\",\"請求項目名\",\"案件ID\",\"請求金額\",\"明細キー\",\"請求ID\",\"開始月\",\"終了月\",\"契約形態\",\"取引先ID\",\"取引先名\"]\n",
        "\n",
        "# カラムチェック\n",
        "for column in sg_columns:\n",
        "    if column not in sg_df.columns:\n",
        "        raise ValueError(f\"csvに[{column}]のカラム名が存在しません\")\n",
        "\n",
        "sg_df = sg_df.rename(columns={\"請求月\": \"対象年月\", \"クライアント名\":\"取引先名\", \"開始月\":\"開始日\", \"終了月\":\"終了日\", \"請求金額\":\"請求額\"})\n",
        "\n",
        "# datetimeに変換\n",
        "sg_df[\"対象年月\"] = pd.to_datetime(sg_df[\"対象年月\"])\n",
        "sg_df[\"開始日\"] = pd.to_datetime(sg_df[\"開始日\"])\n",
        "sg_df[\"終了日\"] = pd.to_datetime(sg_df[\"終了日\"])\n",
        "\n",
        "\n",
        "# 「明細」が含まれてるので、請求IDごとに1行だけ残す。重複の場合、一番上の行が残る\n",
        "sg_df = sg_df.drop_duplicates(subset=\"請求ID\")\n",
        "\n",
        "# 使わない(使えない)列を消す\n",
        "sg_df = sg_df.drop(['請求項目名', '明細キー'], axis=1)\n",
        "\n",
        "# 欠損チェック (やっつけ)\n",
        "a = sg_df[\"対象年月\"].isnull().sum()\n",
        "b = sg_df[\"請求額\"].isnull().sum()\n",
        "c = sg_df[\"取引先ID\"].isnull().sum()\n",
        "d = sg_df[\"案件ID\"].isnull().sum()\n",
        "if a+b+c+d > 0:\n",
        "  raise ValueError(\"必須項目に空欄がある\")\n",
        "\n",
        "# 書き出しておく\n",
        "sg_df.to_csv(\"/content/drive/Shareddrives/BI推進部/NRR算出/加工済データCSV/SG_rakuraku.csv\", index=False)\n",
        "\n",
        "sg_df"
      ],
      "metadata": {
        "colab": {
          "base_uri": "https://localhost:8080/",
          "height": 424
        },
        "id": "887-sTWeaRFb",
        "outputId": "920f8700-2ccd-435c-f916-0fc7078f69f1"
      },
      "execution_count": null,
      "outputs": [
        {
          "output_type": "execute_result",
          "data": {
            "text/plain": [
              "           対象年月              取引先名                  案件ID      請求額  \\\n",
              "0    2023-07-01             東京女学館  SG-Service-000000004     8333   \n",
              "24   2023-07-01          仙台市健康福祉局  SG-Service-000001158  1469568   \n",
              "27   2023-06-01       国士舘中学校・高等学校  SG-Service-000000037     8333   \n",
              "51   2023-06-01         アディッシュプラス  SG-Service-000000509    19840   \n",
              "56   2023-06-01     ダイヤル・サービス株式会社  SG-Service-000000836   489666   \n",
              "...         ...               ...                   ...      ...   \n",
              "9153 2021-01-01          川越市教育委員会  SG-Service-000001062    81666   \n",
              "9154 2021-01-01       聖学院中学校・高等学校  SG-Service-000001169    25000   \n",
              "9158 2021-03-01  大妻女子大学（大学院・短期大学）  SG-Service-000000229    80500   \n",
              "9163 2021-02-01  大妻女子大学（大学院・短期大学）  SG-Service-000000229    80500   \n",
              "9168 2021-01-01  大妻女子大学（大学院・短期大学）  SG-Service-000000229    80500   \n",
              "\n",
              "                     請求ID        開始日        終了日      契約形態       取引先ID  \\\n",
              "0     SG-Charge-000004859 2008-05-01 2024-06-01        SG  C-00001917   \n",
              "24    SG-Charge-000004858 2020-12-01 2024-03-01  SNS相談・通報  C-00017351   \n",
              "27    SG-Charge-000004857 2013-06-01 2024-05-01        SG  C-00012087   \n",
              "51    SG-Charge-000004856        NaT        NaT      都度請求  C-00015919   \n",
              "56    SG-Charge-000004855        NaT 2024-03-01      都度請求  C-00005236   \n",
              "...                   ...        ...        ...       ...         ...   \n",
              "9153  SG-Charge-000003230 2019-04-01 2021-03-01        SG  C-00017283   \n",
              "9154  SG-Charge-000003229 2021-01-01 2022-03-01        SG  C-00017362   \n",
              "9158  SG-Charge-000002823 2013-10-01 2024-03-01        SG  C-00014808   \n",
              "9163  SG-Charge-000002822 2013-10-01 2024-03-01        SG  C-00014808   \n",
              "9168  SG-Charge-000002821 2013-10-01 2024-03-01        SG  C-00014808   \n",
              "\n",
              "               取引先名  \n",
              "0             東京女学館  \n",
              "24         仙台市健康福祉局  \n",
              "27      国士舘中学校・高等学校  \n",
              "51        アディッシュプラス  \n",
              "56    ダイヤル・サービス株式会社  \n",
              "...             ...  \n",
              "9153       川越市教育委員会  \n",
              "9154    聖学院中学校・高等学校  \n",
              "9158      学校法人 大妻学院  \n",
              "9163      学校法人 大妻学院  \n",
              "9168      学校法人 大妻学院  \n",
              "\n",
              "[1402 rows x 10 columns]"
            ],
            "text/html": [
              "\n",
              "  <div id=\"df-cf9f4060-969e-48fd-b5bb-f46a3ca44613\" class=\"colab-df-container\">\n",
              "    <div>\n",
              "<style scoped>\n",
              "    .dataframe tbody tr th:only-of-type {\n",
              "        vertical-align: middle;\n",
              "    }\n",
              "\n",
              "    .dataframe tbody tr th {\n",
              "        vertical-align: top;\n",
              "    }\n",
              "\n",
              "    .dataframe thead th {\n",
              "        text-align: right;\n",
              "    }\n",
              "</style>\n",
              "<table border=\"1\" class=\"dataframe\">\n",
              "  <thead>\n",
              "    <tr style=\"text-align: right;\">\n",
              "      <th></th>\n",
              "      <th>対象年月</th>\n",
              "      <th>取引先名</th>\n",
              "      <th>案件ID</th>\n",
              "      <th>請求額</th>\n",
              "      <th>請求ID</th>\n",
              "      <th>開始日</th>\n",
              "      <th>終了日</th>\n",
              "      <th>契約形態</th>\n",
              "      <th>取引先ID</th>\n",
              "      <th>取引先名</th>\n",
              "    </tr>\n",
              "  </thead>\n",
              "  <tbody>\n",
              "    <tr>\n",
              "      <th>0</th>\n",
              "      <td>2023-07-01</td>\n",
              "      <td>東京女学館</td>\n",
              "      <td>SG-Service-000000004</td>\n",
              "      <td>8333</td>\n",
              "      <td>SG-Charge-000004859</td>\n",
              "      <td>2008-05-01</td>\n",
              "      <td>2024-06-01</td>\n",
              "      <td>SG</td>\n",
              "      <td>C-00001917</td>\n",
              "      <td>東京女学館</td>\n",
              "    </tr>\n",
              "    <tr>\n",
              "      <th>24</th>\n",
              "      <td>2023-07-01</td>\n",
              "      <td>仙台市健康福祉局</td>\n",
              "      <td>SG-Service-000001158</td>\n",
              "      <td>1469568</td>\n",
              "      <td>SG-Charge-000004858</td>\n",
              "      <td>2020-12-01</td>\n",
              "      <td>2024-03-01</td>\n",
              "      <td>SNS相談・通報</td>\n",
              "      <td>C-00017351</td>\n",
              "      <td>仙台市健康福祉局</td>\n",
              "    </tr>\n",
              "    <tr>\n",
              "      <th>27</th>\n",
              "      <td>2023-06-01</td>\n",
              "      <td>国士舘中学校・高等学校</td>\n",
              "      <td>SG-Service-000000037</td>\n",
              "      <td>8333</td>\n",
              "      <td>SG-Charge-000004857</td>\n",
              "      <td>2013-06-01</td>\n",
              "      <td>2024-05-01</td>\n",
              "      <td>SG</td>\n",
              "      <td>C-00012087</td>\n",
              "      <td>国士舘中学校・高等学校</td>\n",
              "    </tr>\n",
              "    <tr>\n",
              "      <th>51</th>\n",
              "      <td>2023-06-01</td>\n",
              "      <td>アディッシュプラス</td>\n",
              "      <td>SG-Service-000000509</td>\n",
              "      <td>19840</td>\n",
              "      <td>SG-Charge-000004856</td>\n",
              "      <td>NaT</td>\n",
              "      <td>NaT</td>\n",
              "      <td>都度請求</td>\n",
              "      <td>C-00015919</td>\n",
              "      <td>アディッシュプラス</td>\n",
              "    </tr>\n",
              "    <tr>\n",
              "      <th>56</th>\n",
              "      <td>2023-06-01</td>\n",
              "      <td>ダイヤル・サービス株式会社</td>\n",
              "      <td>SG-Service-000000836</td>\n",
              "      <td>489666</td>\n",
              "      <td>SG-Charge-000004855</td>\n",
              "      <td>NaT</td>\n",
              "      <td>2024-03-01</td>\n",
              "      <td>都度請求</td>\n",
              "      <td>C-00005236</td>\n",
              "      <td>ダイヤル・サービス株式会社</td>\n",
              "    </tr>\n",
              "    <tr>\n",
              "      <th>...</th>\n",
              "      <td>...</td>\n",
              "      <td>...</td>\n",
              "      <td>...</td>\n",
              "      <td>...</td>\n",
              "      <td>...</td>\n",
              "      <td>...</td>\n",
              "      <td>...</td>\n",
              "      <td>...</td>\n",
              "      <td>...</td>\n",
              "      <td>...</td>\n",
              "    </tr>\n",
              "    <tr>\n",
              "      <th>9153</th>\n",
              "      <td>2021-01-01</td>\n",
              "      <td>川越市教育委員会</td>\n",
              "      <td>SG-Service-000001062</td>\n",
              "      <td>81666</td>\n",
              "      <td>SG-Charge-000003230</td>\n",
              "      <td>2019-04-01</td>\n",
              "      <td>2021-03-01</td>\n",
              "      <td>SG</td>\n",
              "      <td>C-00017283</td>\n",
              "      <td>川越市教育委員会</td>\n",
              "    </tr>\n",
              "    <tr>\n",
              "      <th>9154</th>\n",
              "      <td>2021-01-01</td>\n",
              "      <td>聖学院中学校・高等学校</td>\n",
              "      <td>SG-Service-000001169</td>\n",
              "      <td>25000</td>\n",
              "      <td>SG-Charge-000003229</td>\n",
              "      <td>2021-01-01</td>\n",
              "      <td>2022-03-01</td>\n",
              "      <td>SG</td>\n",
              "      <td>C-00017362</td>\n",
              "      <td>聖学院中学校・高等学校</td>\n",
              "    </tr>\n",
              "    <tr>\n",
              "      <th>9158</th>\n",
              "      <td>2021-03-01</td>\n",
              "      <td>大妻女子大学（大学院・短期大学）</td>\n",
              "      <td>SG-Service-000000229</td>\n",
              "      <td>80500</td>\n",
              "      <td>SG-Charge-000002823</td>\n",
              "      <td>2013-10-01</td>\n",
              "      <td>2024-03-01</td>\n",
              "      <td>SG</td>\n",
              "      <td>C-00014808</td>\n",
              "      <td>学校法人 大妻学院</td>\n",
              "    </tr>\n",
              "    <tr>\n",
              "      <th>9163</th>\n",
              "      <td>2021-02-01</td>\n",
              "      <td>大妻女子大学（大学院・短期大学）</td>\n",
              "      <td>SG-Service-000000229</td>\n",
              "      <td>80500</td>\n",
              "      <td>SG-Charge-000002822</td>\n",
              "      <td>2013-10-01</td>\n",
              "      <td>2024-03-01</td>\n",
              "      <td>SG</td>\n",
              "      <td>C-00014808</td>\n",
              "      <td>学校法人 大妻学院</td>\n",
              "    </tr>\n",
              "    <tr>\n",
              "      <th>9168</th>\n",
              "      <td>2021-01-01</td>\n",
              "      <td>大妻女子大学（大学院・短期大学）</td>\n",
              "      <td>SG-Service-000000229</td>\n",
              "      <td>80500</td>\n",
              "      <td>SG-Charge-000002821</td>\n",
              "      <td>2013-10-01</td>\n",
              "      <td>2024-03-01</td>\n",
              "      <td>SG</td>\n",
              "      <td>C-00014808</td>\n",
              "      <td>学校法人 大妻学院</td>\n",
              "    </tr>\n",
              "  </tbody>\n",
              "</table>\n",
              "<p>1402 rows × 10 columns</p>\n",
              "</div>\n",
              "    <div class=\"colab-df-buttons\">\n",
              "\n",
              "  <div class=\"colab-df-container\">\n",
              "    <button class=\"colab-df-convert\" onclick=\"convertToInteractive('df-cf9f4060-969e-48fd-b5bb-f46a3ca44613')\"\n",
              "            title=\"Convert this dataframe to an interactive table.\"\n",
              "            style=\"display:none;\">\n",
              "\n",
              "  <svg xmlns=\"http://www.w3.org/2000/svg\" height=\"24px\" viewBox=\"0 -960 960 960\">\n",
              "    <path d=\"M120-120v-720h720v720H120Zm60-500h600v-160H180v160Zm220 220h160v-160H400v160Zm0 220h160v-160H400v160ZM180-400h160v-160H180v160Zm440 0h160v-160H620v160ZM180-180h160v-160H180v160Zm440 0h160v-160H620v160Z\"/>\n",
              "  </svg>\n",
              "    </button>\n",
              "\n",
              "  <style>\n",
              "    .colab-df-container {\n",
              "      display:flex;\n",
              "      gap: 12px;\n",
              "    }\n",
              "\n",
              "    .colab-df-convert {\n",
              "      background-color: #E8F0FE;\n",
              "      border: none;\n",
              "      border-radius: 50%;\n",
              "      cursor: pointer;\n",
              "      display: none;\n",
              "      fill: #1967D2;\n",
              "      height: 32px;\n",
              "      padding: 0 0 0 0;\n",
              "      width: 32px;\n",
              "    }\n",
              "\n",
              "    .colab-df-convert:hover {\n",
              "      background-color: #E2EBFA;\n",
              "      box-shadow: 0px 1px 2px rgba(60, 64, 67, 0.3), 0px 1px 3px 1px rgba(60, 64, 67, 0.15);\n",
              "      fill: #174EA6;\n",
              "    }\n",
              "\n",
              "    .colab-df-buttons div {\n",
              "      margin-bottom: 4px;\n",
              "    }\n",
              "\n",
              "    [theme=dark] .colab-df-convert {\n",
              "      background-color: #3B4455;\n",
              "      fill: #D2E3FC;\n",
              "    }\n",
              "\n",
              "    [theme=dark] .colab-df-convert:hover {\n",
              "      background-color: #434B5C;\n",
              "      box-shadow: 0px 1px 3px 1px rgba(0, 0, 0, 0.15);\n",
              "      filter: drop-shadow(0px 1px 2px rgba(0, 0, 0, 0.3));\n",
              "      fill: #FFFFFF;\n",
              "    }\n",
              "  </style>\n",
              "\n",
              "    <script>\n",
              "      const buttonEl =\n",
              "        document.querySelector('#df-cf9f4060-969e-48fd-b5bb-f46a3ca44613 button.colab-df-convert');\n",
              "      buttonEl.style.display =\n",
              "        google.colab.kernel.accessAllowed ? 'block' : 'none';\n",
              "\n",
              "      async function convertToInteractive(key) {\n",
              "        const element = document.querySelector('#df-cf9f4060-969e-48fd-b5bb-f46a3ca44613');\n",
              "        const dataTable =\n",
              "          await google.colab.kernel.invokeFunction('convertToInteractive',\n",
              "                                                    [key], {});\n",
              "        if (!dataTable) return;\n",
              "\n",
              "        const docLinkHtml = 'Like what you see? Visit the ' +\n",
              "          '<a target=\"_blank\" href=https://colab.research.google.com/notebooks/data_table.ipynb>data table notebook</a>'\n",
              "          + ' to learn more about interactive tables.';\n",
              "        element.innerHTML = '';\n",
              "        dataTable['output_type'] = 'display_data';\n",
              "        await google.colab.output.renderOutput(dataTable, element);\n",
              "        const docLink = document.createElement('div');\n",
              "        docLink.innerHTML = docLinkHtml;\n",
              "        element.appendChild(docLink);\n",
              "      }\n",
              "    </script>\n",
              "  </div>\n",
              "\n",
              "\n",
              "<div id=\"df-88cac30b-4c22-48e0-a7f8-eb3822b6c919\">\n",
              "  <button class=\"colab-df-quickchart\" onclick=\"quickchart('df-88cac30b-4c22-48e0-a7f8-eb3822b6c919')\"\n",
              "            title=\"Suggest charts.\"\n",
              "            style=\"display:none;\">\n",
              "\n",
              "<svg xmlns=\"http://www.w3.org/2000/svg\" height=\"24px\"viewBox=\"0 0 24 24\"\n",
              "     width=\"24px\">\n",
              "    <g>\n",
              "        <path d=\"M19 3H5c-1.1 0-2 .9-2 2v14c0 1.1.9 2 2 2h14c1.1 0 2-.9 2-2V5c0-1.1-.9-2-2-2zM9 17H7v-7h2v7zm4 0h-2V7h2v10zm4 0h-2v-4h2v4z\"/>\n",
              "    </g>\n",
              "</svg>\n",
              "  </button>\n",
              "\n",
              "<style>\n",
              "  .colab-df-quickchart {\n",
              "    background-color: #E8F0FE;\n",
              "    border: none;\n",
              "    border-radius: 50%;\n",
              "    cursor: pointer;\n",
              "    display: none;\n",
              "    fill: #1967D2;\n",
              "    height: 32px;\n",
              "    padding: 0 0 0 0;\n",
              "    width: 32px;\n",
              "  }\n",
              "\n",
              "  .colab-df-quickchart:hover {\n",
              "    background-color: #E2EBFA;\n",
              "    box-shadow: 0px 1px 2px rgba(60, 64, 67, 0.3), 0px 1px 3px 1px rgba(60, 64, 67, 0.15);\n",
              "    fill: #174EA6;\n",
              "  }\n",
              "\n",
              "  [theme=dark] .colab-df-quickchart {\n",
              "    background-color: #3B4455;\n",
              "    fill: #D2E3FC;\n",
              "  }\n",
              "\n",
              "  [theme=dark] .colab-df-quickchart:hover {\n",
              "    background-color: #434B5C;\n",
              "    box-shadow: 0px 1px 3px 1px rgba(0, 0, 0, 0.15);\n",
              "    filter: drop-shadow(0px 1px 2px rgba(0, 0, 0, 0.3));\n",
              "    fill: #FFFFFF;\n",
              "  }\n",
              "</style>\n",
              "\n",
              "  <script>\n",
              "    async function quickchart(key) {\n",
              "      const charts = await google.colab.kernel.invokeFunction(\n",
              "          'suggestCharts', [key], {});\n",
              "    }\n",
              "    (() => {\n",
              "      let quickchartButtonEl =\n",
              "        document.querySelector('#df-88cac30b-4c22-48e0-a7f8-eb3822b6c919 button');\n",
              "      quickchartButtonEl.style.display =\n",
              "        google.colab.kernel.accessAllowed ? 'block' : 'none';\n",
              "    })();\n",
              "  </script>\n",
              "</div>\n",
              "    </div>\n",
              "  </div>\n"
            ]
          },
          "metadata": {},
          "execution_count": 8
        }
      ]
    },
    {
      "cell_type": "markdown",
      "metadata": {
        "id": "aRWoNuF00IY6"
      },
      "source": [
        "# 2.NRR算出用のデータ処理"
      ]
    },
    {
      "cell_type": "markdown",
      "source": [
        "- 以下、 1. 楽楽販売からDLしたCSVの処理 の実行後のCSVファイルをもとに処理を実施"
      ],
      "metadata": {
        "id": "KcLYR5hErH2-"
      }
    },
    {
      "cell_type": "markdown",
      "source": [
        "## ライブラリのインポート、認証、接続"
      ],
      "metadata": {
        "id": "0fiZ6PlPBVo_"
      }
    },
    {
      "cell_type": "code",
      "execution_count": null,
      "metadata": {
        "colab": {
          "base_uri": "https://localhost:8080/"
        },
        "id": "SxdI31qMIcU8",
        "outputId": "99e2a6b5-4e9c-42b7-957d-5520aca3f520"
      },
      "outputs": [
        {
          "output_type": "stream",
          "name": "stdout",
          "text": [
            "Drive already mounted at /content/drive; to attempt to forcibly remount, call drive.mount(\"/content/drive\", force_remount=True).\n"
          ]
        }
      ],
      "source": [
        "# ドライブのマウント\n",
        "from google.colab import drive\n",
        "drive.mount('/content/drive')"
      ]
    },
    {
      "cell_type": "code",
      "source": [
        "# スプレッドシートの認証\n",
        "from google.colab import auth\n",
        "auth.authenticate_user()\n",
        "\n",
        "import gspread\n",
        "from google.auth import default\n",
        "creds, _ = default()\n",
        "\n",
        "gc = gspread.authorize(creds)"
      ],
      "metadata": {
        "id": "QHe1v6sRlBod"
      },
      "execution_count": null,
      "outputs": []
    },
    {
      "cell_type": "code",
      "source": [
        "# ライブラリをインポート\n",
        "import polars as pl\n",
        "from tqdm import tqdm\n",
        "from datetime import date\n",
        "from dateutil.relativedelta import relativedelta"
      ],
      "metadata": {
        "id": "lW9baB7cFO__"
      },
      "execution_count": null,
      "outputs": []
    },
    {
      "cell_type": "markdown",
      "source": [
        "## CSVを案件ごとに処理し、一時データとしてスプレッドシートへ書き出し"
      ],
      "metadata": {
        "id": "eMVRnjpYYE0r"
      }
    },
    {
      "cell_type": "markdown",
      "source": [
        "### CSVの処理、df作成"
      ],
      "metadata": {
        "id": "4ZpG_BxiBb2X"
      }
    },
    {
      "cell_type": "code",
      "execution_count": null,
      "metadata": {
        "colab": {
          "base_uri": "https://localhost:8080/",
          "height": 359
        },
        "id": "V62OD5y90Ja-",
        "outputId": "c3326de8-191b-458a-d100-bf9f8bf5665d"
      },
      "outputs": [
        {
          "output_type": "execute_result",
          "data": {
            "text/plain": [
              "shape: (5, 18)\n",
              "┌────────────┬────────────┬────────────┬─────────┬───┬───────────┬────────────┬─────────┬────────────┐\n",
              "│ 対象年月   ┆ 取引先名   ┆ 案件種別   ┆ 案件名  ┆ … ┆ 取引先ID  ┆ 移行先案件 ┆ 商品名  ┆ サービス名 │\n",
              "│ ---        ┆ ---        ┆ ---        ┆ ---     ┆   ┆ ---       ┆ ID         ┆ ---     ┆ ---        │\n",
              "│ date       ┆ str        ┆ str        ┆ str     ┆   ┆ str       ┆ ---        ┆ str     ┆ str        │\n",
              "│            ┆            ┆            ┆         ┆   ┆           ┆ str        ┆         ┆            │\n",
              "╞════════════╪════════════╪════════════╪═════════╪═══╪═══════════╪════════════╪═════════╪════════════╡\n",
              "│ 2023-08-01 ┆ 株式会社ク ┆ ランニング ┆ 株式会  ┆ … ┆ C-0001490 ┆ null       ┆ null    ┆ null       │\n",
              "│            ┆ レハ       ┆            ┆ 社クレ  ┆   ┆ 6         ┆            ┆         ┆            │\n",
              "│            ┆            ┆            ┆ ハ_Pazu ┆   ┆           ┆            ┆         ┆            │\n",
              "│ 2023-08-01 ┆ 株式会社グ ┆ ランニング ┆ Amazon  ┆ … ┆ C-0001736 ┆ null       ┆ null    ┆ null       │\n",
              "│            ┆ ラスフィッ ┆            ┆ プライ  ┆   ┆ 4         ┆            ┆         ┆            │\n",
              "│            ┆ シュ       ┆            ┆ ム_Inst ┆   ┆           ┆            ┆         ┆            │\n",
              "│            ┆            ┆            ┆ agram（ ┆   ┆           ┆            ┆         ┆            │\n",
              "│            ┆            ┆            ┆ 2023年8 ┆   ┆           ┆            ┆         ┆            │\n",
              "│            ┆            ┆            ┆ 月分_契 ┆   ┆           ┆            ┆         ┆            │\n",
              "│            ┆            ┆            ┆ 約…     ┆   ┆           ┆            ┆         ┆            │\n",
              "│ 2023-08-01 ┆ 株式会社電 ┆ ランニング ┆ IT導入  ┆ … ┆ C-0001640 ┆ null       ┆ null    ┆ null       │\n",
              "│            ┆ 通デジタル ┆            ┆ 補助金F ┆   ┆ 8         ┆            ┆         ┆            │\n",
              "│            ┆            ┆            ┆ acebook ┆   ┆           ┆            ┆         ┆            │\n",
              "│ 2023-08-01 ┆ 滋賀銀行   ┆ ランニング ┆ 滋賀銀  ┆ … ┆ C-0001563 ┆ null       ┆ null    ┆ null       │\n",
              "│            ┆            ┆            ┆ 行Faceb ┆   ┆ 5         ┆            ┆         ┆            │\n",
              "│            ┆            ┆            ┆ ookペー ┆   ┆           ┆            ┆         ┆            │\n",
              "│            ┆            ┆            ┆ ジ      ┆   ┆           ┆            ┆         ┆            │\n",
              "│ 2023-08-01 ┆ Q ONE株式  ┆ ランニング ┆ みんな  ┆ … ┆ C-0001727 ┆ null       ┆ null    ┆ null       │\n",
              "│            ┆ 会社       ┆            ┆ で早押  ┆   ┆ 3         ┆            ┆         ┆            │\n",
              "│            ┆            ┆            ┆ しクイ  ┆   ┆           ┆            ┆         ┆            │\n",
              "│            ┆            ┆            ┆ ズ_テキ ┆   ┆           ┆            ┆         ┆            │\n",
              "│            ┆            ┆            ┆ スト監  ┆   ┆           ┆            ┆         ┆            │\n",
              "│            ┆            ┆            ┆ 視      ┆   ┆           ┆            ┆         ┆            │\n",
              "└────────────┴────────────┴────────────┴─────────┴───┴───────────┴────────────┴─────────┴────────────┘"
            ],
            "text/html": [
              "<div><style>\n",
              ".dataframe > thead > tr > th,\n",
              ".dataframe > tbody > tr > td {\n",
              "  text-align: right;\n",
              "}\n",
              "</style>\n",
              "<small>shape: (5, 18)</small><table border=\"1\" class=\"dataframe\"><thead><tr><th>対象年月</th><th>取引先名</th><th>案件種別</th><th>案件名</th><th>計上部署</th><th>請求額</th><th>プロダクト名</th><th>案件マスタID</th><th>案件マスタ名</th><th>案件ID</th><th>明細ID</th><th>運用ステータス</th><th>開始日</th><th>終了日</th><th>取引先ID</th><th>移行先案件ID</th><th>商品名</th><th>サービス名</th></tr><tr><td>date</td><td>str</td><td>str</td><td>str</td><td>str</td><td>f64</td><td>str</td><td>str</td><td>str</td><td>str</td><td>str</td><td>str</td><td>date</td><td>date</td><td>str</td><td>str</td><td>str</td><td>str</td></tr></thead><tbody><tr><td>2023-08-01</td><td>&quot;株式会社クレハ&quot;</td><td>&quot;ランニング&quot;</td><td>&quot;株式会社クレハ_Pazu&quot;</td><td>&quot;SPY&quot;</td><td>40000.0</td><td>null</td><td>&quot;MONI-Service-M…</td><td>&quot;株式会社クレハ_Pazu&quot;</td><td>&quot;OMD-Service-00…</td><td>&quot;OMD-Report-004…</td><td>&quot;運用中（15日締請求案件）&quot;</td><td>2022-04-01</td><td>null</td><td>&quot;C-00014906&quot;</td><td>null</td><td>null</td><td>null</td></tr><tr><td>2023-08-01</td><td>&quot;株式会社グラスフィッシュ&quot;</td><td>&quot;ランニング&quot;</td><td>&quot;Amazonプライム_Ins…</td><td>&quot;SPY&quot;</td><td>10000.0</td><td>&quot;Police監視(国内)&quot;</td><td>&quot;MONI-Service-M…</td><td>&quot;Amazonプライム_SNS…</td><td>&quot;OMD-Service-00…</td><td>&quot;OMD-Report-003…</td><td>&quot;案件終了&quot;</td><td>2023-07-25</td><td>2023-07-31</td><td>&quot;C-00017364&quot;</td><td>null</td><td>null</td><td>null</td></tr><tr><td>2023-08-01</td><td>&quot;株式会社電通デジタル&quot;</td><td>&quot;ランニング&quot;</td><td>&quot;IT導入補助金Faceboo…</td><td>&quot;SPY&quot;</td><td>92500.0</td><td>&quot;PoS監視(国内)&quot;</td><td>&quot;MONI-Service-M…</td><td>&quot;IT導入補助金Faceboo…</td><td>&quot;OMD-Service-00…</td><td>&quot;OMD-Report-003…</td><td>&quot;運用中（その他請求案件）&quot;</td><td>2019-04-01</td><td>null</td><td>&quot;C-00016408&quot;</td><td>null</td><td>null</td><td>null</td></tr><tr><td>2023-08-01</td><td>&quot;滋賀銀行&quot;</td><td>&quot;ランニング&quot;</td><td>&quot;滋賀銀行Facebookペー…</td><td>&quot;SPY&quot;</td><td>65000.0</td><td>&quot;PoF監視(国内)&quot;</td><td>&quot;MONI-Service-M…</td><td>&quot;滋賀銀行Facebookペー…</td><td>&quot;OMD-Service-00…</td><td>&quot;OMD-Report-003…</td><td>&quot;運用中（その他請求案件）&quot;</td><td>2014-08-04</td><td>null</td><td>&quot;C-00015635&quot;</td><td>null</td><td>null</td><td>null</td></tr><tr><td>2023-08-01</td><td>&quot;Q ONE株式会社&quot;</td><td>&quot;ランニング&quot;</td><td>&quot;みんなで早押しクイズ_テキス…</td><td>&quot;MONI&quot;</td><td>420000.0</td><td>&quot;クライアントツール監視(国内…</td><td>&quot;MONI-Service-M…</td><td>&quot;みんなで早押しクイズ_テキス…</td><td>&quot;OMD-Service-00…</td><td>&quot;OMD-Report-003…</td><td>&quot;運用中（その他請求案件）&quot;</td><td>2020-01-14</td><td>null</td><td>&quot;C-00017273&quot;</td><td>null</td><td>null</td><td>null</td></tr></tbody></table></div>"
            ]
          },
          "metadata": {},
          "execution_count": 12
        }
      ],
      "source": [
        "# SG以外\n",
        "csv_others = pl.read_csv('/content/drive/Shareddrives/BI推進部/NRR算出/加工済データCSV/SG以外_rakuraku.csv')\n",
        "\n",
        "# 対象年月・開始日・終了日を日付型に変換、対象年月の降順でソート\n",
        "csv_others = csv_others.with_columns(\n",
        "    pl.col('対象年月').str.strptime(pl.Date, '%Y-%m-%d'),\n",
        "    pl.col('開始日').str.strptime(pl.Date, '%Y-%m-%d'),\n",
        "    pl.col('終了日').str.strptime(pl.Date, '%Y-%m-%d'),\n",
        "  ).select(pl.col('*').sort_by('対象年月', descending=True))\n",
        "\n",
        "csv_others.head()"
      ]
    },
    {
      "cell_type": "code",
      "source": [
        "# SGのみ\n",
        "csv_sg = pl.read_csv('/content/drive/Shareddrives/BI推進部/NRR算出/加工済データCSV/SG_rakuraku.csv')\n",
        "\n",
        "# 対象年月・開始日・終了日を日付型に変換、対象年月の降順でソート\n",
        "csv_sg = csv_sg.with_columns(\n",
        "    pl.col('対象年月').str.strptime(pl.Date, '%Y-%m-%d'),\n",
        "    pl.col('開始日').str.strptime(pl.Date, '%Y-%m-%d'),\n",
        "    pl.col('終了日').str.strptime(pl.Date, '%Y-%m-%d'),\n",
        "    pl.col('請求額').cast(pl.Float64),\n",
        "    pl.lit('SG').alias('計上部署')\n",
        "  ).select(pl.col('*').exclude('取引先名_duplicated_0').sort_by('対象年月', descending=True))\n",
        "\n",
        "csv_sg.head()"
      ],
      "metadata": {
        "colab": {
          "base_uri": "https://localhost:8080/",
          "height": 255
        },
        "id": "uhIAvMS1jKWM",
        "outputId": "e263ad57-a114-408c-92fe-e323a175ede7"
      },
      "execution_count": null,
      "outputs": [
        {
          "output_type": "execute_result",
          "data": {
            "text/plain": [
              "shape: (5, 10)\n",
              "┌────────────┬────────────┬──────────┬─────────┬───┬─────────┬────────────┬───────────┬────────────┐\n",
              "│ 対象年月   ┆ 取引先名   ┆ 案件ID   ┆ 請求額  ┆ … ┆ 終了日  ┆ 契約形態   ┆ 取引先ID  ┆ 計上部署   │\n",
              "│ ---        ┆ ---        ┆ ---      ┆ ---     ┆   ┆ ---     ┆ ---        ┆ ---       ┆ ---        │\n",
              "│ date       ┆ str        ┆ str      ┆ f64     ┆   ┆ date    ┆ str        ┆ str       ┆ str        │\n",
              "╞════════════╪════════════╪══════════╪═════════╪═══╪═════════╪════════════╪═══════════╪════════════╡\n",
              "│ 2023-07-01 ┆ 東京女学館 ┆ SG-Servi ┆ 8333.0  ┆ … ┆ 2024-06 ┆ SG         ┆ C-0000191 ┆ SG         │\n",
              "│            ┆            ┆ ce-00000 ┆         ┆   ┆ -01     ┆            ┆ 7         ┆            │\n",
              "│            ┆            ┆ 0004     ┆         ┆   ┆         ┆            ┆           ┆            │\n",
              "│ 2023-07-01 ┆ 仙台市健康 ┆ SG-Servi ┆ 1.46956 ┆ … ┆ 2024-03 ┆ SNS相談・  ┆ C-0001735 ┆ SG         │\n",
              "│            ┆ 福祉局     ┆ ce-00000 ┆ 8e6     ┆   ┆ -01     ┆ 通報       ┆ 1         ┆            │\n",
              "│            ┆            ┆ 1158     ┆         ┆   ┆         ┆            ┆           ┆            │\n",
              "│ 2023-06-01 ┆ 国士舘中学 ┆ SG-Servi ┆ 8333.0  ┆ … ┆ 2024-05 ┆ SG         ┆ C-0001208 ┆ SG         │\n",
              "│            ┆ 校・高等学 ┆ ce-00000 ┆         ┆   ┆ -01     ┆            ┆ 7         ┆            │\n",
              "│            ┆ 校         ┆ 0037     ┆         ┆   ┆         ┆            ┆           ┆            │\n",
              "│ 2023-06-01 ┆ アディッシ ┆ SG-Servi ┆ 19840.0 ┆ … ┆ null    ┆ 都度請求   ┆ C-0001591 ┆ SG         │\n",
              "│            ┆ ュプラス   ┆ ce-00000 ┆         ┆   ┆         ┆            ┆ 9         ┆            │\n",
              "│            ┆            ┆ 0509     ┆         ┆   ┆         ┆            ┆           ┆            │\n",
              "│ 2023-06-01 ┆ ダイヤル・ ┆ SG-Servi ┆ 489666. ┆ … ┆ 2024-03 ┆ 都度請求   ┆ C-0000523 ┆ SG         │\n",
              "│            ┆ サービス株 ┆ ce-00000 ┆ 0       ┆   ┆ -01     ┆            ┆ 6         ┆            │\n",
              "│            ┆ 式会社     ┆ 0836     ┆         ┆   ┆         ┆            ┆           ┆            │\n",
              "└────────────┴────────────┴──────────┴─────────┴───┴─────────┴────────────┴───────────┴────────────┘"
            ],
            "text/html": [
              "<div><style>\n",
              ".dataframe > thead > tr > th,\n",
              ".dataframe > tbody > tr > td {\n",
              "  text-align: right;\n",
              "}\n",
              "</style>\n",
              "<small>shape: (5, 10)</small><table border=\"1\" class=\"dataframe\"><thead><tr><th>対象年月</th><th>取引先名</th><th>案件ID</th><th>請求額</th><th>請求ID</th><th>開始日</th><th>終了日</th><th>契約形態</th><th>取引先ID</th><th>計上部署</th></tr><tr><td>date</td><td>str</td><td>str</td><td>f64</td><td>str</td><td>date</td><td>date</td><td>str</td><td>str</td><td>str</td></tr></thead><tbody><tr><td>2023-07-01</td><td>&quot;東京女学館&quot;</td><td>&quot;SG-Service-000…</td><td>8333.0</td><td>&quot;SG-Charge-0000…</td><td>2008-05-01</td><td>2024-06-01</td><td>&quot;SG&quot;</td><td>&quot;C-00001917&quot;</td><td>&quot;SG&quot;</td></tr><tr><td>2023-07-01</td><td>&quot;仙台市健康福祉局&quot;</td><td>&quot;SG-Service-000…</td><td>1.469568e6</td><td>&quot;SG-Charge-0000…</td><td>2020-12-01</td><td>2024-03-01</td><td>&quot;SNS相談・通報&quot;</td><td>&quot;C-00017351&quot;</td><td>&quot;SG&quot;</td></tr><tr><td>2023-06-01</td><td>&quot;国士舘中学校・高等学校&quot;</td><td>&quot;SG-Service-000…</td><td>8333.0</td><td>&quot;SG-Charge-0000…</td><td>2013-06-01</td><td>2024-05-01</td><td>&quot;SG&quot;</td><td>&quot;C-00012087&quot;</td><td>&quot;SG&quot;</td></tr><tr><td>2023-06-01</td><td>&quot;アディッシュプラス&quot;</td><td>&quot;SG-Service-000…</td><td>19840.0</td><td>&quot;SG-Charge-0000…</td><td>null</td><td>null</td><td>&quot;都度請求&quot;</td><td>&quot;C-00015919&quot;</td><td>&quot;SG&quot;</td></tr><tr><td>2023-06-01</td><td>&quot;ダイヤル・サービス株式会社&quot;</td><td>&quot;SG-Service-000…</td><td>489666.0</td><td>&quot;SG-Charge-0000…</td><td>null</td><td>2024-03-01</td><td>&quot;都度請求&quot;</td><td>&quot;C-00005236&quot;</td><td>&quot;SG&quot;</td></tr></tbody></table></div>"
            ]
          },
          "metadata": {},
          "execution_count": 13
        }
      ]
    },
    {
      "cell_type": "code",
      "source": [
        "# SG以外 と SGのみ の CSV をマージ\n",
        "csv_pl = pl.concat([csv_others, csv_sg], how='diagonal')\n",
        "csv_pl.head()"
      ],
      "metadata": {
        "colab": {
          "base_uri": "https://localhost:8080/",
          "height": 359
        },
        "id": "3Curd_w9j7FA",
        "outputId": "54591276-2d8c-4f24-ca44-920718ac38d6"
      },
      "execution_count": null,
      "outputs": [
        {
          "output_type": "execute_result",
          "data": {
            "text/plain": [
              "shape: (5, 20)\n",
              "┌────────────┬────────────┬────────────┬─────────┬───┬─────────┬────────────┬────────┬────────────┐\n",
              "│ 対象年月   ┆ 取引先名   ┆ 案件種別   ┆ 案件名  ┆ … ┆ 商品名  ┆ サービス名 ┆ 請求ID ┆ 契約形態   │\n",
              "│ ---        ┆ ---        ┆ ---        ┆ ---     ┆   ┆ ---     ┆ ---        ┆ ---    ┆ ---        │\n",
              "│ date       ┆ str        ┆ str        ┆ str     ┆   ┆ str     ┆ str        ┆ str    ┆ str        │\n",
              "╞════════════╪════════════╪════════════╪═════════╪═══╪═════════╪════════════╪════════╪════════════╡\n",
              "│ 2023-08-01 ┆ 株式会社ク ┆ ランニング ┆ 株式会  ┆ … ┆ null    ┆ null       ┆ null   ┆ null       │\n",
              "│            ┆ レハ       ┆            ┆ 社クレ  ┆   ┆         ┆            ┆        ┆            │\n",
              "│            ┆            ┆            ┆ ハ_Pazu ┆   ┆         ┆            ┆        ┆            │\n",
              "│ 2023-08-01 ┆ 株式会社グ ┆ ランニング ┆ Amazon  ┆ … ┆ null    ┆ null       ┆ null   ┆ null       │\n",
              "│            ┆ ラスフィッ ┆            ┆ プライ  ┆   ┆         ┆            ┆        ┆            │\n",
              "│            ┆ シュ       ┆            ┆ ム_Inst ┆   ┆         ┆            ┆        ┆            │\n",
              "│            ┆            ┆            ┆ agram（ ┆   ┆         ┆            ┆        ┆            │\n",
              "│            ┆            ┆            ┆ 2023年8 ┆   ┆         ┆            ┆        ┆            │\n",
              "│            ┆            ┆            ┆ 月分_契 ┆   ┆         ┆            ┆        ┆            │\n",
              "│            ┆            ┆            ┆ 約…     ┆   ┆         ┆            ┆        ┆            │\n",
              "│ 2023-08-01 ┆ 株式会社電 ┆ ランニング ┆ IT導入  ┆ … ┆ null    ┆ null       ┆ null   ┆ null       │\n",
              "│            ┆ 通デジタル ┆            ┆ 補助金F ┆   ┆         ┆            ┆        ┆            │\n",
              "│            ┆            ┆            ┆ acebook ┆   ┆         ┆            ┆        ┆            │\n",
              "│ 2023-08-01 ┆ 滋賀銀行   ┆ ランニング ┆ 滋賀銀  ┆ … ┆ null    ┆ null       ┆ null   ┆ null       │\n",
              "│            ┆            ┆            ┆ 行Faceb ┆   ┆         ┆            ┆        ┆            │\n",
              "│            ┆            ┆            ┆ ookペー ┆   ┆         ┆            ┆        ┆            │\n",
              "│            ┆            ┆            ┆ ジ      ┆   ┆         ┆            ┆        ┆            │\n",
              "│ 2023-08-01 ┆ Q ONE株式  ┆ ランニング ┆ みんな  ┆ … ┆ null    ┆ null       ┆ null   ┆ null       │\n",
              "│            ┆ 会社       ┆            ┆ で早押  ┆   ┆         ┆            ┆        ┆            │\n",
              "│            ┆            ┆            ┆ しクイ  ┆   ┆         ┆            ┆        ┆            │\n",
              "│            ┆            ┆            ┆ ズ_テキ ┆   ┆         ┆            ┆        ┆            │\n",
              "│            ┆            ┆            ┆ スト監  ┆   ┆         ┆            ┆        ┆            │\n",
              "│            ┆            ┆            ┆ 視      ┆   ┆         ┆            ┆        ┆            │\n",
              "└────────────┴────────────┴────────────┴─────────┴───┴─────────┴────────────┴────────┴────────────┘"
            ],
            "text/html": [
              "<div><style>\n",
              ".dataframe > thead > tr > th,\n",
              ".dataframe > tbody > tr > td {\n",
              "  text-align: right;\n",
              "}\n",
              "</style>\n",
              "<small>shape: (5, 20)</small><table border=\"1\" class=\"dataframe\"><thead><tr><th>対象年月</th><th>取引先名</th><th>案件種別</th><th>案件名</th><th>計上部署</th><th>請求額</th><th>プロダクト名</th><th>案件マスタID</th><th>案件マスタ名</th><th>案件ID</th><th>明細ID</th><th>運用ステータス</th><th>開始日</th><th>終了日</th><th>取引先ID</th><th>移行先案件ID</th><th>商品名</th><th>サービス名</th><th>請求ID</th><th>契約形態</th></tr><tr><td>date</td><td>str</td><td>str</td><td>str</td><td>str</td><td>f64</td><td>str</td><td>str</td><td>str</td><td>str</td><td>str</td><td>str</td><td>date</td><td>date</td><td>str</td><td>str</td><td>str</td><td>str</td><td>str</td><td>str</td></tr></thead><tbody><tr><td>2023-08-01</td><td>&quot;株式会社クレハ&quot;</td><td>&quot;ランニング&quot;</td><td>&quot;株式会社クレハ_Pazu&quot;</td><td>&quot;SPY&quot;</td><td>40000.0</td><td>null</td><td>&quot;MONI-Service-M…</td><td>&quot;株式会社クレハ_Pazu&quot;</td><td>&quot;OMD-Service-00…</td><td>&quot;OMD-Report-004…</td><td>&quot;運用中（15日締請求案件）&quot;</td><td>2022-04-01</td><td>null</td><td>&quot;C-00014906&quot;</td><td>null</td><td>null</td><td>null</td><td>null</td><td>null</td></tr><tr><td>2023-08-01</td><td>&quot;株式会社グラスフィッシュ&quot;</td><td>&quot;ランニング&quot;</td><td>&quot;Amazonプライム_Ins…</td><td>&quot;SPY&quot;</td><td>10000.0</td><td>&quot;Police監視(国内)&quot;</td><td>&quot;MONI-Service-M…</td><td>&quot;Amazonプライム_SNS…</td><td>&quot;OMD-Service-00…</td><td>&quot;OMD-Report-003…</td><td>&quot;案件終了&quot;</td><td>2023-07-25</td><td>2023-07-31</td><td>&quot;C-00017364&quot;</td><td>null</td><td>null</td><td>null</td><td>null</td><td>null</td></tr><tr><td>2023-08-01</td><td>&quot;株式会社電通デジタル&quot;</td><td>&quot;ランニング&quot;</td><td>&quot;IT導入補助金Faceboo…</td><td>&quot;SPY&quot;</td><td>92500.0</td><td>&quot;PoS監視(国内)&quot;</td><td>&quot;MONI-Service-M…</td><td>&quot;IT導入補助金Faceboo…</td><td>&quot;OMD-Service-00…</td><td>&quot;OMD-Report-003…</td><td>&quot;運用中（その他請求案件）&quot;</td><td>2019-04-01</td><td>null</td><td>&quot;C-00016408&quot;</td><td>null</td><td>null</td><td>null</td><td>null</td><td>null</td></tr><tr><td>2023-08-01</td><td>&quot;滋賀銀行&quot;</td><td>&quot;ランニング&quot;</td><td>&quot;滋賀銀行Facebookペー…</td><td>&quot;SPY&quot;</td><td>65000.0</td><td>&quot;PoF監視(国内)&quot;</td><td>&quot;MONI-Service-M…</td><td>&quot;滋賀銀行Facebookペー…</td><td>&quot;OMD-Service-00…</td><td>&quot;OMD-Report-003…</td><td>&quot;運用中（その他請求案件）&quot;</td><td>2014-08-04</td><td>null</td><td>&quot;C-00015635&quot;</td><td>null</td><td>null</td><td>null</td><td>null</td><td>null</td></tr><tr><td>2023-08-01</td><td>&quot;Q ONE株式会社&quot;</td><td>&quot;ランニング&quot;</td><td>&quot;みんなで早押しクイズ_テキス…</td><td>&quot;MONI&quot;</td><td>420000.0</td><td>&quot;クライアントツール監視(国内…</td><td>&quot;MONI-Service-M…</td><td>&quot;みんなで早押しクイズ_テキス…</td><td>&quot;OMD-Service-00…</td><td>&quot;OMD-Report-003…</td><td>&quot;運用中（その他請求案件）&quot;</td><td>2020-01-14</td><td>null</td><td>&quot;C-00017273&quot;</td><td>null</td><td>null</td><td>null</td><td>null</td><td>null</td></tr></tbody></table></div>"
            ]
          },
          "metadata": {},
          "execution_count": 14
        }
      ]
    },
    {
      "cell_type": "code",
      "execution_count": null,
      "metadata": {
        "colab": {
          "base_uri": "https://localhost:8080/",
          "height": 255
        },
        "id": "Y77GhlVK9V_Y",
        "outputId": "cdc25826-d068-4102-d9fd-d2b569d8650f"
      },
      "outputs": [
        {
          "output_type": "execute_result",
          "data": {
            "text/plain": [
              "shape: (5, 6)\n",
              "┌────────────┬────────────┬──────────────┬────────────┬───────────────────────────┬─────────────┐\n",
              "│ 対象年月   ┆ 計上部署   ┆ 部署グループ ┆ 取引先ID   ┆ 案件ID                    ┆ 請求額_当月 │\n",
              "│ ---        ┆ ---        ┆ ---          ┆ ---        ┆ ---                       ┆ ---         │\n",
              "│ date       ┆ str        ┆ str          ┆ str        ┆ str                       ┆ f64         │\n",
              "╞════════════╪════════════╪══════════════╪════════════╪═══════════════════════════╪═════════════╡\n",
              "│ 2021-01-01 ┆ CRSD       ┆ CS           ┆ C-00001489 ┆ OMD-SAS-Service-000001231 ┆ 28000.0     │\n",
              "│ 2021-01-01 ┆ CRSD       ┆ CS           ┆ C-00001489 ┆ OMD-SAS-Service-000002072 ┆ 30000.0     │\n",
              "│ 2021-01-01 ┆ CRSD       ┆ CS           ┆ C-00001489 ┆ OMD-SAS-Service-000002073 ┆ 0.0         │\n",
              "│ 2021-01-01 ┆ CRSD       ┆ CS           ┆ C-00001489 ┆ OMD-SAS-Service-000002239 ┆ 42000.0     │\n",
              "│ 2021-01-01 ┆ CSJP       ┆ CS           ┆ C-00001489 ┆ OMD-SAS-Service-000003149 ┆ 307500.0    │\n",
              "└────────────┴────────────┴──────────────┴────────────┴───────────────────────────┴─────────────┘"
            ],
            "text/html": [
              "<div><style>\n",
              ".dataframe > thead > tr > th,\n",
              ".dataframe > tbody > tr > td {\n",
              "  text-align: right;\n",
              "}\n",
              "</style>\n",
              "<small>shape: (5, 6)</small><table border=\"1\" class=\"dataframe\"><thead><tr><th>対象年月</th><th>計上部署</th><th>部署グループ</th><th>取引先ID</th><th>案件ID</th><th>請求額_当月</th></tr><tr><td>date</td><td>str</td><td>str</td><td>str</td><td>str</td><td>f64</td></tr></thead><tbody><tr><td>2021-01-01</td><td>&quot;CRSD&quot;</td><td>&quot;CS&quot;</td><td>&quot;C-00001489&quot;</td><td>&quot;OMD-SAS-Servic…</td><td>28000.0</td></tr><tr><td>2021-01-01</td><td>&quot;CRSD&quot;</td><td>&quot;CS&quot;</td><td>&quot;C-00001489&quot;</td><td>&quot;OMD-SAS-Servic…</td><td>30000.0</td></tr><tr><td>2021-01-01</td><td>&quot;CRSD&quot;</td><td>&quot;CS&quot;</td><td>&quot;C-00001489&quot;</td><td>&quot;OMD-SAS-Servic…</td><td>0.0</td></tr><tr><td>2021-01-01</td><td>&quot;CRSD&quot;</td><td>&quot;CS&quot;</td><td>&quot;C-00001489&quot;</td><td>&quot;OMD-SAS-Servic…</td><td>42000.0</td></tr><tr><td>2021-01-01</td><td>&quot;CSJP&quot;</td><td>&quot;CS&quot;</td><td>&quot;C-00001489&quot;</td><td>&quot;OMD-SAS-Servic…</td><td>307500.0</td></tr></tbody></table></div>"
            ]
          },
          "metadata": {},
          "execution_count": 15
        }
      ],
      "source": [
        "# 部署のマッピング用\n",
        "div_list_cs = ['CRSD', 'CS', 'CSC', 'CSEN', 'CSJP', 'ENBT', 'ETB', 'GBB', 'SUPP']\n",
        "div_list_moni = ['MONI', 'EPB', 'OME', 'OMS']\n",
        "div_list_spy = ['SPY']\n",
        "\n",
        "temp_df = (\n",
        "  csv_pl\n",
        "  # 対象年月～案件IDでグループ化・請求額のSUM\n",
        "  .groupby('対象年月', '計上部署', '取引先ID', '案件ID')\n",
        "  .sum()\n",
        "  # 「請求額」のカラム名を変更\n",
        "  .with_columns(pl.col('請求額').alias('請求額_当月'))\n",
        "  # 部署を CS系, MONI系, SPY系 にマッピング\n",
        "  .with_columns(\n",
        "    pl\n",
        "    .when(pl.col(\"計上部署\").is_in(div_list_cs)).then(pl.lit('CS'))\n",
        "    .when(pl.col(\"計上部署\").is_in(div_list_moni)).then(pl.lit('MONI'))\n",
        "    .when(pl.col(\"計上部署\").is_in(div_list_spy)).then(pl.lit('SPY'))\n",
        "    .otherwise(pl.col(\"計上部署\"))\n",
        "    .alias('部署グループ')\n",
        "  )\n",
        "  # 必要な列のみに絞る・対象年月～案件IDで並び替え\n",
        "  .select(\n",
        "    pl.col('対象年月', '計上部署', '部署グループ', '取引先ID', '案件ID', '請求額_当月')\n",
        "    .sort_by('対象年月', '取引先ID', '案件ID')\n",
        "  )\n",
        ")\n",
        "temp_df.head()"
      ]
    },
    {
      "cell_type": "code",
      "source": [
        "# CSV内の同一案件の一番新しいレコードから 取引先名, 案件名, 開始日, 終了日 を追加\n",
        "def getLatestNames(row):\n",
        "  val = csv_pl.filter(\n",
        "    (pl.col('計上部署') == row[1]) &\n",
        "    (pl.col('取引先ID') == row[3]) &\n",
        "    (pl.col('案件ID') == row[4])\n",
        "  )\n",
        "  client = val[0]['取引先名'][0]\n",
        "  project = val[0]['案件名'][0]\n",
        "  start = val[0]['開始日'][0]\n",
        "  end = val[0]['終了日'][0]\n",
        "  return (client, project, start, end)\n",
        "\n",
        "new_cols = temp_df.apply(getLatestNames)\n",
        "temp_df = temp_df.with_columns(\n",
        "  new_cols['column_0'].alias('取引先名'),\n",
        "  new_cols['column_1'].alias('案件名'),\n",
        "  new_cols['column_2'].alias('開始日'),\n",
        "  new_cols['column_3'].alias('終了日')\n",
        ").select(\n",
        "  pl.col('対象年月', '計上部署', '部署グループ', '取引先ID', '案件ID', '開始日', '終了日', '取引先名', '案件名', '請求額_当月')\n",
        ")\n",
        "\n",
        "temp_df"
      ],
      "metadata": {
        "colab": {
          "base_uri": "https://localhost:8080/",
          "height": 882
        },
        "id": "v7CKP5oDPPb9",
        "outputId": "bc73e8e1-209a-4f0b-fe85-ea544d160387"
      },
      "execution_count": null,
      "outputs": [
        {
          "output_type": "execute_result",
          "data": {
            "text/plain": [
              "shape: (25_821, 10)\n",
              "┌────────────┬────────────┬────────────┬───────────┬───┬─────────┬────────────┬─────────┬────────────┐\n",
              "│ 対象年月   ┆ 計上部署   ┆ 部署グルー ┆ 取引先ID  ┆ … ┆ 終了日  ┆ 取引先名   ┆ 案件名  ┆ 請求額_当  │\n",
              "│ ---        ┆ ---        ┆ プ         ┆ ---       ┆   ┆ ---     ┆ ---        ┆ ---     ┆ 月         │\n",
              "│ date       ┆ str        ┆ ---        ┆ str       ┆   ┆ date    ┆ str        ┆ str     ┆ ---        │\n",
              "│            ┆            ┆ str        ┆           ┆   ┆         ┆            ┆         ┆ f64        │\n",
              "╞════════════╪════════════╪════════════╪═══════════╪═══╪═════════╪════════════╪═════════╪════════════╡\n",
              "│ 2021-01-01 ┆ CRSD       ┆ CS         ┆ C-0000148 ┆ … ┆ 2021-03 ┆ 株式会社ク ┆ キン肉  ┆ 28000.0    │\n",
              "│            ┆            ┆            ┆ 9         ┆   ┆ -18     ┆ リーク・ア ┆ マン    ┆            │\n",
              "│            ┆            ┆            ┆           ┆   ┆         ┆ ンド・リバ ┆ 超人タ  ┆            │\n",
              "│            ┆            ┆            ┆           ┆   ┆         ┆ ー社       ┆ ッグフ  ┆            │\n",
              "│            ┆            ┆            ┆           ┆   ┆         ┆            ┆ ァイト  ┆            │\n",
              "│ 2021-01-01 ┆ CRSD       ┆ CS         ┆ C-0000148 ┆ … ┆ 2021-03 ┆ 株式会社ク ┆ キン肉  ┆ 30000.0    │\n",
              "│            ┆            ┆            ┆ 9         ┆   ┆ -18     ┆ リーク・ア ┆ マン    ┆            │\n",
              "│            ┆            ┆            ┆           ┆   ┆         ┆ ンド・リバ ┆ 超人タ  ┆            │\n",
              "│            ┆            ┆            ┆           ┆   ┆         ┆ ー社       ┆ ッグフ  ┆            │\n",
              "│            ┆            ┆            ┆           ┆   ┆         ┆            ┆ ァイト  ┆            │\n",
              "│ 2021-01-01 ┆ CRSD       ┆ CS         ┆ C-0000148 ┆ … ┆ 2021-03 ┆ 株式会社ク ┆ キン肉  ┆ 0.0        │\n",
              "│            ┆            ┆            ┆ 9         ┆   ┆ -18     ┆ リーク・ア ┆ マン    ┆            │\n",
              "│            ┆            ┆            ┆           ┆   ┆         ┆ ンド・リバ ┆ 超人タ  ┆            │\n",
              "│            ┆            ┆            ┆           ┆   ┆         ┆ ー社       ┆ ッグフ  ┆            │\n",
              "│            ┆            ┆            ┆           ┆   ┆         ┆            ┆ ァイト  ┆            │\n",
              "│            ┆            ┆            ┆           ┆   ┆         ┆            ┆ 　発信  ┆            │\n",
              "│            ┆            ┆            ┆           ┆   ┆         ┆            ┆ 費用    ┆            │\n",
              "│ 2021-01-01 ┆ CRSD       ┆ CS         ┆ C-0000148 ┆ … ┆ null    ┆ 株式会社ク ┆ アトラ  ┆ 42000.0    │\n",
              "│            ┆            ┆            ┆ 9         ┆   ┆         ┆ リーク・ア ┆ クショ  ┆            │\n",
              "│            ┆            ┆            ┆           ┆   ┆         ┆ ンド・リバ ┆ ンフェ  ┆            │\n",
              "│            ┆            ┆            ┆           ┆   ┆         ┆ ー社       ┆ スタ    ┆            │\n",
              "│ …          ┆ …          ┆ …          ┆ …         ┆ … ┆ …       ┆ …          ┆ …       ┆ …          │\n",
              "│ 2023-08-01 ┆ HT         ┆ HT         ┆ C-0001744 ┆ … ┆ null    ┆ パナソニッ ┆ パナソ  ┆ 65000.0    │\n",
              "│            ┆            ┆            ┆ 6         ┆   ┆         ┆ ク株式会社 ┆ ニック  ┆            │\n",
              "│            ┆            ┆            ┆           ┆   ┆         ┆ エレクトリ ┆ 株式会  ┆            │\n",
              "│            ┆            ┆            ┆           ┆   ┆         ┆ ックワーク ┆ 社　エ  ┆            │\n",
              "│            ┆            ┆            ┆           ┆   ┆         ┆ ス社       ┆ レクト  ┆            │\n",
              "│            ┆            ┆            ┆           ┆   ┆         ┆            ┆ リック  ┆            │\n",
              "│            ┆            ┆            ┆           ┆   ┆         ┆            ┆ ワーク  ┆            │\n",
              "│            ┆            ┆            ┆           ┆   ┆         ┆            ┆ ス社    ┆            │\n",
              "│ 2023-08-01 ┆ CS         ┆ CS         ┆ C-0001758 ┆ … ┆ null    ┆ 株式会社WE ┆ GROWI.c ┆ 120000.0   │\n",
              "│            ┆            ┆            ┆ 3         ┆   ┆         ┆ SEEK       ┆ loud    ┆            │\n",
              "│            ┆            ┆            ┆           ┆   ┆         ┆            ┆ CS常駐  ┆            │\n",
              "│            ┆            ┆            ┆           ┆   ┆         ┆            ┆ SV費用  ┆            │\n",
              "│ 2023-08-01 ┆ CS         ┆ CS         ┆ C-0001758 ┆ … ┆ null    ┆ 株式会社WE ┆ GROWI.c ┆ 500000.0   │\n",
              "│            ┆            ┆            ┆ 3         ┆   ┆         ┆ SEEK       ┆ loud    ┆            │\n",
              "│            ┆            ┆            ┆           ┆   ┆         ┆            ┆ CS常駐  ┆            │\n",
              "│            ┆            ┆            ┆           ┆   ┆         ┆            ┆ 対応者  ┆            │\n",
              "│            ┆            ┆            ┆           ┆   ┆         ┆            ┆ 費用    ┆            │\n",
              "│ 2023-08-01 ┆ CRSD       ┆ CS         ┆ C-0001758 ┆ … ┆ null    ┆ Super      ┆ Zendesk ┆ 27440.0    │\n",
              "│            ┆            ┆            ┆ 8         ┆   ┆         ┆ Massive    ┆ ライセ  ┆            │\n",
              "│            ┆            ┆            ┆           ┆   ┆         ┆ Global株式 ┆ ンス費  ┆            │\n",
              "│            ┆            ┆            ┆           ┆   ┆         ┆ 会社       ┆ 用      ┆            │\n",
              "└────────────┴────────────┴────────────┴───────────┴───┴─────────┴────────────┴─────────┴────────────┘"
            ],
            "text/html": [
              "<div><style>\n",
              ".dataframe > thead > tr > th,\n",
              ".dataframe > tbody > tr > td {\n",
              "  text-align: right;\n",
              "}\n",
              "</style>\n",
              "<small>shape: (25821, 10)</small><table border=\"1\" class=\"dataframe\"><thead><tr><th>対象年月</th><th>計上部署</th><th>部署グループ</th><th>取引先ID</th><th>案件ID</th><th>開始日</th><th>終了日</th><th>取引先名</th><th>案件名</th><th>請求額_当月</th></tr><tr><td>date</td><td>str</td><td>str</td><td>str</td><td>str</td><td>date</td><td>date</td><td>str</td><td>str</td><td>f64</td></tr></thead><tbody><tr><td>2021-01-01</td><td>&quot;CRSD&quot;</td><td>&quot;CS&quot;</td><td>&quot;C-00001489&quot;</td><td>&quot;OMD-SAS-Servic…</td><td>null</td><td>2021-03-18</td><td>&quot;株式会社クリーク・アンド・リ…</td><td>&quot;キン肉マン 超人タッグファイ…</td><td>28000.0</td></tr><tr><td>2021-01-01</td><td>&quot;CRSD&quot;</td><td>&quot;CS&quot;</td><td>&quot;C-00001489&quot;</td><td>&quot;OMD-SAS-Servic…</td><td>2017-01-01</td><td>2021-03-18</td><td>&quot;株式会社クリーク・アンド・リ…</td><td>&quot;キン肉マン 超人タッグファイ…</td><td>30000.0</td></tr><tr><td>2021-01-01</td><td>&quot;CRSD&quot;</td><td>&quot;CS&quot;</td><td>&quot;C-00001489&quot;</td><td>&quot;OMD-SAS-Servic…</td><td>2017-01-01</td><td>2021-03-18</td><td>&quot;株式会社クリーク・アンド・リ…</td><td>&quot;キン肉マン 超人タッグファイ…</td><td>0.0</td></tr><tr><td>2021-01-01</td><td>&quot;CRSD&quot;</td><td>&quot;CS&quot;</td><td>&quot;C-00001489&quot;</td><td>&quot;OMD-SAS-Servic…</td><td>2017-07-01</td><td>null</td><td>&quot;株式会社クリーク・アンド・リ…</td><td>&quot;アトラクションフェスタ&quot;</td><td>42000.0</td></tr><tr><td>2021-01-01</td><td>&quot;CSJP&quot;</td><td>&quot;CS&quot;</td><td>&quot;C-00001489&quot;</td><td>&quot;OMD-SAS-Servic…</td><td>2020-09-15</td><td>2022-12-31</td><td>&quot;株式会社クリーク・アンド・リ…</td><td>&quot;トレすごタウン&quot;</td><td>307500.0</td></tr><tr><td>2021-01-01</td><td>&quot;CSJP&quot;</td><td>&quot;CS&quot;</td><td>&quot;C-00001489&quot;</td><td>&quot;OMD-SAS-Servic…</td><td>2020-09-15</td><td>2022-12-31</td><td>&quot;株式会社クリーク・アンド・リ…</td><td>&quot;トレすごタウン　月次レポート…</td><td>20000.0</td></tr><tr><td>2021-01-01</td><td>&quot;CSJP&quot;</td><td>&quot;CS&quot;</td><td>&quot;C-00001489&quot;</td><td>&quot;OMD-SAS-Servic…</td><td>2020-09-15</td><td>2022-05-31</td><td>&quot;株式会社クリーク・アンド・リ…</td><td>&quot;トレすごタウン　定例会&quot;</td><td>20000.0</td></tr><tr><td>2021-01-01</td><td>&quot;OMS&quot;</td><td>&quot;MONI&quot;</td><td>&quot;C-00001491&quot;</td><td>&quot;OMD-Service-00…</td><td>2013-08-01</td><td>null</td><td>&quot;株式会社サイバーエージェント…</td><td>&quot;アプリ承認作業の業務委託&quot;</td><td>120000.0</td></tr><tr><td>2021-01-01</td><td>&quot;OMS&quot;</td><td>&quot;MONI&quot;</td><td>&quot;C-00001506&quot;</td><td>&quot;OMD-Service-00…</td><td>2010-09-22</td><td>2023-03-31</td><td>&quot;株式会社イード&quot;</td><td>&quot;ダイエットクラブ&quot;</td><td>50000.0</td></tr><tr><td>2021-01-01</td><td>&quot;CSJP&quot;</td><td>&quot;CS&quot;</td><td>&quot;C-00001526&quot;</td><td>&quot;OMD-SAS-Servic…</td><td>2016-10-01</td><td>2021-05-05</td><td>&quot;コムシード株式会社&quot;</td><td>&quot;不思議の森のパン工房　通常対…</td><td>27692.0</td></tr><tr><td>2021-01-01</td><td>&quot;CSJP&quot;</td><td>&quot;CS&quot;</td><td>&quot;C-00001526&quot;</td><td>&quot;OMD-SAS-Servic…</td><td>2016-10-01</td><td>2021-05-05</td><td>&quot;コムシード株式会社&quot;</td><td>&quot;不思議の森のパン工房　通常対…</td><td>17308.0</td></tr><tr><td>2021-01-01</td><td>&quot;CSJP&quot;</td><td>&quot;CS&quot;</td><td>&quot;C-00001526&quot;</td><td>&quot;OMD-SAS-Servic…</td><td>2016-10-01</td><td>2021-05-05</td><td>&quot;コムシード株式会社&quot;</td><td>&quot;不思議の森のパン工房　一括送…</td><td>0.0</td></tr><tr><td>&hellip;</td><td>&hellip;</td><td>&hellip;</td><td>&hellip;</td><td>&hellip;</td><td>&hellip;</td><td>&hellip;</td><td>&hellip;</td><td>&hellip;</td><td>&hellip;</td></tr><tr><td>2023-08-01</td><td>&quot;SPY&quot;</td><td>&quot;SPY&quot;</td><td>&quot;C-00017364&quot;</td><td>&quot;OMD-Service-00…</td><td>2022-01-24</td><td>null</td><td>&quot;株式会社グラスフィッシュ&quot;</td><td>&quot;Amazonプライム_Ins…</td><td>85000.0</td></tr><tr><td>2023-08-01</td><td>&quot;SPY&quot;</td><td>&quot;SPY&quot;</td><td>&quot;C-00017364&quot;</td><td>&quot;OMD-Service-00…</td><td>2022-01-24</td><td>null</td><td>&quot;株式会社グラスフィッシュ&quot;</td><td>&quot;Amazonプライム_You…</td><td>85000.0</td></tr><tr><td>2023-08-01</td><td>&quot;SPY&quot;</td><td>&quot;SPY&quot;</td><td>&quot;C-00017364&quot;</td><td>&quot;OMD-Service-00…</td><td>2022-01-24</td><td>null</td><td>&quot;株式会社グラスフィッシュ&quot;</td><td>&quot;Amazonプライム_Tik…</td><td>150000.0</td></tr><tr><td>2023-08-01</td><td>&quot;SPY&quot;</td><td>&quot;SPY&quot;</td><td>&quot;C-00017364&quot;</td><td>&quot;OMD-Service-00…</td><td>2023-07-25</td><td>2023-07-31</td><td>&quot;株式会社グラスフィッシュ&quot;</td><td>&quot;Amazonプライム_Ins…</td><td>10000.0</td></tr><tr><td>2023-08-01</td><td>&quot;MONI&quot;</td><td>&quot;MONI&quot;</td><td>&quot;C-00017377&quot;</td><td>&quot;OMD-Service-00…</td><td>2021-07-12</td><td>null</td><td>&quot;株式会社トリビュー&quot;</td><td>&quot;トリビュー_本人確認（施術実…</td><td>163000.0</td></tr><tr><td>2023-08-01</td><td>&quot;SPY&quot;</td><td>&quot;SPY&quot;</td><td>&quot;C-00017377&quot;</td><td>&quot;OMD-Service-00…</td><td>2021-07-01</td><td>null</td><td>&quot;株式会社トリビュー&quot;</td><td>&quot;トリビュー_記事審査&quot;</td><td>208000.0</td></tr><tr><td>2023-08-01</td><td>&quot;HT&quot;</td><td>&quot;HT&quot;</td><td>&quot;C-00017429&quot;</td><td>&quot;HTB_Project_00…</td><td>2021-11-01</td><td>null</td><td>&quot;スター電器製造株式会社&quot;</td><td>&quot;スター電器製造株式会社&quot;</td><td>10000.0</td></tr><tr><td>2023-08-01</td><td>&quot;MONI&quot;</td><td>&quot;MONI&quot;</td><td>&quot;C-00017441&quot;</td><td>&quot;OMD-Service-00…</td><td>2023-01-01</td><td>null</td><td>&quot;中部テレコミュニケーション株…</td><td>&quot;中部テレコミュニケーション_…</td><td>75000.0</td></tr><tr><td>2023-08-01</td><td>&quot;HT&quot;</td><td>&quot;HT&quot;</td><td>&quot;C-00017446&quot;</td><td>&quot;HTB_Project_00…</td><td>2022-06-01</td><td>null</td><td>&quot;パナソニック株式会社 エレク…</td><td>&quot;パナソニック株式会社　エレク…</td><td>65000.0</td></tr><tr><td>2023-08-01</td><td>&quot;CS&quot;</td><td>&quot;CS&quot;</td><td>&quot;C-00017583&quot;</td><td>&quot;OMD-SAS-Servic…</td><td>2023-07-06</td><td>null</td><td>&quot;株式会社WESEEK&quot;</td><td>&quot;GROWI.cloud CS…</td><td>120000.0</td></tr><tr><td>2023-08-01</td><td>&quot;CS&quot;</td><td>&quot;CS&quot;</td><td>&quot;C-00017583&quot;</td><td>&quot;OMD-SAS-Servic…</td><td>2023-07-06</td><td>null</td><td>&quot;株式会社WESEEK&quot;</td><td>&quot;GROWI.cloud CS…</td><td>500000.0</td></tr><tr><td>2023-08-01</td><td>&quot;CRSD&quot;</td><td>&quot;CS&quot;</td><td>&quot;C-00017588&quot;</td><td>&quot;OMD-SAS-Servic…</td><td>2023-07-11</td><td>null</td><td>&quot;Super Massive …</td><td>&quot;Zendeskライセンス費用…</td><td>27440.0</td></tr></tbody></table></div>"
            ]
          },
          "metadata": {},
          "execution_count": 16
        }
      ]
    },
    {
      "cell_type": "code",
      "execution_count": null,
      "metadata": {
        "id": "9CR5qzfZdWeP"
      },
      "outputs": [],
      "source": [
        "# apply 用の関数定義\n",
        "from datetime import date\n",
        "from dateutil.relativedelta import relativedelta\n",
        "\n",
        "def addNthMonthAgoBilling(row, month):\n",
        "  # 対象月と案件の開始日・終了日 (開始日・終了日が null の場合はそれぞれダミーの値を設定)\n",
        "  target_month = row[0] + relativedelta(months=month)\n",
        "  start = row[5] if row[5] != None else date(2000, 1, 1)\n",
        "  end = row[6] if row[6] != None else date(2999, 12, 31)\n",
        "\n",
        "  # 当月 + month の月のレコード\n",
        "  val = temp_df.filter(\n",
        "    (pl.col('対象年月') == target_month) &\n",
        "    (pl.col('部署グループ') == row[2]) &\n",
        "    (pl.col('取引先ID') == row[3]) &\n",
        "    (pl.col('案件ID') == row[4])\n",
        "  )\n",
        "\n",
        "  # 「CSV内の最古の対象年月 <= (当月 + motnth の月) <= CSV内の最新の対象年月」ではない場合は null を返す\n",
        "  if not (csv_pl['対象年月'][-1] <= target_month <= csv_pl['対象年月'][0]):\n",
        "    return None\n",
        "  # 「(開始日 - 1ヶ月) < (当月 + motnth の月) <= 終了日」ではない場合は null を返す\n",
        "  elif not ((start - relativedelta(months=1)) < target_month <= end):\n",
        "    return None\n",
        "  # 案件開始～終了の期間内だが対象の年月にレコードが無い場合は 0 を返す\n",
        "  elif val.height == 0:\n",
        "    return 0\n",
        "  # 対象月の請求額を返す\n",
        "  else:\n",
        "    return val[0]['請求額_当月'][0]"
      ]
    },
    {
      "cell_type": "code",
      "source": [
        "# 各レコードに前月～1年前同月までの請求額の列を追加\n",
        "from tqdm import tqdm\n",
        "for i in tqdm(range(1, 13)):\n",
        "  new_col = temp_df.apply(lambda row: addNthMonthAgoBilling(row, -i))\n",
        "  temp_df = temp_df.with_columns(new_col['apply'].alias(f'請求額_{i:02}ヶ月前'))\n",
        "\n",
        "temp_df"
      ],
      "metadata": {
        "colab": {
          "base_uri": "https://localhost:8080/",
          "height": 1000
        },
        "id": "0fJ2OH9j8fYN",
        "outputId": "9f70e050-6c05-4e29-c266-fcc50c7b4cdb"
      },
      "execution_count": null,
      "outputs": [
        {
          "output_type": "stream",
          "name": "stderr",
          "text": [
            "100%|██████████| 12/12 [04:49<00:00, 24.16s/it]\n"
          ]
        },
        {
          "output_type": "execute_result",
          "data": {
            "text/plain": [
              "shape: (25_821, 22)\n",
              "┌────────────┬────────────┬────────────┬───────────┬───┬────────────┬────────────┬────────────┬────────────┐\n",
              "│ 対象年月   ┆ 計上部署   ┆ 部署グルー ┆ 取引先ID  ┆ … ┆ 請求額_09  ┆ 請求額_10  ┆ 請求額_11  ┆ 請求額_12  │\n",
              "│ ---        ┆ ---        ┆ プ         ┆ ---       ┆   ┆ ヶ月前     ┆ ヶ月前     ┆ ヶ月前     ┆ ヶ月前     │\n",
              "│ date       ┆ str        ┆ ---        ┆ str       ┆   ┆ ---        ┆ ---        ┆ ---        ┆ ---        │\n",
              "│            ┆            ┆ str        ┆           ┆   ┆ f64        ┆ f64        ┆ f64        ┆ f64        │\n",
              "╞════════════╪════════════╪════════════╪═══════════╪═══╪════════════╪════════════╪════════════╪════════════╡\n",
              "│ 2021-01-01 ┆ CRSD       ┆ CS         ┆ C-0000148 ┆ … ┆ null       ┆ null       ┆ null       ┆ null       │\n",
              "│            ┆            ┆            ┆ 9         ┆   ┆            ┆            ┆            ┆            │\n",
              "│ 2021-01-01 ┆ CRSD       ┆ CS         ┆ C-0000148 ┆ … ┆ null       ┆ null       ┆ null       ┆ null       │\n",
              "│            ┆            ┆            ┆ 9         ┆   ┆            ┆            ┆            ┆            │\n",
              "│ 2021-01-01 ┆ CRSD       ┆ CS         ┆ C-0000148 ┆ … ┆ null       ┆ null       ┆ null       ┆ null       │\n",
              "│            ┆            ┆            ┆ 9         ┆   ┆            ┆            ┆            ┆            │\n",
              "│ 2021-01-01 ┆ CRSD       ┆ CS         ┆ C-0000148 ┆ … ┆ null       ┆ null       ┆ null       ┆ null       │\n",
              "│            ┆            ┆            ┆ 9         ┆   ┆            ┆            ┆            ┆            │\n",
              "│ …          ┆ …          ┆ …          ┆ …         ┆ … ┆ …          ┆ …          ┆ …          ┆ …          │\n",
              "│ 2023-08-01 ┆ HT         ┆ HT         ┆ C-0001744 ┆ … ┆ 65000.0    ┆ 65000.0    ┆ 65000.0    ┆ 65000.0    │\n",
              "│            ┆            ┆            ┆ 6         ┆   ┆            ┆            ┆            ┆            │\n",
              "│ 2023-08-01 ┆ CS         ┆ CS         ┆ C-0001758 ┆ … ┆ null       ┆ null       ┆ null       ┆ null       │\n",
              "│            ┆            ┆            ┆ 3         ┆   ┆            ┆            ┆            ┆            │\n",
              "│ 2023-08-01 ┆ CS         ┆ CS         ┆ C-0001758 ┆ … ┆ null       ┆ null       ┆ null       ┆ null       │\n",
              "│            ┆            ┆            ┆ 3         ┆   ┆            ┆            ┆            ┆            │\n",
              "│ 2023-08-01 ┆ CRSD       ┆ CS         ┆ C-0001758 ┆ … ┆ null       ┆ null       ┆ null       ┆ null       │\n",
              "│            ┆            ┆            ┆ 8         ┆   ┆            ┆            ┆            ┆            │\n",
              "└────────────┴────────────┴────────────┴───────────┴───┴────────────┴────────────┴────────────┴────────────┘"
            ],
            "text/html": [
              "<div><style>\n",
              ".dataframe > thead > tr > th,\n",
              ".dataframe > tbody > tr > td {\n",
              "  text-align: right;\n",
              "}\n",
              "</style>\n",
              "<small>shape: (25821, 22)</small><table border=\"1\" class=\"dataframe\"><thead><tr><th>対象年月</th><th>計上部署</th><th>部署グループ</th><th>取引先ID</th><th>案件ID</th><th>開始日</th><th>終了日</th><th>取引先名</th><th>案件名</th><th>請求額_当月</th><th>請求額_01ヶ月前</th><th>請求額_02ヶ月前</th><th>請求額_03ヶ月前</th><th>請求額_04ヶ月前</th><th>請求額_05ヶ月前</th><th>請求額_06ヶ月前</th><th>請求額_07ヶ月前</th><th>請求額_08ヶ月前</th><th>請求額_09ヶ月前</th><th>請求額_10ヶ月前</th><th>請求額_11ヶ月前</th><th>請求額_12ヶ月前</th></tr><tr><td>date</td><td>str</td><td>str</td><td>str</td><td>str</td><td>date</td><td>date</td><td>str</td><td>str</td><td>f64</td><td>f64</td><td>f64</td><td>f64</td><td>f64</td><td>f64</td><td>f64</td><td>f64</td><td>f64</td><td>f64</td><td>f64</td><td>f64</td><td>f64</td></tr></thead><tbody><tr><td>2021-01-01</td><td>&quot;CRSD&quot;</td><td>&quot;CS&quot;</td><td>&quot;C-00001489&quot;</td><td>&quot;OMD-SAS-Servic…</td><td>null</td><td>2021-03-18</td><td>&quot;株式会社クリーク・アンド・リ…</td><td>&quot;キン肉マン 超人タッグファイ…</td><td>28000.0</td><td>null</td><td>null</td><td>null</td><td>null</td><td>null</td><td>null</td><td>null</td><td>null</td><td>null</td><td>null</td><td>null</td><td>null</td></tr><tr><td>2021-01-01</td><td>&quot;CRSD&quot;</td><td>&quot;CS&quot;</td><td>&quot;C-00001489&quot;</td><td>&quot;OMD-SAS-Servic…</td><td>2017-01-01</td><td>2021-03-18</td><td>&quot;株式会社クリーク・アンド・リ…</td><td>&quot;キン肉マン 超人タッグファイ…</td><td>30000.0</td><td>null</td><td>null</td><td>null</td><td>null</td><td>null</td><td>null</td><td>null</td><td>null</td><td>null</td><td>null</td><td>null</td><td>null</td></tr><tr><td>2021-01-01</td><td>&quot;CRSD&quot;</td><td>&quot;CS&quot;</td><td>&quot;C-00001489&quot;</td><td>&quot;OMD-SAS-Servic…</td><td>2017-01-01</td><td>2021-03-18</td><td>&quot;株式会社クリーク・アンド・リ…</td><td>&quot;キン肉マン 超人タッグファイ…</td><td>0.0</td><td>null</td><td>null</td><td>null</td><td>null</td><td>null</td><td>null</td><td>null</td><td>null</td><td>null</td><td>null</td><td>null</td><td>null</td></tr><tr><td>2021-01-01</td><td>&quot;CRSD&quot;</td><td>&quot;CS&quot;</td><td>&quot;C-00001489&quot;</td><td>&quot;OMD-SAS-Servic…</td><td>2017-07-01</td><td>null</td><td>&quot;株式会社クリーク・アンド・リ…</td><td>&quot;アトラクションフェスタ&quot;</td><td>42000.0</td><td>null</td><td>null</td><td>null</td><td>null</td><td>null</td><td>null</td><td>null</td><td>null</td><td>null</td><td>null</td><td>null</td><td>null</td></tr><tr><td>2021-01-01</td><td>&quot;CSJP&quot;</td><td>&quot;CS&quot;</td><td>&quot;C-00001489&quot;</td><td>&quot;OMD-SAS-Servic…</td><td>2020-09-15</td><td>2022-12-31</td><td>&quot;株式会社クリーク・アンド・リ…</td><td>&quot;トレすごタウン&quot;</td><td>307500.0</td><td>null</td><td>null</td><td>null</td><td>null</td><td>null</td><td>null</td><td>null</td><td>null</td><td>null</td><td>null</td><td>null</td><td>null</td></tr><tr><td>2021-01-01</td><td>&quot;CSJP&quot;</td><td>&quot;CS&quot;</td><td>&quot;C-00001489&quot;</td><td>&quot;OMD-SAS-Servic…</td><td>2020-09-15</td><td>2022-12-31</td><td>&quot;株式会社クリーク・アンド・リ…</td><td>&quot;トレすごタウン　月次レポート…</td><td>20000.0</td><td>null</td><td>null</td><td>null</td><td>null</td><td>null</td><td>null</td><td>null</td><td>null</td><td>null</td><td>null</td><td>null</td><td>null</td></tr><tr><td>2021-01-01</td><td>&quot;CSJP&quot;</td><td>&quot;CS&quot;</td><td>&quot;C-00001489&quot;</td><td>&quot;OMD-SAS-Servic…</td><td>2020-09-15</td><td>2022-05-31</td><td>&quot;株式会社クリーク・アンド・リ…</td><td>&quot;トレすごタウン　定例会&quot;</td><td>20000.0</td><td>null</td><td>null</td><td>null</td><td>null</td><td>null</td><td>null</td><td>null</td><td>null</td><td>null</td><td>null</td><td>null</td><td>null</td></tr><tr><td>2021-01-01</td><td>&quot;OMS&quot;</td><td>&quot;MONI&quot;</td><td>&quot;C-00001491&quot;</td><td>&quot;OMD-Service-00…</td><td>2013-08-01</td><td>null</td><td>&quot;株式会社サイバーエージェント…</td><td>&quot;アプリ承認作業の業務委託&quot;</td><td>120000.0</td><td>null</td><td>null</td><td>null</td><td>null</td><td>null</td><td>null</td><td>null</td><td>null</td><td>null</td><td>null</td><td>null</td><td>null</td></tr><tr><td>2021-01-01</td><td>&quot;OMS&quot;</td><td>&quot;MONI&quot;</td><td>&quot;C-00001506&quot;</td><td>&quot;OMD-Service-00…</td><td>2010-09-22</td><td>2023-03-31</td><td>&quot;株式会社イード&quot;</td><td>&quot;ダイエットクラブ&quot;</td><td>50000.0</td><td>null</td><td>null</td><td>null</td><td>null</td><td>null</td><td>null</td><td>null</td><td>null</td><td>null</td><td>null</td><td>null</td><td>null</td></tr><tr><td>2021-01-01</td><td>&quot;CSJP&quot;</td><td>&quot;CS&quot;</td><td>&quot;C-00001526&quot;</td><td>&quot;OMD-SAS-Servic…</td><td>2016-10-01</td><td>2021-05-05</td><td>&quot;コムシード株式会社&quot;</td><td>&quot;不思議の森のパン工房　通常対…</td><td>27692.0</td><td>null</td><td>null</td><td>null</td><td>null</td><td>null</td><td>null</td><td>null</td><td>null</td><td>null</td><td>null</td><td>null</td><td>null</td></tr><tr><td>2021-01-01</td><td>&quot;CSJP&quot;</td><td>&quot;CS&quot;</td><td>&quot;C-00001526&quot;</td><td>&quot;OMD-SAS-Servic…</td><td>2016-10-01</td><td>2021-05-05</td><td>&quot;コムシード株式会社&quot;</td><td>&quot;不思議の森のパン工房　通常対…</td><td>17308.0</td><td>null</td><td>null</td><td>null</td><td>null</td><td>null</td><td>null</td><td>null</td><td>null</td><td>null</td><td>null</td><td>null</td><td>null</td></tr><tr><td>2021-01-01</td><td>&quot;CSJP&quot;</td><td>&quot;CS&quot;</td><td>&quot;C-00001526&quot;</td><td>&quot;OMD-SAS-Servic…</td><td>2016-10-01</td><td>2021-05-05</td><td>&quot;コムシード株式会社&quot;</td><td>&quot;不思議の森のパン工房　一括送…</td><td>0.0</td><td>null</td><td>null</td><td>null</td><td>null</td><td>null</td><td>null</td><td>null</td><td>null</td><td>null</td><td>null</td><td>null</td><td>null</td></tr><tr><td>&hellip;</td><td>&hellip;</td><td>&hellip;</td><td>&hellip;</td><td>&hellip;</td><td>&hellip;</td><td>&hellip;</td><td>&hellip;</td><td>&hellip;</td><td>&hellip;</td><td>&hellip;</td><td>&hellip;</td><td>&hellip;</td><td>&hellip;</td><td>&hellip;</td><td>&hellip;</td><td>&hellip;</td><td>&hellip;</td><td>&hellip;</td><td>&hellip;</td><td>&hellip;</td><td>&hellip;</td></tr><tr><td>2023-08-01</td><td>&quot;SPY&quot;</td><td>&quot;SPY&quot;</td><td>&quot;C-00017364&quot;</td><td>&quot;OMD-Service-00…</td><td>2022-01-24</td><td>null</td><td>&quot;株式会社グラスフィッシュ&quot;</td><td>&quot;Amazonプライム_Ins…</td><td>85000.0</td><td>85000.0</td><td>85000.0</td><td>85000.0</td><td>92500.0</td><td>92500.0</td><td>85000.0</td><td>85000.0</td><td>95000.0</td><td>95000.0</td><td>95000.0</td><td>95000.0</td><td>95000.0</td></tr><tr><td>2023-08-01</td><td>&quot;SPY&quot;</td><td>&quot;SPY&quot;</td><td>&quot;C-00017364&quot;</td><td>&quot;OMD-Service-00…</td><td>2022-01-24</td><td>null</td><td>&quot;株式会社グラスフィッシュ&quot;</td><td>&quot;Amazonプライム_You…</td><td>85000.0</td><td>85000.0</td><td>85000.0</td><td>85000.0</td><td>107500.0</td><td>85000.0</td><td>85000.0</td><td>85000.0</td><td>85000.0</td><td>85000.0</td><td>85000.0</td><td>85000.0</td><td>92500.0</td></tr><tr><td>2023-08-01</td><td>&quot;SPY&quot;</td><td>&quot;SPY&quot;</td><td>&quot;C-00017364&quot;</td><td>&quot;OMD-Service-00…</td><td>2022-01-24</td><td>null</td><td>&quot;株式会社グラスフィッシュ&quot;</td><td>&quot;Amazonプライム_Tik…</td><td>150000.0</td><td>150000.0</td><td>150000.0</td><td>150000.0</td><td>150000.0</td><td>150000.0</td><td>150000.0</td><td>150000.0</td><td>150000.0</td><td>150000.0</td><td>150000.0</td><td>150000.0</td><td>150000.0</td></tr><tr><td>2023-08-01</td><td>&quot;SPY&quot;</td><td>&quot;SPY&quot;</td><td>&quot;C-00017364&quot;</td><td>&quot;OMD-Service-00…</td><td>2023-07-25</td><td>2023-07-31</td><td>&quot;株式会社グラスフィッシュ&quot;</td><td>&quot;Amazonプライム_Ins…</td><td>10000.0</td><td>0.0</td><td>null</td><td>null</td><td>null</td><td>null</td><td>null</td><td>null</td><td>null</td><td>null</td><td>null</td><td>null</td><td>null</td></tr><tr><td>2023-08-01</td><td>&quot;MONI&quot;</td><td>&quot;MONI&quot;</td><td>&quot;C-00017377&quot;</td><td>&quot;OMD-Service-00…</td><td>2021-07-12</td><td>null</td><td>&quot;株式会社トリビュー&quot;</td><td>&quot;トリビュー_本人確認（施術実…</td><td>163000.0</td><td>179200.0</td><td>163000.0</td><td>179200.0</td><td>163000.0</td><td>163000.0</td><td>163000.0</td><td>163000.0</td><td>163000.0</td><td>163000.0</td><td>163000.0</td><td>163000.0</td><td>163000.0</td></tr><tr><td>2023-08-01</td><td>&quot;SPY&quot;</td><td>&quot;SPY&quot;</td><td>&quot;C-00017377&quot;</td><td>&quot;OMD-Service-00…</td><td>2021-07-01</td><td>null</td><td>&quot;株式会社トリビュー&quot;</td><td>&quot;トリビュー_記事審査&quot;</td><td>208000.0</td><td>208000.0</td><td>208000.0</td><td>208000.0</td><td>208000.0</td><td>208000.0</td><td>208000.0</td><td>208000.0</td><td>208000.0</td><td>208000.0</td><td>208000.0</td><td>208000.0</td><td>208000.0</td></tr><tr><td>2023-08-01</td><td>&quot;HT&quot;</td><td>&quot;HT&quot;</td><td>&quot;C-00017429&quot;</td><td>&quot;HTB_Project_00…</td><td>2021-11-01</td><td>null</td><td>&quot;スター電器製造株式会社&quot;</td><td>&quot;スター電器製造株式会社&quot;</td><td>10000.0</td><td>10000.0</td><td>10000.0</td><td>10000.0</td><td>60000.0</td><td>60000.0</td><td>60000.0</td><td>60000.0</td><td>60000.0</td><td>60000.0</td><td>60000.0</td><td>60000.0</td><td>60000.0</td></tr><tr><td>2023-08-01</td><td>&quot;MONI&quot;</td><td>&quot;MONI&quot;</td><td>&quot;C-00017441&quot;</td><td>&quot;OMD-Service-00…</td><td>2023-01-01</td><td>null</td><td>&quot;中部テレコミュニケーション株…</td><td>&quot;中部テレコミュニケーション_…</td><td>75000.0</td><td>75000.0</td><td>75000.0</td><td>75000.0</td><td>75000.0</td><td>75000.0</td><td>75000.0</td><td>75000.0</td><td>null</td><td>null</td><td>null</td><td>null</td><td>null</td></tr><tr><td>2023-08-01</td><td>&quot;HT&quot;</td><td>&quot;HT&quot;</td><td>&quot;C-00017446&quot;</td><td>&quot;HTB_Project_00…</td><td>2022-06-01</td><td>null</td><td>&quot;パナソニック株式会社 エレク…</td><td>&quot;パナソニック株式会社　エレク…</td><td>65000.0</td><td>65000.0</td><td>65000.0</td><td>65000.0</td><td>65000.0</td><td>65000.0</td><td>65000.0</td><td>65000.0</td><td>65000.0</td><td>65000.0</td><td>65000.0</td><td>65000.0</td><td>65000.0</td></tr><tr><td>2023-08-01</td><td>&quot;CS&quot;</td><td>&quot;CS&quot;</td><td>&quot;C-00017583&quot;</td><td>&quot;OMD-SAS-Servic…</td><td>2023-07-06</td><td>null</td><td>&quot;株式会社WESEEK&quot;</td><td>&quot;GROWI.cloud CS…</td><td>120000.0</td><td>102000.0</td><td>null</td><td>null</td><td>null</td><td>null</td><td>null</td><td>null</td><td>null</td><td>null</td><td>null</td><td>null</td><td>null</td></tr><tr><td>2023-08-01</td><td>&quot;CS&quot;</td><td>&quot;CS&quot;</td><td>&quot;C-00017583&quot;</td><td>&quot;OMD-SAS-Servic…</td><td>2023-07-06</td><td>null</td><td>&quot;株式会社WESEEK&quot;</td><td>&quot;GROWI.cloud CS…</td><td>500000.0</td><td>425000.0</td><td>null</td><td>null</td><td>null</td><td>null</td><td>null</td><td>null</td><td>null</td><td>null</td><td>null</td><td>null</td><td>null</td></tr><tr><td>2023-08-01</td><td>&quot;CRSD&quot;</td><td>&quot;CS&quot;</td><td>&quot;C-00017588&quot;</td><td>&quot;OMD-SAS-Servic…</td><td>2023-07-11</td><td>null</td><td>&quot;Super Massive …</td><td>&quot;Zendeskライセンス費用…</td><td>27440.0</td><td>27440.0</td><td>null</td><td>null</td><td>null</td><td>null</td><td>null</td><td>null</td><td>null</td><td>null</td><td>null</td><td>null</td><td>null</td></tr></tbody></table></div>"
            ]
          },
          "metadata": {},
          "execution_count": 18
        }
      ]
    },
    {
      "cell_type": "code",
      "source": [
        "# 各レコードに翌月～1年後同月までの請求額の列を追加\n",
        "from tqdm import tqdm\n",
        "for i in tqdm(range(1, 13)):\n",
        "  new_col = temp_df.apply(lambda row: addNthMonthAgoBilling(row, i))\n",
        "  temp_df = temp_df.with_columns(new_col['apply'].alias(f'請求額_{i:02}ヶ月後'))\n",
        "\n",
        "temp_df"
      ],
      "metadata": {
        "id": "eoiEIh-u8dUp",
        "colab": {
          "base_uri": "https://localhost:8080/"
        },
        "outputId": "a99cc64b-18bb-4d29-8b16-839e26ab6941"
      },
      "execution_count": null,
      "outputs": [
        {
          "output_type": "stream",
          "name": "stderr",
          "text": [
            "100%|██████████| 12/12 [05:04<00:00, 25.34s/it]\n"
          ]
        },
        {
          "output_type": "execute_result",
          "data": {
            "text/plain": [
              "shape: (25_821, 34)\n",
              "┌────────────┬────────────┬────────────┬───────────┬───┬────────────┬────────────┬────────────┬────────────┐\n",
              "│ 対象年月   ┆ 計上部署   ┆ 部署グルー ┆ 取引先ID  ┆ … ┆ 請求額_09  ┆ 請求額_10  ┆ 請求額_11  ┆ 請求額_12  │\n",
              "│ ---        ┆ ---        ┆ プ         ┆ ---       ┆   ┆ ヶ月後     ┆ ヶ月後     ┆ ヶ月後     ┆ ヶ月後     │\n",
              "│ date       ┆ str        ┆ ---        ┆ str       ┆   ┆ ---        ┆ ---        ┆ ---        ┆ ---        │\n",
              "│            ┆            ┆ str        ┆           ┆   ┆ f64        ┆ f64        ┆ f64        ┆ f64        │\n",
              "╞════════════╪════════════╪════════════╪═══════════╪═══╪════════════╪════════════╪════════════╪════════════╡\n",
              "│ 2021-01-01 ┆ CRSD       ┆ CS         ┆ C-0000148 ┆ … ┆ null       ┆ null       ┆ null       ┆ null       │\n",
              "│            ┆            ┆            ┆ 9         ┆   ┆            ┆            ┆            ┆            │\n",
              "│ 2021-01-01 ┆ CRSD       ┆ CS         ┆ C-0000148 ┆ … ┆ null       ┆ null       ┆ null       ┆ null       │\n",
              "│            ┆            ┆            ┆ 9         ┆   ┆            ┆            ┆            ┆            │\n",
              "│ 2021-01-01 ┆ CRSD       ┆ CS         ┆ C-0000148 ┆ … ┆ null       ┆ null       ┆ null       ┆ null       │\n",
              "│            ┆            ┆            ┆ 9         ┆   ┆            ┆            ┆            ┆            │\n",
              "│ 2021-01-01 ┆ CRSD       ┆ CS         ┆ C-0000148 ┆ … ┆ 65000.0    ┆ 38000.0    ┆ 38000.0    ┆ 38000.0    │\n",
              "│            ┆            ┆            ┆ 9         ┆   ┆            ┆            ┆            ┆            │\n",
              "│ …          ┆ …          ┆ …          ┆ …         ┆ … ┆ …          ┆ …          ┆ …          ┆ …          │\n",
              "│ 2023-08-01 ┆ HT         ┆ HT         ┆ C-0001744 ┆ … ┆ null       ┆ null       ┆ null       ┆ null       │\n",
              "│            ┆            ┆            ┆ 6         ┆   ┆            ┆            ┆            ┆            │\n",
              "│ 2023-08-01 ┆ CS         ┆ CS         ┆ C-0001758 ┆ … ┆ null       ┆ null       ┆ null       ┆ null       │\n",
              "│            ┆            ┆            ┆ 3         ┆   ┆            ┆            ┆            ┆            │\n",
              "│ 2023-08-01 ┆ CS         ┆ CS         ┆ C-0001758 ┆ … ┆ null       ┆ null       ┆ null       ┆ null       │\n",
              "│            ┆            ┆            ┆ 3         ┆   ┆            ┆            ┆            ┆            │\n",
              "│ 2023-08-01 ┆ CRSD       ┆ CS         ┆ C-0001758 ┆ … ┆ null       ┆ null       ┆ null       ┆ null       │\n",
              "│            ┆            ┆            ┆ 8         ┆   ┆            ┆            ┆            ┆            │\n",
              "└────────────┴────────────┴────────────┴───────────┴───┴────────────┴────────────┴────────────┴────────────┘"
            ],
            "text/html": [
              "<div><style>\n",
              ".dataframe > thead > tr > th,\n",
              ".dataframe > tbody > tr > td {\n",
              "  text-align: right;\n",
              "}\n",
              "</style>\n",
              "<small>shape: (25821, 34)</small><table border=\"1\" class=\"dataframe\"><thead><tr><th>対象年月</th><th>計上部署</th><th>部署グループ</th><th>取引先ID</th><th>案件ID</th><th>開始日</th><th>終了日</th><th>取引先名</th><th>案件名</th><th>請求額_当月</th><th>請求額_01ヶ月前</th><th>請求額_02ヶ月前</th><th>請求額_03ヶ月前</th><th>請求額_04ヶ月前</th><th>請求額_05ヶ月前</th><th>請求額_06ヶ月前</th><th>請求額_07ヶ月前</th><th>請求額_08ヶ月前</th><th>請求額_09ヶ月前</th><th>請求額_10ヶ月前</th><th>請求額_11ヶ月前</th><th>請求額_12ヶ月前</th><th>請求額_01ヶ月後</th><th>請求額_02ヶ月後</th><th>請求額_03ヶ月後</th><th>請求額_04ヶ月後</th><th>請求額_05ヶ月後</th><th>請求額_06ヶ月後</th><th>請求額_07ヶ月後</th><th>請求額_08ヶ月後</th><th>請求額_09ヶ月後</th><th>請求額_10ヶ月後</th><th>請求額_11ヶ月後</th><th>請求額_12ヶ月後</th></tr><tr><td>date</td><td>str</td><td>str</td><td>str</td><td>str</td><td>date</td><td>date</td><td>str</td><td>str</td><td>f64</td><td>f64</td><td>f64</td><td>f64</td><td>f64</td><td>f64</td><td>f64</td><td>f64</td><td>f64</td><td>f64</td><td>f64</td><td>f64</td><td>f64</td><td>f64</td><td>f64</td><td>f64</td><td>f64</td><td>f64</td><td>f64</td><td>f64</td><td>f64</td><td>f64</td><td>f64</td><td>f64</td><td>f64</td></tr></thead><tbody><tr><td>2021-01-01</td><td>&quot;CRSD&quot;</td><td>&quot;CS&quot;</td><td>&quot;C-00001489&quot;</td><td>&quot;OMD-SAS-Servic…</td><td>null</td><td>2021-03-18</td><td>&quot;株式会社クリーク・アンド・リ…</td><td>&quot;キン肉マン 超人タッグファイ…</td><td>28000.0</td><td>null</td><td>null</td><td>null</td><td>null</td><td>null</td><td>null</td><td>null</td><td>null</td><td>null</td><td>null</td><td>null</td><td>null</td><td>30270.0</td><td>67586.0</td><td>null</td><td>null</td><td>null</td><td>null</td><td>null</td><td>null</td><td>null</td><td>null</td><td>null</td><td>null</td></tr><tr><td>2021-01-01</td><td>&quot;CRSD&quot;</td><td>&quot;CS&quot;</td><td>&quot;C-00001489&quot;</td><td>&quot;OMD-SAS-Servic…</td><td>2017-01-01</td><td>2021-03-18</td><td>&quot;株式会社クリーク・アンド・リ…</td><td>&quot;キン肉マン 超人タッグファイ…</td><td>30000.0</td><td>null</td><td>null</td><td>null</td><td>null</td><td>null</td><td>null</td><td>null</td><td>null</td><td>null</td><td>null</td><td>null</td><td>null</td><td>30000.0</td><td>30000.0</td><td>null</td><td>null</td><td>null</td><td>null</td><td>null</td><td>null</td><td>null</td><td>null</td><td>null</td><td>null</td></tr><tr><td>2021-01-01</td><td>&quot;CRSD&quot;</td><td>&quot;CS&quot;</td><td>&quot;C-00001489&quot;</td><td>&quot;OMD-SAS-Servic…</td><td>2017-01-01</td><td>2021-03-18</td><td>&quot;株式会社クリーク・アンド・リ…</td><td>&quot;キン肉マン 超人タッグファイ…</td><td>0.0</td><td>null</td><td>null</td><td>null</td><td>null</td><td>null</td><td>null</td><td>null</td><td>null</td><td>null</td><td>null</td><td>null</td><td>null</td><td>0.0</td><td>0.0</td><td>null</td><td>null</td><td>null</td><td>null</td><td>null</td><td>null</td><td>null</td><td>null</td><td>null</td><td>null</td></tr><tr><td>2021-01-01</td><td>&quot;CRSD&quot;</td><td>&quot;CS&quot;</td><td>&quot;C-00001489&quot;</td><td>&quot;OMD-SAS-Servic…</td><td>2017-07-01</td><td>null</td><td>&quot;株式会社クリーク・アンド・リ…</td><td>&quot;アトラクションフェスタ&quot;</td><td>42000.0</td><td>null</td><td>null</td><td>null</td><td>null</td><td>null</td><td>null</td><td>null</td><td>null</td><td>null</td><td>null</td><td>null</td><td>null</td><td>39730.0</td><td>2414.0</td><td>38000.0</td><td>38000.0</td><td>38000.0</td><td>38000.0</td><td>38000.0</td><td>38000.0</td><td>65000.0</td><td>38000.0</td><td>38000.0</td><td>38000.0</td></tr><tr><td>2021-01-01</td><td>&quot;CSJP&quot;</td><td>&quot;CS&quot;</td><td>&quot;C-00001489&quot;</td><td>&quot;OMD-SAS-Servic…</td><td>2020-09-15</td><td>2022-12-31</td><td>&quot;株式会社クリーク・アンド・リ…</td><td>&quot;トレすごタウン&quot;</td><td>307500.0</td><td>null</td><td>null</td><td>null</td><td>null</td><td>null</td><td>null</td><td>null</td><td>null</td><td>null</td><td>null</td><td>null</td><td>null</td><td>307500.0</td><td>307500.0</td><td>307500.0</td><td>307500.0</td><td>307500.0</td><td>307500.0</td><td>307500.0</td><td>307500.0</td><td>307500.0</td><td>307500.0</td><td>307500.0</td><td>307500.0</td></tr><tr><td>2021-01-01</td><td>&quot;CSJP&quot;</td><td>&quot;CS&quot;</td><td>&quot;C-00001489&quot;</td><td>&quot;OMD-SAS-Servic…</td><td>2020-09-15</td><td>2022-12-31</td><td>&quot;株式会社クリーク・アンド・リ…</td><td>&quot;トレすごタウン　月次レポート…</td><td>20000.0</td><td>null</td><td>null</td><td>null</td><td>null</td><td>null</td><td>null</td><td>null</td><td>null</td><td>null</td><td>null</td><td>null</td><td>null</td><td>20000.0</td><td>20000.0</td><td>20000.0</td><td>20000.0</td><td>20000.0</td><td>20000.0</td><td>20000.0</td><td>20000.0</td><td>20000.0</td><td>20000.0</td><td>20000.0</td><td>20000.0</td></tr><tr><td>2021-01-01</td><td>&quot;CSJP&quot;</td><td>&quot;CS&quot;</td><td>&quot;C-00001489&quot;</td><td>&quot;OMD-SAS-Servic…</td><td>2020-09-15</td><td>2022-05-31</td><td>&quot;株式会社クリーク・アンド・リ…</td><td>&quot;トレすごタウン　定例会&quot;</td><td>20000.0</td><td>null</td><td>null</td><td>null</td><td>null</td><td>null</td><td>null</td><td>null</td><td>null</td><td>null</td><td>null</td><td>null</td><td>null</td><td>20000.0</td><td>20000.0</td><td>20000.0</td><td>20000.0</td><td>20000.0</td><td>20000.0</td><td>20000.0</td><td>20000.0</td><td>20000.0</td><td>20000.0</td><td>20000.0</td><td>20000.0</td></tr><tr><td>2021-01-01</td><td>&quot;OMS&quot;</td><td>&quot;MONI&quot;</td><td>&quot;C-00001491&quot;</td><td>&quot;OMD-Service-00…</td><td>2013-08-01</td><td>null</td><td>&quot;株式会社サイバーエージェント…</td><td>&quot;アプリ承認作業の業務委託&quot;</td><td>120000.0</td><td>null</td><td>null</td><td>null</td><td>null</td><td>null</td><td>null</td><td>null</td><td>null</td><td>null</td><td>null</td><td>null</td><td>null</td><td>120000.0</td><td>260000.0</td><td>190000.0</td><td>190000.0</td><td>190000.0</td><td>190000.0</td><td>190000.0</td><td>260000.0</td><td>260000.0</td><td>190000.0</td><td>190000.0</td><td>260000.0</td></tr><tr><td>2021-01-01</td><td>&quot;OMS&quot;</td><td>&quot;MONI&quot;</td><td>&quot;C-00001506&quot;</td><td>&quot;OMD-Service-00…</td><td>2010-09-22</td><td>2023-03-31</td><td>&quot;株式会社イード&quot;</td><td>&quot;ダイエットクラブ&quot;</td><td>50000.0</td><td>null</td><td>null</td><td>null</td><td>null</td><td>null</td><td>null</td><td>null</td><td>null</td><td>null</td><td>null</td><td>null</td><td>null</td><td>50000.0</td><td>50000.0</td><td>50000.0</td><td>55000.0</td><td>55000.0</td><td>55000.0</td><td>55000.0</td><td>55000.0</td><td>55000.0</td><td>55000.0</td><td>50000.0</td><td>50000.0</td></tr><tr><td>2021-01-01</td><td>&quot;CSJP&quot;</td><td>&quot;CS&quot;</td><td>&quot;C-00001526&quot;</td><td>&quot;OMD-SAS-Servic…</td><td>2016-10-01</td><td>2021-05-05</td><td>&quot;コムシード株式会社&quot;</td><td>&quot;不思議の森のパン工房　通常対…</td><td>27692.0</td><td>null</td><td>null</td><td>null</td><td>null</td><td>null</td><td>null</td><td>null</td><td>null</td><td>null</td><td>null</td><td>null</td><td>null</td><td>17609.0</td><td>28846.0</td><td>28929.0</td><td>5808.0</td><td>null</td><td>null</td><td>null</td><td>null</td><td>null</td><td>null</td><td>null</td><td>null</td></tr><tr><td>2021-01-01</td><td>&quot;CSJP&quot;</td><td>&quot;CS&quot;</td><td>&quot;C-00001526&quot;</td><td>&quot;OMD-SAS-Servic…</td><td>2016-10-01</td><td>2021-05-05</td><td>&quot;コムシード株式会社&quot;</td><td>&quot;不思議の森のパン工房　通常対…</td><td>17308.0</td><td>null</td><td>null</td><td>null</td><td>null</td><td>null</td><td>null</td><td>null</td><td>null</td><td>null</td><td>null</td><td>null</td><td>null</td><td>27391.0</td><td>16154.0</td><td>16071.0</td><td>1452.0</td><td>null</td><td>null</td><td>null</td><td>null</td><td>null</td><td>null</td><td>null</td><td>null</td></tr><tr><td>2021-01-01</td><td>&quot;CSJP&quot;</td><td>&quot;CS&quot;</td><td>&quot;C-00001526&quot;</td><td>&quot;OMD-SAS-Servic…</td><td>2016-10-01</td><td>2021-05-05</td><td>&quot;コムシード株式会社&quot;</td><td>&quot;不思議の森のパン工房　一括送…</td><td>0.0</td><td>null</td><td>null</td><td>null</td><td>null</td><td>null</td><td>null</td><td>null</td><td>null</td><td>null</td><td>null</td><td>null</td><td>null</td><td>0.0</td><td>0.0</td><td>0.0</td><td>0.0</td><td>null</td><td>null</td><td>null</td><td>null</td><td>null</td><td>null</td><td>null</td><td>null</td></tr><tr><td>&hellip;</td><td>&hellip;</td><td>&hellip;</td><td>&hellip;</td><td>&hellip;</td><td>&hellip;</td><td>&hellip;</td><td>&hellip;</td><td>&hellip;</td><td>&hellip;</td><td>&hellip;</td><td>&hellip;</td><td>&hellip;</td><td>&hellip;</td><td>&hellip;</td><td>&hellip;</td><td>&hellip;</td><td>&hellip;</td><td>&hellip;</td><td>&hellip;</td><td>&hellip;</td><td>&hellip;</td><td>&hellip;</td><td>&hellip;</td><td>&hellip;</td><td>&hellip;</td><td>&hellip;</td><td>&hellip;</td><td>&hellip;</td><td>&hellip;</td><td>&hellip;</td><td>&hellip;</td><td>&hellip;</td><td>&hellip;</td></tr><tr><td>2023-08-01</td><td>&quot;SPY&quot;</td><td>&quot;SPY&quot;</td><td>&quot;C-00017364&quot;</td><td>&quot;OMD-Service-00…</td><td>2022-01-24</td><td>null</td><td>&quot;株式会社グラスフィッシュ&quot;</td><td>&quot;Amazonプライム_Ins…</td><td>85000.0</td><td>85000.0</td><td>85000.0</td><td>85000.0</td><td>92500.0</td><td>92500.0</td><td>85000.0</td><td>85000.0</td><td>95000.0</td><td>95000.0</td><td>95000.0</td><td>95000.0</td><td>95000.0</td><td>null</td><td>null</td><td>null</td><td>null</td><td>null</td><td>null</td><td>null</td><td>null</td><td>null</td><td>null</td><td>null</td><td>null</td></tr><tr><td>2023-08-01</td><td>&quot;SPY&quot;</td><td>&quot;SPY&quot;</td><td>&quot;C-00017364&quot;</td><td>&quot;OMD-Service-00…</td><td>2022-01-24</td><td>null</td><td>&quot;株式会社グラスフィッシュ&quot;</td><td>&quot;Amazonプライム_You…</td><td>85000.0</td><td>85000.0</td><td>85000.0</td><td>85000.0</td><td>107500.0</td><td>85000.0</td><td>85000.0</td><td>85000.0</td><td>85000.0</td><td>85000.0</td><td>85000.0</td><td>85000.0</td><td>92500.0</td><td>null</td><td>null</td><td>null</td><td>null</td><td>null</td><td>null</td><td>null</td><td>null</td><td>null</td><td>null</td><td>null</td><td>null</td></tr><tr><td>2023-08-01</td><td>&quot;SPY&quot;</td><td>&quot;SPY&quot;</td><td>&quot;C-00017364&quot;</td><td>&quot;OMD-Service-00…</td><td>2022-01-24</td><td>null</td><td>&quot;株式会社グラスフィッシュ&quot;</td><td>&quot;Amazonプライム_Tik…</td><td>150000.0</td><td>150000.0</td><td>150000.0</td><td>150000.0</td><td>150000.0</td><td>150000.0</td><td>150000.0</td><td>150000.0</td><td>150000.0</td><td>150000.0</td><td>150000.0</td><td>150000.0</td><td>150000.0</td><td>null</td><td>null</td><td>null</td><td>null</td><td>null</td><td>null</td><td>null</td><td>null</td><td>null</td><td>null</td><td>null</td><td>null</td></tr><tr><td>2023-08-01</td><td>&quot;SPY&quot;</td><td>&quot;SPY&quot;</td><td>&quot;C-00017364&quot;</td><td>&quot;OMD-Service-00…</td><td>2023-07-25</td><td>2023-07-31</td><td>&quot;株式会社グラスフィッシュ&quot;</td><td>&quot;Amazonプライム_Ins…</td><td>10000.0</td><td>0.0</td><td>null</td><td>null</td><td>null</td><td>null</td><td>null</td><td>null</td><td>null</td><td>null</td><td>null</td><td>null</td><td>null</td><td>null</td><td>null</td><td>null</td><td>null</td><td>null</td><td>null</td><td>null</td><td>null</td><td>null</td><td>null</td><td>null</td><td>null</td></tr><tr><td>2023-08-01</td><td>&quot;MONI&quot;</td><td>&quot;MONI&quot;</td><td>&quot;C-00017377&quot;</td><td>&quot;OMD-Service-00…</td><td>2021-07-12</td><td>null</td><td>&quot;株式会社トリビュー&quot;</td><td>&quot;トリビュー_本人確認（施術実…</td><td>163000.0</td><td>179200.0</td><td>163000.0</td><td>179200.0</td><td>163000.0</td><td>163000.0</td><td>163000.0</td><td>163000.0</td><td>163000.0</td><td>163000.0</td><td>163000.0</td><td>163000.0</td><td>163000.0</td><td>null</td><td>null</td><td>null</td><td>null</td><td>null</td><td>null</td><td>null</td><td>null</td><td>null</td><td>null</td><td>null</td><td>null</td></tr><tr><td>2023-08-01</td><td>&quot;SPY&quot;</td><td>&quot;SPY&quot;</td><td>&quot;C-00017377&quot;</td><td>&quot;OMD-Service-00…</td><td>2021-07-01</td><td>null</td><td>&quot;株式会社トリビュー&quot;</td><td>&quot;トリビュー_記事審査&quot;</td><td>208000.0</td><td>208000.0</td><td>208000.0</td><td>208000.0</td><td>208000.0</td><td>208000.0</td><td>208000.0</td><td>208000.0</td><td>208000.0</td><td>208000.0</td><td>208000.0</td><td>208000.0</td><td>208000.0</td><td>null</td><td>null</td><td>null</td><td>null</td><td>null</td><td>null</td><td>null</td><td>null</td><td>null</td><td>null</td><td>null</td><td>null</td></tr><tr><td>2023-08-01</td><td>&quot;HT&quot;</td><td>&quot;HT&quot;</td><td>&quot;C-00017429&quot;</td><td>&quot;HTB_Project_00…</td><td>2021-11-01</td><td>null</td><td>&quot;スター電器製造株式会社&quot;</td><td>&quot;スター電器製造株式会社&quot;</td><td>10000.0</td><td>10000.0</td><td>10000.0</td><td>10000.0</td><td>60000.0</td><td>60000.0</td><td>60000.0</td><td>60000.0</td><td>60000.0</td><td>60000.0</td><td>60000.0</td><td>60000.0</td><td>60000.0</td><td>null</td><td>null</td><td>null</td><td>null</td><td>null</td><td>null</td><td>null</td><td>null</td><td>null</td><td>null</td><td>null</td><td>null</td></tr><tr><td>2023-08-01</td><td>&quot;MONI&quot;</td><td>&quot;MONI&quot;</td><td>&quot;C-00017441&quot;</td><td>&quot;OMD-Service-00…</td><td>2023-01-01</td><td>null</td><td>&quot;中部テレコミュニケーション株…</td><td>&quot;中部テレコミュニケーション_…</td><td>75000.0</td><td>75000.0</td><td>75000.0</td><td>75000.0</td><td>75000.0</td><td>75000.0</td><td>75000.0</td><td>75000.0</td><td>null</td><td>null</td><td>null</td><td>null</td><td>null</td><td>null</td><td>null</td><td>null</td><td>null</td><td>null</td><td>null</td><td>null</td><td>null</td><td>null</td><td>null</td><td>null</td><td>null</td></tr><tr><td>2023-08-01</td><td>&quot;HT&quot;</td><td>&quot;HT&quot;</td><td>&quot;C-00017446&quot;</td><td>&quot;HTB_Project_00…</td><td>2022-06-01</td><td>null</td><td>&quot;パナソニック株式会社 エレク…</td><td>&quot;パナソニック株式会社　エレク…</td><td>65000.0</td><td>65000.0</td><td>65000.0</td><td>65000.0</td><td>65000.0</td><td>65000.0</td><td>65000.0</td><td>65000.0</td><td>65000.0</td><td>65000.0</td><td>65000.0</td><td>65000.0</td><td>65000.0</td><td>null</td><td>null</td><td>null</td><td>null</td><td>null</td><td>null</td><td>null</td><td>null</td><td>null</td><td>null</td><td>null</td><td>null</td></tr><tr><td>2023-08-01</td><td>&quot;CS&quot;</td><td>&quot;CS&quot;</td><td>&quot;C-00017583&quot;</td><td>&quot;OMD-SAS-Servic…</td><td>2023-07-06</td><td>null</td><td>&quot;株式会社WESEEK&quot;</td><td>&quot;GROWI.cloud CS…</td><td>120000.0</td><td>102000.0</td><td>null</td><td>null</td><td>null</td><td>null</td><td>null</td><td>null</td><td>null</td><td>null</td><td>null</td><td>null</td><td>null</td><td>null</td><td>null</td><td>null</td><td>null</td><td>null</td><td>null</td><td>null</td><td>null</td><td>null</td><td>null</td><td>null</td><td>null</td></tr><tr><td>2023-08-01</td><td>&quot;CS&quot;</td><td>&quot;CS&quot;</td><td>&quot;C-00017583&quot;</td><td>&quot;OMD-SAS-Servic…</td><td>2023-07-06</td><td>null</td><td>&quot;株式会社WESEEK&quot;</td><td>&quot;GROWI.cloud CS…</td><td>500000.0</td><td>425000.0</td><td>null</td><td>null</td><td>null</td><td>null</td><td>null</td><td>null</td><td>null</td><td>null</td><td>null</td><td>null</td><td>null</td><td>null</td><td>null</td><td>null</td><td>null</td><td>null</td><td>null</td><td>null</td><td>null</td><td>null</td><td>null</td><td>null</td><td>null</td></tr><tr><td>2023-08-01</td><td>&quot;CRSD&quot;</td><td>&quot;CS&quot;</td><td>&quot;C-00017588&quot;</td><td>&quot;OMD-SAS-Servic…</td><td>2023-07-11</td><td>null</td><td>&quot;Super Massive …</td><td>&quot;Zendeskライセンス費用…</td><td>27440.0</td><td>27440.0</td><td>null</td><td>null</td><td>null</td><td>null</td><td>null</td><td>null</td><td>null</td><td>null</td><td>null</td><td>null</td><td>null</td><td>null</td><td>null</td><td>null</td><td>null</td><td>null</td><td>null</td><td>null</td><td>null</td><td>null</td><td>null</td><td>null</td><td>null</td></tr></tbody></table></div>"
            ]
          },
          "metadata": {},
          "execution_count": 19
        }
      ]
    },
    {
      "cell_type": "code",
      "source": [
        "# # 各案件のレコードに2～12ヶ月の移動平均の列を追加\n",
        "# from datetime import date\n",
        "# from dateutil.relativedelta import relativedelta\n",
        "# from tqdm import tqdm\n",
        "\n",
        "# def addNthMonthMovingAverage(row, month, col_names, cols_after):\n",
        "#   # apply で渡されてきた行のデータを DataFrame に変換 / 型情報を渡さないとエラーになる場合があるので schema_overrides を使用\n",
        "#   val = pl.DataFrame([row], schema=temp_df.columns, schema_overrides=col_names)\n",
        "\n",
        "#   # 対象月と案件の開始日 (開始日が null の場合はダミーの値を設定)\n",
        "#   target_month = val[0]['対象年月'][0]\n",
        "#   start = val[0]['開始日'][0] if val[0]['開始日'][0] != None else date(2000, 1, 1)\n",
        "\n",
        "#   # 当月 - month が 案件の開始日 - 1ヶ月 以前になる場合は null を返す\n",
        "#   if (target_month - relativedelta(months=month)) <= (start - relativedelta(months=1)):\n",
        "#     return None\n",
        "#   # 当月 - month が CSV の最古の対象月よりも前になる場合は null を返す\n",
        "#   elif (target_month - relativedelta(months=month)) < csv_pl['対象年月'][-1]:\n",
        "#     return None\n",
        "#   # 当月から monthヶ月前 までの平均を返す\n",
        "#   else:\n",
        "#     return val.select(pl.col(cols_after)).sum(axis=1)[0] / (month + 1)\n",
        "\n",
        "\n",
        "# # apply で処理する際の型情報用のリスト\n",
        "# col_names = dict(zip(temp_df.columns, temp_df.dtypes))\n",
        "\n",
        "# for i in tqdm(range(1, 12)):\n",
        "#   # 当月 から iヶ月前 までのカラム名のリストを生成\n",
        "#   cols_after = ['請求額_当月'] + [f'請求額_{m:02}ヶ月前' for m in range(1, i + 1)]\n",
        "\n",
        "#   new_col = temp_df.apply(lambda row: addNthMonthMovingAverage(row, i, col_names, cols_after), return_dtype=pl.Float64)\n",
        "#   temp_df = temp_df.with_columns(new_col['apply'].alias(f'移動平均_{i + 1:02}ヶ月間'))\n",
        "\n",
        "# temp_df"
      ],
      "metadata": {
        "id": "G4VSNMqng_Ef"
      },
      "execution_count": null,
      "outputs": []
    },
    {
      "cell_type": "markdown",
      "source": [
        "### 処理結果をスプレッドシートの2番目のシートへ展開\n",
        "https://docs.google.com/spreadsheets/d/15gxCoKnyMQZNqlODgbIeR2H1BfJ7KahfL61rckIEwkw/\n"
      ],
      "metadata": {
        "id": "Ok1l0J0PZuj_"
      }
    },
    {
      "cell_type": "code",
      "source": [
        "# スプレッドシートを開く（シートURLから）\n",
        "url = \"https://docs.google.com/spreadsheets/d/15gxCoKnyMQZNqlODgbIeR2H1BfJ7KahfL61rckIEwkw/\"\n",
        "ss = gc.open_by_url(url)\n",
        "\n",
        "# シートを取得\n",
        "sheet = ss.get_worksheet(1)\n",
        "print(sheet)"
      ],
      "metadata": {
        "colab": {
          "base_uri": "https://localhost:8080/"
        },
        "id": "l1S-jGUs8_37",
        "outputId": "0605b295-ffca-44ef-8299-f8140ab09f34"
      },
      "execution_count": null,
      "outputs": [
        {
          "output_type": "stream",
          "name": "stdout",
          "text": [
            "<Worksheet 'CSV処理後_案件毎' id:0>\n"
          ]
        }
      ]
    },
    {
      "cell_type": "code",
      "source": [
        "# 対象年月, 開始日, 終了日 を date から str へ変換\n",
        "result_df = temp_df.with_columns(\n",
        "  pl.col('対象年月').dt.strftime('%Y-%m-%d'),\n",
        "  pl.col('開始日').dt.strftime('%Y-%m-%d'),\n",
        "  pl.col('終了日').dt.strftime('%Y-%m-%d'),\n",
        ")\n",
        "result_df.head()\n",
        "\n",
        "# CSV処理後の Dataframe を二次元リストに変換\n",
        "result_list = []\n",
        "for col in result_df.columns:\n",
        "  temp_list = [col]\n",
        "  temp_list += result_df[col].to_list()\n",
        "  result_list.append(temp_list)\n",
        "\n",
        "# リストを転置\n",
        "result_list = [list(x) for x in zip(*result_list)]\n",
        "result_list[0:2]"
      ],
      "metadata": {
        "colab": {
          "base_uri": "https://localhost:8080/"
        },
        "id": "Gvv_IZx8kYsH",
        "outputId": "24ff99cd-c828-4155-eaac-7af7e38d5e4a"
      },
      "execution_count": null,
      "outputs": [
        {
          "output_type": "execute_result",
          "data": {
            "text/plain": [
              "[['対象年月',\n",
              "  '計上部署',\n",
              "  '部署グループ',\n",
              "  '取引先ID',\n",
              "  '案件ID',\n",
              "  '開始日',\n",
              "  '終了日',\n",
              "  '取引先名',\n",
              "  '案件名',\n",
              "  '請求額_当月',\n",
              "  '請求額_01ヶ月前',\n",
              "  '請求額_02ヶ月前',\n",
              "  '請求額_03ヶ月前',\n",
              "  '請求額_04ヶ月前',\n",
              "  '請求額_05ヶ月前',\n",
              "  '請求額_06ヶ月前',\n",
              "  '請求額_07ヶ月前',\n",
              "  '請求額_08ヶ月前',\n",
              "  '請求額_09ヶ月前',\n",
              "  '請求額_10ヶ月前',\n",
              "  '請求額_11ヶ月前',\n",
              "  '請求額_12ヶ月前',\n",
              "  '請求額_01ヶ月後',\n",
              "  '請求額_02ヶ月後',\n",
              "  '請求額_03ヶ月後',\n",
              "  '請求額_04ヶ月後',\n",
              "  '請求額_05ヶ月後',\n",
              "  '請求額_06ヶ月後',\n",
              "  '請求額_07ヶ月後',\n",
              "  '請求額_08ヶ月後',\n",
              "  '請求額_09ヶ月後',\n",
              "  '請求額_10ヶ月後',\n",
              "  '請求額_11ヶ月後',\n",
              "  '請求額_12ヶ月後'],\n",
              " ['2021-01-01',\n",
              "  'CRSD',\n",
              "  'CS',\n",
              "  'C-00001489',\n",
              "  'OMD-SAS-Service-000001231',\n",
              "  None,\n",
              "  '2021-03-18',\n",
              "  '株式会社クリーク・アンド・リバー社',\n",
              "  'キン肉マン 超人タッグファイト',\n",
              "  28000.0,\n",
              "  None,\n",
              "  None,\n",
              "  None,\n",
              "  None,\n",
              "  None,\n",
              "  None,\n",
              "  None,\n",
              "  None,\n",
              "  None,\n",
              "  None,\n",
              "  None,\n",
              "  None,\n",
              "  30270.0,\n",
              "  67586.0,\n",
              "  None,\n",
              "  None,\n",
              "  None,\n",
              "  None,\n",
              "  None,\n",
              "  None,\n",
              "  None,\n",
              "  None,\n",
              "  None,\n",
              "  None]]"
            ]
          },
          "metadata": {},
          "execution_count": 22
        }
      ]
    },
    {
      "cell_type": "code",
      "source": [
        "# シートを一旦クリア\n",
        "sheet.clear()\n",
        "\n",
        "# 2次元配列を一括で書き込み\n",
        "sheet.update(result_list)"
      ],
      "metadata": {
        "id": "bSRtxTHT9OhM",
        "colab": {
          "base_uri": "https://localhost:8080/"
        },
        "outputId": "fcd2e138-2517-474f-916f-94aedb36b6bf"
      },
      "execution_count": null,
      "outputs": [
        {
          "output_type": "execute_result",
          "data": {
            "text/plain": [
              "{'spreadsheetId': '15gxCoKnyMQZNqlODgbIeR2H1BfJ7KahfL61rckIEwkw',\n",
              " 'updatedRange': \"'CSV処理後_案件毎'!A1:AH25822\",\n",
              " 'updatedRows': 25822,\n",
              " 'updatedColumns': 34,\n",
              " 'updatedCells': 660149}"
            ]
          },
          "metadata": {},
          "execution_count": 23
        }
      ]
    },
    {
      "cell_type": "markdown",
      "source": [
        "## 処理済みのデータをスプレッドシートから再読み込みし、取引先・部署ごとに集計"
      ],
      "metadata": {
        "id": "ImL6gZ2uW1GH"
      }
    },
    {
      "cell_type": "markdown",
      "source": [
        "- 3, 6, 12ヶ月ごとに処理\n",
        "- 「yyyy年mm月に存在したレコード」を起点に、各レコードの 3, 6, 12ヶ月 後の請求額を集計\n",
        "![キャプチャ.PNG](data:image/png;base64,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)"
      ],
      "metadata": {
        "id": "CaE39JMlrfcB"
      }
    },
    {
      "cell_type": "markdown",
      "source": [
        "### スプレッドシートのデータを取得、型変換"
      ],
      "metadata": {
        "id": "RC0QoDZ9Wqb_"
      }
    },
    {
      "cell_type": "code",
      "source": [
        "# スプレッドシートを開く（IDから）\n",
        "key = '15gxCoKnyMQZNqlODgbIeR2H1BfJ7KahfL61rckIEwkw'\n",
        "ss = gc.open_by_key(key)\n",
        "\n",
        "# シートを取得\n",
        "sheet = ss.get_worksheet(1)\n",
        "print(sheet)"
      ],
      "metadata": {
        "colab": {
          "base_uri": "https://localhost:8080/"
        },
        "outputId": "22031279-a008-4872-ad85-447656d83a08",
        "id": "lXmlbcjLWqcI"
      },
      "execution_count": null,
      "outputs": [
        {
          "output_type": "stream",
          "name": "stdout",
          "text": [
            "<Worksheet 'CSV処理後_案件毎' id:0>\n"
          ]
        }
      ]
    },
    {
      "cell_type": "code",
      "source": [
        "# シートからデータを読み込み・DataFrame へ変換\n",
        "dic = sheet.get_all_records()\n",
        "ss_df = pl.from_dicts(dic)\n",
        "\n",
        "# 読み込んだ DataFrame の日付と金額の各列のデータ型を変換\n",
        "# 空文字列 \"\" を変換しようとするとエラーになるので strict=False でエラーを無視（null に置換）させる\n",
        "ss_df = ss_df.with_columns(\n",
        "  pl.col('対象年月').str.strptime(pl.Date, '%Y-%m-%d', strict=False),\n",
        "  pl.col('開始日').str.strptime(pl.Date, '%Y-%m-%d', strict=False),\n",
        "  pl.col('終了日').str.strptime(pl.Date, '%Y-%m-%d', strict=False),\n",
        "  pl.col('^請求額_.+$').cast(pl.Float64, strict=False),\n",
        "  # pl.col('^移動平均_.+$').cast(pl.Float64, strict=False),\n",
        ")\n",
        "\n",
        "ss_df.head()"
      ],
      "metadata": {
        "colab": {
          "base_uri": "https://localhost:8080/"
        },
        "outputId": "6aa3bed5-7f0d-45cf-d08c-fc804028a3e3",
        "id": "Af5Y9R7cWqcI"
      },
      "execution_count": null,
      "outputs": [
        {
          "output_type": "execute_result",
          "data": {
            "text/plain": [
              "shape: (5, 34)\n",
              "┌────────────┬────────────┬────────────┬───────────┬───┬────────────┬────────────┬────────────┬────────────┐\n",
              "│ 対象年月   ┆ 計上部署   ┆ 部署グルー ┆ 取引先ID  ┆ … ┆ 請求額_09  ┆ 請求額_10  ┆ 請求額_11  ┆ 請求額_12  │\n",
              "│ ---        ┆ ---        ┆ プ         ┆ ---       ┆   ┆ ヶ月後     ┆ ヶ月後     ┆ ヶ月後     ┆ ヶ月後     │\n",
              "│ date       ┆ str        ┆ ---        ┆ str       ┆   ┆ ---        ┆ ---        ┆ ---        ┆ ---        │\n",
              "│            ┆            ┆ str        ┆           ┆   ┆ f64        ┆ f64        ┆ f64        ┆ f64        │\n",
              "╞════════════╪════════════╪════════════╪═══════════╪═══╪════════════╪════════════╪════════════╪════════════╡\n",
              "│ 2021-01-01 ┆ CRSD       ┆ CS         ┆ C-0000148 ┆ … ┆ null       ┆ null       ┆ null       ┆ null       │\n",
              "│            ┆            ┆            ┆ 9         ┆   ┆            ┆            ┆            ┆            │\n",
              "│ 2021-01-01 ┆ CRSD       ┆ CS         ┆ C-0000148 ┆ … ┆ null       ┆ null       ┆ null       ┆ null       │\n",
              "│            ┆            ┆            ┆ 9         ┆   ┆            ┆            ┆            ┆            │\n",
              "│ 2021-01-01 ┆ CRSD       ┆ CS         ┆ C-0000148 ┆ … ┆ null       ┆ null       ┆ null       ┆ null       │\n",
              "│            ┆            ┆            ┆ 9         ┆   ┆            ┆            ┆            ┆            │\n",
              "│ 2021-01-01 ┆ CRSD       ┆ CS         ┆ C-0000148 ┆ … ┆ 65000.0    ┆ 38000.0    ┆ 38000.0    ┆ 38000.0    │\n",
              "│            ┆            ┆            ┆ 9         ┆   ┆            ┆            ┆            ┆            │\n",
              "│ 2021-01-01 ┆ CSJP       ┆ CS         ┆ C-0000148 ┆ … ┆ 307500.0   ┆ 307500.0   ┆ 307500.0   ┆ 307500.0   │\n",
              "│            ┆            ┆            ┆ 9         ┆   ┆            ┆            ┆            ┆            │\n",
              "└────────────┴────────────┴────────────┴───────────┴───┴────────────┴────────────┴────────────┴────────────┘"
            ],
            "text/html": [
              "<div><style>\n",
              ".dataframe > thead > tr > th,\n",
              ".dataframe > tbody > tr > td {\n",
              "  text-align: right;\n",
              "}\n",
              "</style>\n",
              "<small>shape: (5, 34)</small><table border=\"1\" class=\"dataframe\"><thead><tr><th>対象年月</th><th>計上部署</th><th>部署グループ</th><th>取引先ID</th><th>案件ID</th><th>開始日</th><th>終了日</th><th>取引先名</th><th>案件名</th><th>請求額_当月</th><th>請求額_01ヶ月前</th><th>請求額_02ヶ月前</th><th>請求額_03ヶ月前</th><th>請求額_04ヶ月前</th><th>請求額_05ヶ月前</th><th>請求額_06ヶ月前</th><th>請求額_07ヶ月前</th><th>請求額_08ヶ月前</th><th>請求額_09ヶ月前</th><th>請求額_10ヶ月前</th><th>請求額_11ヶ月前</th><th>請求額_12ヶ月前</th><th>請求額_01ヶ月後</th><th>請求額_02ヶ月後</th><th>請求額_03ヶ月後</th><th>請求額_04ヶ月後</th><th>請求額_05ヶ月後</th><th>請求額_06ヶ月後</th><th>請求額_07ヶ月後</th><th>請求額_08ヶ月後</th><th>請求額_09ヶ月後</th><th>請求額_10ヶ月後</th><th>請求額_11ヶ月後</th><th>請求額_12ヶ月後</th></tr><tr><td>date</td><td>str</td><td>str</td><td>str</td><td>str</td><td>date</td><td>date</td><td>str</td><td>str</td><td>f64</td><td>f64</td><td>f64</td><td>f64</td><td>f64</td><td>f64</td><td>f64</td><td>f64</td><td>f64</td><td>f64</td><td>f64</td><td>f64</td><td>f64</td><td>f64</td><td>f64</td><td>f64</td><td>f64</td><td>f64</td><td>f64</td><td>f64</td><td>f64</td><td>f64</td><td>f64</td><td>f64</td><td>f64</td></tr></thead><tbody><tr><td>2021-01-01</td><td>&quot;CRSD&quot;</td><td>&quot;CS&quot;</td><td>&quot;C-00001489&quot;</td><td>&quot;OMD-SAS-Servic…</td><td>null</td><td>2021-03-18</td><td>&quot;株式会社クリーク・アンド・リ…</td><td>&quot;キン肉マン 超人タッグファイ…</td><td>28000.0</td><td>null</td><td>null</td><td>null</td><td>null</td><td>null</td><td>null</td><td>null</td><td>null</td><td>null</td><td>null</td><td>null</td><td>null</td><td>30270.0</td><td>67586.0</td><td>null</td><td>null</td><td>null</td><td>null</td><td>null</td><td>null</td><td>null</td><td>null</td><td>null</td><td>null</td></tr><tr><td>2021-01-01</td><td>&quot;CRSD&quot;</td><td>&quot;CS&quot;</td><td>&quot;C-00001489&quot;</td><td>&quot;OMD-SAS-Servic…</td><td>2017-01-01</td><td>2021-03-18</td><td>&quot;株式会社クリーク・アンド・リ…</td><td>&quot;キン肉マン 超人タッグファイ…</td><td>30000.0</td><td>null</td><td>null</td><td>null</td><td>null</td><td>null</td><td>null</td><td>null</td><td>null</td><td>null</td><td>null</td><td>null</td><td>null</td><td>30000.0</td><td>30000.0</td><td>null</td><td>null</td><td>null</td><td>null</td><td>null</td><td>null</td><td>null</td><td>null</td><td>null</td><td>null</td></tr><tr><td>2021-01-01</td><td>&quot;CRSD&quot;</td><td>&quot;CS&quot;</td><td>&quot;C-00001489&quot;</td><td>&quot;OMD-SAS-Servic…</td><td>2017-01-01</td><td>2021-03-18</td><td>&quot;株式会社クリーク・アンド・リ…</td><td>&quot;キン肉マン 超人タッグファイ…</td><td>0.0</td><td>null</td><td>null</td><td>null</td><td>null</td><td>null</td><td>null</td><td>null</td><td>null</td><td>null</td><td>null</td><td>null</td><td>null</td><td>0.0</td><td>0.0</td><td>null</td><td>null</td><td>null</td><td>null</td><td>null</td><td>null</td><td>null</td><td>null</td><td>null</td><td>null</td></tr><tr><td>2021-01-01</td><td>&quot;CRSD&quot;</td><td>&quot;CS&quot;</td><td>&quot;C-00001489&quot;</td><td>&quot;OMD-SAS-Servic…</td><td>2017-07-01</td><td>null</td><td>&quot;株式会社クリーク・アンド・リ…</td><td>&quot;アトラクションフェスタ&quot;</td><td>42000.0</td><td>null</td><td>null</td><td>null</td><td>null</td><td>null</td><td>null</td><td>null</td><td>null</td><td>null</td><td>null</td><td>null</td><td>null</td><td>39730.0</td><td>2414.0</td><td>38000.0</td><td>38000.0</td><td>38000.0</td><td>38000.0</td><td>38000.0</td><td>38000.0</td><td>65000.0</td><td>38000.0</td><td>38000.0</td><td>38000.0</td></tr><tr><td>2021-01-01</td><td>&quot;CSJP&quot;</td><td>&quot;CS&quot;</td><td>&quot;C-00001489&quot;</td><td>&quot;OMD-SAS-Servic…</td><td>2020-09-15</td><td>2022-12-31</td><td>&quot;株式会社クリーク・アンド・リ…</td><td>&quot;トレすごタウン&quot;</td><td>307500.0</td><td>null</td><td>null</td><td>null</td><td>null</td><td>null</td><td>null</td><td>null</td><td>null</td><td>null</td><td>null</td><td>null</td><td>null</td><td>307500.0</td><td>307500.0</td><td>307500.0</td><td>307500.0</td><td>307500.0</td><td>307500.0</td><td>307500.0</td><td>307500.0</td><td>307500.0</td><td>307500.0</td><td>307500.0</td><td>307500.0</td></tr></tbody></table></div>"
            ]
          },
          "metadata": {},
          "execution_count": 25
        }
      ]
    },
    {
      "cell_type": "markdown",
      "source": [
        "### 読み込んだデータからSGを除外"
      ],
      "metadata": {
        "id": "Varl4ARh4bGU"
      }
    },
    {
      "cell_type": "code",
      "source": [
        "ss_df = ss_df.filter(\n",
        "  pl.col('部署グループ') != 'SG'\n",
        ")\n",
        "\n",
        "ss_df.head()"
      ],
      "metadata": {
        "colab": {
          "base_uri": "https://localhost:8080/",
          "height": 967
        },
        "id": "Sc_4N93t4g8S",
        "outputId": "92727f37-78f3-45d2-bebb-20dcc53a8744"
      },
      "execution_count": null,
      "outputs": [
        {
          "output_type": "execute_result",
          "data": {
            "text/plain": [
              "shape: (5, 34)\n",
              "┌────────────┬────────────┬────────────┬───────────┬───┬────────────┬────────────┬────────────┬────────────┐\n",
              "│ 対象年月   ┆ 計上部署   ┆ 部署グルー ┆ 取引先ID  ┆ … ┆ 請求額_09  ┆ 請求額_10  ┆ 請求額_11  ┆ 請求額_12  │\n",
              "│ ---        ┆ ---        ┆ プ         ┆ ---       ┆   ┆ ヶ月後     ┆ ヶ月後     ┆ ヶ月後     ┆ ヶ月後     │\n",
              "│ date       ┆ str        ┆ ---        ┆ str       ┆   ┆ ---        ┆ ---        ┆ ---        ┆ ---        │\n",
              "│            ┆            ┆ str        ┆           ┆   ┆ f64        ┆ f64        ┆ f64        ┆ f64        │\n",
              "╞════════════╪════════════╪════════════╪═══════════╪═══╪════════════╪════════════╪════════════╪════════════╡\n",
              "│ 2021-01-01 ┆ CRSD       ┆ CS         ┆ C-0000148 ┆ … ┆ null       ┆ null       ┆ null       ┆ null       │\n",
              "│            ┆            ┆            ┆ 9         ┆   ┆            ┆            ┆            ┆            │\n",
              "│ 2021-01-01 ┆ CRSD       ┆ CS         ┆ C-0000148 ┆ … ┆ null       ┆ null       ┆ null       ┆ null       │\n",
              "│            ┆            ┆            ┆ 9         ┆   ┆            ┆            ┆            ┆            │\n",
              "│ 2021-01-01 ┆ CRSD       ┆ CS         ┆ C-0000148 ┆ … ┆ null       ┆ null       ┆ null       ┆ null       │\n",
              "│            ┆            ┆            ┆ 9         ┆   ┆            ┆            ┆            ┆            │\n",
              "│ 2021-01-01 ┆ CRSD       ┆ CS         ┆ C-0000148 ┆ … ┆ 65000.0    ┆ 38000.0    ┆ 38000.0    ┆ 38000.0    │\n",
              "│            ┆            ┆            ┆ 9         ┆   ┆            ┆            ┆            ┆            │\n",
              "│ 2021-01-01 ┆ CSJP       ┆ CS         ┆ C-0000148 ┆ … ┆ 307500.0   ┆ 307500.0   ┆ 307500.0   ┆ 307500.0   │\n",
              "│            ┆            ┆            ┆ 9         ┆   ┆            ┆            ┆            ┆            │\n",
              "└────────────┴────────────┴────────────┴───────────┴───┴────────────┴────────────┴────────────┴────────────┘"
            ],
            "text/html": [
              "<div><style>\n",
              ".dataframe > thead > tr > th,\n",
              ".dataframe > tbody > tr > td {\n",
              "  text-align: right;\n",
              "}\n",
              "</style>\n",
              "<small>shape: (5, 34)</small><table border=\"1\" class=\"dataframe\"><thead><tr><th>対象年月</th><th>計上部署</th><th>部署グループ</th><th>取引先ID</th><th>案件ID</th><th>開始日</th><th>終了日</th><th>取引先名</th><th>案件名</th><th>請求額_当月</th><th>請求額_01ヶ月前</th><th>請求額_02ヶ月前</th><th>請求額_03ヶ月前</th><th>請求額_04ヶ月前</th><th>請求額_05ヶ月前</th><th>請求額_06ヶ月前</th><th>請求額_07ヶ月前</th><th>請求額_08ヶ月前</th><th>請求額_09ヶ月前</th><th>請求額_10ヶ月前</th><th>請求額_11ヶ月前</th><th>請求額_12ヶ月前</th><th>請求額_01ヶ月後</th><th>請求額_02ヶ月後</th><th>請求額_03ヶ月後</th><th>請求額_04ヶ月後</th><th>請求額_05ヶ月後</th><th>請求額_06ヶ月後</th><th>請求額_07ヶ月後</th><th>請求額_08ヶ月後</th><th>請求額_09ヶ月後</th><th>請求額_10ヶ月後</th><th>請求額_11ヶ月後</th><th>請求額_12ヶ月後</th></tr><tr><td>date</td><td>str</td><td>str</td><td>str</td><td>str</td><td>date</td><td>date</td><td>str</td><td>str</td><td>f64</td><td>f64</td><td>f64</td><td>f64</td><td>f64</td><td>f64</td><td>f64</td><td>f64</td><td>f64</td><td>f64</td><td>f64</td><td>f64</td><td>f64</td><td>f64</td><td>f64</td><td>f64</td><td>f64</td><td>f64</td><td>f64</td><td>f64</td><td>f64</td><td>f64</td><td>f64</td><td>f64</td><td>f64</td></tr></thead><tbody><tr><td>2021-01-01</td><td>&quot;CRSD&quot;</td><td>&quot;CS&quot;</td><td>&quot;C-00001489&quot;</td><td>&quot;OMD-SAS-Servic…</td><td>null</td><td>2021-03-18</td><td>&quot;株式会社クリーク・アンド・リ…</td><td>&quot;キン肉マン 超人タッグファイ…</td><td>28000.0</td><td>null</td><td>null</td><td>null</td><td>null</td><td>null</td><td>null</td><td>null</td><td>null</td><td>null</td><td>null</td><td>null</td><td>null</td><td>30270.0</td><td>67586.0</td><td>null</td><td>null</td><td>null</td><td>null</td><td>null</td><td>null</td><td>null</td><td>null</td><td>null</td><td>null</td></tr><tr><td>2021-01-01</td><td>&quot;CRSD&quot;</td><td>&quot;CS&quot;</td><td>&quot;C-00001489&quot;</td><td>&quot;OMD-SAS-Servic…</td><td>2017-01-01</td><td>2021-03-18</td><td>&quot;株式会社クリーク・アンド・リ…</td><td>&quot;キン肉マン 超人タッグファイ…</td><td>30000.0</td><td>null</td><td>null</td><td>null</td><td>null</td><td>null</td><td>null</td><td>null</td><td>null</td><td>null</td><td>null</td><td>null</td><td>null</td><td>30000.0</td><td>30000.0</td><td>null</td><td>null</td><td>null</td><td>null</td><td>null</td><td>null</td><td>null</td><td>null</td><td>null</td><td>null</td></tr><tr><td>2021-01-01</td><td>&quot;CRSD&quot;</td><td>&quot;CS&quot;</td><td>&quot;C-00001489&quot;</td><td>&quot;OMD-SAS-Servic…</td><td>2017-01-01</td><td>2021-03-18</td><td>&quot;株式会社クリーク・アンド・リ…</td><td>&quot;キン肉マン 超人タッグファイ…</td><td>0.0</td><td>null</td><td>null</td><td>null</td><td>null</td><td>null</td><td>null</td><td>null</td><td>null</td><td>null</td><td>null</td><td>null</td><td>null</td><td>0.0</td><td>0.0</td><td>null</td><td>null</td><td>null</td><td>null</td><td>null</td><td>null</td><td>null</td><td>null</td><td>null</td><td>null</td></tr><tr><td>2021-01-01</td><td>&quot;CRSD&quot;</td><td>&quot;CS&quot;</td><td>&quot;C-00001489&quot;</td><td>&quot;OMD-SAS-Servic…</td><td>2017-07-01</td><td>null</td><td>&quot;株式会社クリーク・アンド・リ…</td><td>&quot;アトラクションフェスタ&quot;</td><td>42000.0</td><td>null</td><td>null</td><td>null</td><td>null</td><td>null</td><td>null</td><td>null</td><td>null</td><td>null</td><td>null</td><td>null</td><td>null</td><td>39730.0</td><td>2414.0</td><td>38000.0</td><td>38000.0</td><td>38000.0</td><td>38000.0</td><td>38000.0</td><td>38000.0</td><td>65000.0</td><td>38000.0</td><td>38000.0</td><td>38000.0</td></tr><tr><td>2021-01-01</td><td>&quot;CSJP&quot;</td><td>&quot;CS&quot;</td><td>&quot;C-00001489&quot;</td><td>&quot;OMD-SAS-Servic…</td><td>2020-09-15</td><td>2022-12-31</td><td>&quot;株式会社クリーク・アンド・リ…</td><td>&quot;トレすごタウン&quot;</td><td>307500.0</td><td>null</td><td>null</td><td>null</td><td>null</td><td>null</td><td>null</td><td>null</td><td>null</td><td>null</td><td>null</td><td>null</td><td>null</td><td>307500.0</td><td>307500.0</td><td>307500.0</td><td>307500.0</td><td>307500.0</td><td>307500.0</td><td>307500.0</td><td>307500.0</td><td>307500.0</td><td>307500.0</td><td>307500.0</td><td>307500.0</td></tr></tbody></table></div>"
            ]
          },
          "metadata": {},
          "execution_count": 26
        }
      ]
    },
    {
      "cell_type": "markdown",
      "source": [
        "### 以降の処理用の関数定義"
      ],
      "metadata": {
        "id": "eZAaa5jphosu"
      }
    },
    {
      "cell_type": "code",
      "source": [
        "from datetime import date\n",
        "from dateutil.relativedelta import relativedelta\n",
        "\n",
        "# 各レコードに移動平均の列を追加するための関数\n",
        "def addNthMonthMovingAverage_client(row, i, m, col_names, col_types, first_date, cols_period, offset_month=0):\n",
        "  # apply で渡されてきた行のデータを DataFrame に変換 / 型情報を渡さないとエラーになる場合があるので schema_overrides を使用\n",
        "  val = pl.DataFrame([row], schema=col_names, schema_overrides=col_types)\n",
        "\n",
        "  # 対象月と案件の開始日 (開始日が null の場合はダミーの値を設定)\n",
        "  target_month = val[0]['対象年月'][0] + relativedelta(months=i) + relativedelta(months=offset_month)\n",
        "  start = val[0][f'[{i:02}]開始日_最古'][0] if val[0][f'[{i:02}]開始日_最古'][0] != None else date(2000, 1, 1)\n",
        "\n",
        "  # 対象月 - (m - 1) が 案件の開始日 - 1ヶ月 以前になる場合は null を返す\n",
        "  if (target_month - relativedelta(months=m - 1)) <= (start - relativedelta(months=1)):\n",
        "    return None\n",
        "  # 対象月 - (m - 1) が CSV の最古の対象月よりも前になる場合は null を返す\n",
        "  elif (target_month - relativedelta(months=m - 1)) < first_date:\n",
        "    return None\n",
        "  # 対象月から mヶ月前 までの平均を返す（sum の結果がゼロの場合は平均ではなくゼロを返す）\n",
        "  else:\n",
        "    sum_result = val.select(pl.col(cols_period)).sum(axis=1)[0]\n",
        "    return sum_result / m if sum_result > 0 else 0"
      ],
      "metadata": {
        "id": "EDXjD6VCWqcK"
      },
      "execution_count": null,
      "outputs": []
    },
    {
      "cell_type": "markdown",
      "source": [
        "### 取引先ごとに再集計"
      ],
      "metadata": {
        "id": "BJFd_UrvhCxh"
      }
    },
    {
      "cell_type": "markdown",
      "source": [
        "#### 取引先ごとにグループ化して再処理"
      ],
      "metadata": {
        "id": "jS04GELmWqcJ"
      }
    },
    {
      "cell_type": "code",
      "source": [
        "# 3, 6, 12ヶ月の過去売り上げごと・取引先ごとにグルーピング\n",
        "from tqdm import tqdm\n",
        "from datetime import date\n",
        "from dateutil.relativedelta import relativedelta\n",
        "\n",
        "target_months = [3, 6, 12]\n",
        "result_dfs_client = []\n",
        "column_rename_dic = dict(\n",
        "  [(f'請求額_{i:02}ヶ月前', f'請求額_{-i}') for i in range(1, 13)] +\n",
        "  [('請求額_当月', '請求額_0')] +\n",
        "  [(f'請求額_{i:02}ヶ月後', f'請求額_{i}') for i in range(1, 13)]\n",
        ")\n",
        "\n",
        "# 開始・終了日、取引先名の apply 処理用関数\n",
        "def getLatestDate_client(row, df):\n",
        "  val = df.filter((pl.col('取引先ID') == row[1]))\n",
        "  start = val.sort('開始日')['開始日'][0]\n",
        "  end = val.sort('終了日', descending=True)['終了日'][0] if not None in set(val['終了日']) else None\n",
        "  client = val.sort('開始日')['取引先名'][0]\n",
        "  return (start, end, client)\n",
        "\n",
        "for i in target_months:\n",
        "  print(f'===== target_months = {i:02} =======================')\n",
        "\n",
        "  # 対象月が (レコードの最新の対象月 - iヶ月) より後になるレコードを除外\n",
        "  temp_nth_months_df = ss_df.filter(\n",
        "    pl.col('対象年月') <= (ss_df['対象年月'][-1] - relativedelta(months=i))\n",
        "  ).sort(\n",
        "    '対象年月', '取引先ID'\n",
        "  )\n",
        "\n",
        "  # 対象年月、取引先ID でグループ化\n",
        "  # groupby().sum() で date 型も計算されてしまうため「開始日、終了日」の列は除外\n",
        "  temp_grouping_df = temp_nth_months_df.select(\n",
        "    pl.col('*').exclude('開始日', '終了日')\n",
        "  ).groupby(\n",
        "    '対象年月', '取引先ID'\n",
        "  ).sum().with_columns(\n",
        "    pl.col(f'請求額_{i:02}ヶ月後').alias(f'[{i:02}]請求額_当月'), # iヶ月後の請求額を当月分として列を作成\n",
        "    pl.col(f'請求額_当月').alias(f'[{i:02}]請求額_{i:02}ヶ月前')  # 当月の請求額をiヶ月前分として列を作成\n",
        "  )\n",
        "\n",
        "  # 請求額のカラム名を「当月をゼロとした連番」にリネーム（12ヶ月前：請求額_-12 ～ 当月：請求額_0 ～ 12ヶ月後：請求額_12）\n",
        "  temp_grouping_df = temp_grouping_df.rename(column_rename_dic)\n",
        "\n",
        "  # 同一取引先IDのレコードから 最も古い開始日, 最も新しい終了日, 最も新しい取引先名 を追加\n",
        "  # 開始日・終了日はそれぞれ null が含まれる場合は null にする\n",
        "  # 開始日・終了日のすべての値が null だった場合、カラムのデータ型も null になってしまうので cast で型を指定する\n",
        "  new_cols_client = temp_grouping_df.apply(lambda row: getLatestDate_client(row, temp_nth_months_df))\n",
        "  new_cols_client = new_cols_client.with_columns(\n",
        "    pl.col('column_0').cast(pl.Date, strict=False),\n",
        "    pl.col('column_1').cast(pl.Date, strict=False),\n",
        "  )\n",
        "  temp_grouping_df = temp_grouping_df.with_columns(\n",
        "    new_cols_client['column_0'].alias(f'[{i:02}]開始日_最古'),\n",
        "    new_cols_client['column_1'].alias(f'[{i:02}]終了日_最新'),\n",
        "    new_cols_client['column_2'].alias('取引先名')\n",
        "  )\n",
        "\n",
        "  print(f' - {i:02}ヶ月継続案件のみ | (当月 + {i:02}ヶ月) を起点とした移動平均      : ', end='')\n",
        "  # (当月 + iヶ月)から過去3, 6, 12ヶ月間の移動平均を追加\n",
        "  for m in tqdm(target_months):\n",
        "    # apply で処理する際のカラム名、型情報、最古の日付\n",
        "    col_names = temp_grouping_df.columns\n",
        "    col_types = dict(zip(col_names, temp_grouping_df.dtypes))\n",
        "    first_date = ss_df['対象年月'][0]\n",
        "\n",
        "    # (当月 + iヶ月) から (i - mヶ月前) までのカラム名のリストを生成\n",
        "    cols_period = [f'請求額_{n}' for n in range(i, i - m, -1)]\n",
        "\n",
        "    new_col = temp_grouping_df.apply(lambda row: addNthMonthMovingAverage_client(row, i, m, col_names, col_types, first_date, cols_period), return_dtype=pl.Float64)\n",
        "    temp_grouping_df = temp_grouping_df.with_columns(new_col['apply'].alias(f'[{i:02}]移動平均_当月-{m:02}ヶ月間'))\n",
        "\n",
        "  print(f' - {i:02}ヶ月継続案件のみ | (当月 + {i:02}ヶ月) の n ヶ月前からの移動平均 : ', end='')\n",
        "  # iヶ月前から過去3, 6, 12ヶ月間の移動平均を追加\n",
        "  for m in tqdm(target_months):\n",
        "    # apply で処理する際のカラム名、型情報、最古の日付\n",
        "    col_names = temp_grouping_df.columns\n",
        "    col_types = dict(zip(col_names, temp_grouping_df.dtypes))\n",
        "    first_date = ss_df['対象年月'][0]\n",
        "\n",
        "    # (当月) から (当月 - mヶ月前) までのカラム名のリストを生成\n",
        "    cols_period = [f'請求額_{n}' for n in range(0, -m, -1)]\n",
        "    new_col = temp_grouping_df.apply(lambda row: addNthMonthMovingAverage_client(row, i, m, col_names, col_types, first_date, cols_period, offset_month=-i), return_dtype=pl.Float64)\n",
        "    temp_grouping_df = temp_grouping_df.with_columns(new_col['apply'].alias(f'[{i:02}]移動平均_{i:02}ヶ月前-{m:02}ヶ月間'))\n",
        "\n",
        "  # 対象年月を iヶ月後に更新\n",
        "  temp_grouping_df = temp_grouping_df.with_columns(temp_grouping_df['対象年月'].apply(lambda x: x + relativedelta(months=i)))\n",
        "\n",
        "  # 残す列を選択\n",
        "  # 対象年月 ～ 請求額_nヶ月前 まで\n",
        "  temp_result_months_df = temp_grouping_df.select(\n",
        "      pl.col(\n",
        "        '対象年月',\n",
        "        '取引先ID',\n",
        "        '取引先名',\n",
        "        f'[{i:02}]開始日_最古',\n",
        "        f'[{i:02}]終了日_最新',\n",
        "        f'[{i:02}]請求額_当月',\n",
        "        f'[{i:02}]請求額_{i:02}ヶ月前',\n",
        "      )\n",
        "    )\n",
        "  # 移動平均_nヶ月 のみ（pl.col でのカラム選択に正規表現を混在させられないようなのでこれのみ分割）\n",
        "  temp_result_average_df = temp_grouping_df.select(\n",
        "      pl.col(\n",
        "        f'^\\[{i:02}\\]移動平均_.+$',\n",
        "      )\n",
        "    )\n",
        "  # 対象年月 ～ 請求額_nヶ月前 と 移動平均_nヶ月 を結合\n",
        "  temp_grouping_df = pl.concat([temp_result_months_df, temp_result_average_df], how='horizontal')\n",
        "\n",
        "  # 処理した df を result_dfs_client に append\n",
        "  result_dfs_client.append(temp_grouping_df)"
      ],
      "metadata": {
        "colab": {
          "base_uri": "https://localhost:8080/"
        },
        "outputId": "87c057c7-a50e-4f30-9200-713f5dc3f9d9",
        "id": "uZeP1XVxWqcK"
      },
      "execution_count": null,
      "outputs": [
        {
          "output_type": "stream",
          "name": "stdout",
          "text": [
            "===== target_months = 03 =======================\n",
            " - 03ヶ月継続案件のみ | (当月 + 03ヶ月) を起点とした移動平均      : "
          ]
        },
        {
          "output_type": "stream",
          "name": "stderr",
          "text": [
            "100%|██████████| 3/3 [00:13<00:00,  4.34s/it]\n"
          ]
        },
        {
          "output_type": "stream",
          "name": "stdout",
          "text": [
            " - 03ヶ月継続案件のみ | (当月 + 03ヶ月) の n ヶ月前からの移動平均 : "
          ]
        },
        {
          "output_type": "stream",
          "name": "stderr",
          "text": [
            "100%|██████████| 3/3 [00:12<00:00,  4.23s/it]\n"
          ]
        },
        {
          "output_type": "stream",
          "name": "stdout",
          "text": [
            "===== target_months = 06 =======================\n",
            " - 06ヶ月継続案件のみ | (当月 + 06ヶ月) を起点とした移動平均      : "
          ]
        },
        {
          "output_type": "stream",
          "name": "stderr",
          "text": [
            "100%|██████████| 3/3 [00:11<00:00,  3.73s/it]\n"
          ]
        },
        {
          "output_type": "stream",
          "name": "stdout",
          "text": [
            " - 06ヶ月継続案件のみ | (当月 + 06ヶ月) の n ヶ月前からの移動平均 : "
          ]
        },
        {
          "output_type": "stream",
          "name": "stderr",
          "text": [
            "100%|██████████| 3/3 [00:11<00:00,  3.71s/it]\n"
          ]
        },
        {
          "output_type": "stream",
          "name": "stdout",
          "text": [
            "===== target_months = 12 =======================\n",
            " - 12ヶ月継続案件のみ | (当月 + 12ヶ月) を起点とした移動平均      : "
          ]
        },
        {
          "output_type": "stream",
          "name": "stderr",
          "text": [
            "100%|██████████| 3/3 [00:08<00:00,  2.85s/it]\n"
          ]
        },
        {
          "output_type": "stream",
          "name": "stdout",
          "text": [
            " - 12ヶ月継続案件のみ | (当月 + 12ヶ月) の n ヶ月前からの移動平均 : "
          ]
        },
        {
          "output_type": "stream",
          "name": "stderr",
          "text": [
            "100%|██████████| 3/3 [00:08<00:00,  2.91s/it]\n"
          ]
        }
      ]
    },
    {
      "cell_type": "code",
      "source": [
        "# result_dfs_client (3, 6, 12ヶ月ごとの処理結果) を結合\n",
        "result_df_by_client = result_dfs_client[0]\n",
        "for i in range(1, len(result_dfs_client)):\n",
        "  result_df_by_client = result_df_by_client.join(result_dfs_client[i], on=['対象年月', '取引先ID', '取引先名'], how='left')\n",
        "result_df_by_client = result_df_by_client.sort('対象年月', '取引先ID')\n",
        "\n",
        "result_df_by_client"
      ],
      "metadata": {
        "colab": {
          "base_uri": "https://localhost:8080/"
        },
        "outputId": "0e10393a-97ef-4695-dd70-65f07019926b",
        "id": "9sHFwo7cWqcL"
      },
      "execution_count": null,
      "outputs": [
        {
          "output_type": "execute_result",
          "data": {
            "text/plain": [
              "shape: (6_793, 33)\n",
              "┌────────────┬───────────┬────────────┬────────────┬───┬────────────┬────────────┬────────────┬────────────┐\n",
              "│ 対象年月   ┆ 取引先ID  ┆ 取引先名   ┆ [03]開始日 ┆ … ┆ [12]移動平 ┆ [12]移動平 ┆ [12]移動平 ┆ [12]移動平 │\n",
              "│ ---        ┆ ---       ┆ ---        ┆ _最古      ┆   ┆ 均_当月-12 ┆ 均_12ヶ月  ┆ 均_12ヶ月  ┆ 均_12ヶ月  │\n",
              "│ date       ┆ str       ┆ str        ┆ ---        ┆   ┆ ヶ月間     ┆ 前-03ヶ月  ┆ 前-06ヶ月  ┆ 前-12ヶ月  │\n",
              "│            ┆           ┆            ┆ date       ┆   ┆ ---        ┆ 間         ┆ 間         ┆ 間         │\n",
              "│            ┆           ┆            ┆            ┆   ┆ f64        ┆ ---        ┆ ---        ┆ ---        │\n",
              "│            ┆           ┆            ┆            ┆   ┆            ┆ f64        ┆ f64        ┆ f64        │\n",
              "╞════════════╪═══════════╪════════════╪════════════╪═══╪════════════╪════════════╪════════════╪════════════╡\n",
              "│ 2021-04-01 ┆ C-0000148 ┆ 株式会社ク ┆ null       ┆ … ┆ null       ┆ null       ┆ null       ┆ null       │\n",
              "│            ┆ 9         ┆ リーク・ア ┆            ┆   ┆            ┆            ┆            ┆            │\n",
              "│            ┆           ┆ ンド・リバ ┆            ┆   ┆            ┆            ┆            ┆            │\n",
              "│            ┆           ┆ ー社       ┆            ┆   ┆            ┆            ┆            ┆            │\n",
              "│ 2021-04-01 ┆ C-0000149 ┆ 株式会社サ ┆ 2013-08-01 ┆ … ┆ null       ┆ null       ┆ null       ┆ null       │\n",
              "│            ┆ 1         ┆ イバーエー ┆            ┆   ┆            ┆            ┆            ┆            │\n",
              "│            ┆           ┆ ジェント   ┆            ┆   ┆            ┆            ┆            ┆            │\n",
              "│ 2021-04-01 ┆ C-0000150 ┆ 株式会社イ ┆ 2010-09-22 ┆ … ┆ null       ┆ null       ┆ null       ┆ null       │\n",
              "│            ┆ 6         ┆ ード       ┆            ┆   ┆            ┆            ┆            ┆            │\n",
              "│ 2021-04-01 ┆ C-0000152 ┆ コムシード ┆ 2016-10-01 ┆ … ┆ null       ┆ null       ┆ null       ┆ null       │\n",
              "│            ┆ 6         ┆ 株式会社   ┆            ┆   ┆            ┆            ┆            ┆            │\n",
              "│ …          ┆ …         ┆ …          ┆ …          ┆ … ┆ …          ┆ …          ┆ …          ┆ …          │\n",
              "│ 2023-08-01 ┆ C-0001755 ┆ GO株式会社 ┆ 2021-01-01 ┆ … ┆ 2.97e6     ┆ 3.24e6     ┆ 3.24e6     ┆ 3.24e6     │\n",
              "│            ┆ 0         ┆            ┆            ┆   ┆            ┆            ┆            ┆            │\n",
              "│ 2023-08-01 ┆ C-0001755 ┆ any株式会  ┆ 2023-03-01 ┆ … ┆ null       ┆ null       ┆ null       ┆ null       │\n",
              "│            ┆ 2         ┆ 社         ┆            ┆   ┆            ┆            ┆            ┆            │\n",
              "│ 2023-08-01 ┆ C-0001756 ┆ 株式会社イ ┆ 2023-04-17 ┆ … ┆ null       ┆ null       ┆ null       ┆ null       │\n",
              "│            ┆ 2         ┆ プラ       ┆            ┆   ┆            ┆            ┆            ┆            │\n",
              "│ 2023-08-01 ┆ C-0001756 ┆ 株式会社Bl ┆ 2023-05-23 ┆ … ┆ null       ┆ null       ┆ null       ┆ null       │\n",
              "│            ┆ 4         ┆ ank        ┆            ┆   ┆            ┆            ┆            ┆            │\n",
              "│            ┆           ┆ Marketing  ┆            ┆   ┆            ┆            ┆            ┆            │\n",
              "│            ┆           ┆ &          ┆            ┆   ┆            ┆            ┆            ┆            │\n",
              "│            ┆           ┆ Management ┆            ┆   ┆            ┆            ┆            ┆            │\n",
              "└────────────┴───────────┴────────────┴────────────┴───┴────────────┴────────────┴────────────┴────────────┘"
            ],
            "text/html": [
              "<div><style>\n",
              ".dataframe > thead > tr > th,\n",
              ".dataframe > tbody > tr > td {\n",
              "  text-align: right;\n",
              "}\n",
              "</style>\n",
              "<small>shape: (6793, 33)</small><table border=\"1\" class=\"dataframe\"><thead><tr><th>対象年月</th><th>取引先ID</th><th>取引先名</th><th>[03]開始日_最古</th><th>[03]終了日_最新</th><th>[03]請求額_当月</th><th>[03]請求額_03ヶ月前</th><th>[03]移動平均_当月-03ヶ月間</th><th>[03]移動平均_当月-06ヶ月間</th><th>[03]移動平均_当月-12ヶ月間</th><th>[03]移動平均_03ヶ月前-03ヶ月間</th><th>[03]移動平均_03ヶ月前-06ヶ月間</th><th>[03]移動平均_03ヶ月前-12ヶ月間</th><th>[06]開始日_最古</th><th>[06]終了日_最新</th><th>[06]請求額_当月</th><th>[06]請求額_06ヶ月前</th><th>[06]移動平均_当月-03ヶ月間</th><th>[06]移動平均_当月-06ヶ月間</th><th>[06]移動平均_当月-12ヶ月間</th><th>[06]移動平均_06ヶ月前-03ヶ月間</th><th>[06]移動平均_06ヶ月前-06ヶ月間</th><th>[06]移動平均_06ヶ月前-12ヶ月間</th><th>[12]開始日_最古</th><th>[12]終了日_最新</th><th>[12]請求額_当月</th><th>[12]請求額_12ヶ月前</th><th>[12]移動平均_当月-03ヶ月間</th><th>[12]移動平均_当月-06ヶ月間</th><th>[12]移動平均_当月-12ヶ月間</th><th>[12]移動平均_12ヶ月前-03ヶ月間</th><th>[12]移動平均_12ヶ月前-06ヶ月間</th><th>[12]移動平均_12ヶ月前-12ヶ月間</th></tr><tr><td>date</td><td>str</td><td>str</td><td>date</td><td>date</td><td>f64</td><td>f64</td><td>f64</td><td>f64</td><td>f64</td><td>f64</td><td>f64</td><td>f64</td><td>date</td><td>date</td><td>f64</td><td>f64</td><td>f64</td><td>f64</td><td>f64</td><td>f64</td><td>f64</td><td>f64</td><td>date</td><td>date</td><td>f64</td><td>f64</td><td>f64</td><td>f64</td><td>f64</td><td>f64</td><td>f64</td><td>f64</td></tr></thead><tbody><tr><td>2021-04-01</td><td>&quot;C-00001489&quot;</td><td>&quot;株式会社クリーク・アンド・リ…</td><td>null</td><td>null</td><td>385500.0</td><td>447500.0</td><td>426833.333333</td><td>null</td><td>null</td><td>null</td><td>null</td><td>null</td><td>null</td><td>null</td><td>null</td><td>null</td><td>null</td><td>null</td><td>null</td><td>null</td><td>null</td><td>null</td><td>null</td><td>null</td><td>null</td><td>null</td><td>null</td><td>null</td><td>null</td><td>null</td><td>null</td><td>null</td></tr><tr><td>2021-04-01</td><td>&quot;C-00001491&quot;</td><td>&quot;株式会社サイバーエージェント…</td><td>2013-08-01</td><td>null</td><td>190000.0</td><td>120000.0</td><td>190000.0</td><td>null</td><td>null</td><td>null</td><td>null</td><td>null</td><td>null</td><td>null</td><td>null</td><td>null</td><td>null</td><td>null</td><td>null</td><td>null</td><td>null</td><td>null</td><td>null</td><td>null</td><td>null</td><td>null</td><td>null</td><td>null</td><td>null</td><td>null</td><td>null</td><td>null</td></tr><tr><td>2021-04-01</td><td>&quot;C-00001506&quot;</td><td>&quot;株式会社イード&quot;</td><td>2010-09-22</td><td>2023-03-31</td><td>50000.0</td><td>50000.0</td><td>50000.0</td><td>null</td><td>null</td><td>null</td><td>null</td><td>null</td><td>null</td><td>null</td><td>null</td><td>null</td><td>null</td><td>null</td><td>null</td><td>null</td><td>null</td><td>null</td><td>null</td><td>null</td><td>null</td><td>null</td><td>null</td><td>null</td><td>null</td><td>null</td><td>null</td><td>null</td></tr><tr><td>2021-04-01</td><td>&quot;C-00001526&quot;</td><td>&quot;コムシード株式会社&quot;</td><td>2016-10-01</td><td>2021-05-05</td><td>45000.0</td><td>45000.0</td><td>45000.0</td><td>null</td><td>null</td><td>null</td><td>null</td><td>null</td><td>null</td><td>null</td><td>null</td><td>null</td><td>null</td><td>null</td><td>null</td><td>null</td><td>null</td><td>null</td><td>null</td><td>null</td><td>null</td><td>null</td><td>null</td><td>null</td><td>null</td><td>null</td><td>null</td><td>null</td></tr><tr><td>2021-04-01</td><td>&quot;C-00001596&quot;</td><td>&quot;株式会社グローバルウェイ&quot;</td><td>2018-04-09</td><td>2021-01-31</td><td>null</td><td>385000.0</td><td>0.0</td><td>null</td><td>null</td><td>null</td><td>null</td><td>null</td><td>null</td><td>null</td><td>null</td><td>null</td><td>null</td><td>null</td><td>null</td><td>null</td><td>null</td><td>null</td><td>null</td><td>null</td><td>null</td><td>null</td><td>null</td><td>null</td><td>null</td><td>null</td><td>null</td><td>null</td></tr><tr><td>2021-04-01</td><td>&quot;C-00001601&quot;</td><td>&quot;株式会社モバイルファクトリー…</td><td>null</td><td>null</td><td>485060.0</td><td>584000.0</td><td>528706.666667</td><td>null</td><td>null</td><td>null</td><td>null</td><td>null</td><td>null</td><td>null</td><td>null</td><td>null</td><td>null</td><td>null</td><td>null</td><td>null</td><td>null</td><td>null</td><td>null</td><td>null</td><td>null</td><td>null</td><td>null</td><td>null</td><td>null</td><td>null</td><td>null</td><td>null</td></tr><tr><td>2021-04-01</td><td>&quot;C-00001655&quot;</td><td>&quot;株式会社インターエデュ・ドッ…</td><td>2010-01-18</td><td>null</td><td>155000.0</td><td>150000.0</td><td>141666.666667</td><td>null</td><td>null</td><td>null</td><td>null</td><td>null</td><td>null</td><td>null</td><td>null</td><td>null</td><td>null</td><td>null</td><td>null</td><td>null</td><td>null</td><td>null</td><td>null</td><td>null</td><td>null</td><td>null</td><td>null</td><td>null</td><td>null</td><td>null</td><td>null</td><td>null</td></tr><tr><td>2021-04-01</td><td>&quot;C-00001669&quot;</td><td>&quot;株式会社エス・エム・エス&quot;</td><td>2013-01-01</td><td>null</td><td>60000.0</td><td>70000.0</td><td>60000.0</td><td>null</td><td>null</td><td>null</td><td>null</td><td>null</td><td>null</td><td>null</td><td>null</td><td>null</td><td>null</td><td>null</td><td>null</td><td>null</td><td>null</td><td>null</td><td>null</td><td>null</td><td>null</td><td>null</td><td>null</td><td>null</td><td>null</td><td>null</td><td>null</td><td>null</td></tr><tr><td>2021-04-01</td><td>&quot;C-00001702&quot;</td><td>&quot;株式会社ヴァル研究所&quot;</td><td>2018-08-20</td><td>null</td><td>74000.0</td><td>74000.0</td><td>74000.0</td><td>null</td><td>null</td><td>null</td><td>null</td><td>null</td><td>null</td><td>null</td><td>null</td><td>null</td><td>null</td><td>null</td><td>null</td><td>null</td><td>null</td><td>null</td><td>null</td><td>null</td><td>null</td><td>null</td><td>null</td><td>null</td><td>null</td><td>null</td><td>null</td><td>null</td></tr><tr><td>2021-04-01</td><td>&quot;C-00001759&quot;</td><td>&quot;KLab株式会社&quot;</td><td>2013-11-01</td><td>2022-02-28</td><td>7.944088e6</td><td>1.5747e7</td><td>1.0922e7</td><td>null</td><td>null</td><td>null</td><td>null</td><td>null</td><td>null</td><td>null</td><td>null</td><td>null</td><td>null</td><td>null</td><td>null</td><td>null</td><td>null</td><td>null</td><td>null</td><td>null</td><td>null</td><td>null</td><td>null</td><td>null</td><td>null</td><td>null</td><td>null</td><td>null</td></tr><tr><td>2021-04-01</td><td>&quot;C-00001768&quot;</td><td>&quot;株式会社カカクコム&quot;</td><td>2011-09-20</td><td>null</td><td>296000.0</td><td>296000.0</td><td>298160.0</td><td>null</td><td>null</td><td>null</td><td>null</td><td>null</td><td>null</td><td>null</td><td>null</td><td>null</td><td>null</td><td>null</td><td>null</td><td>null</td><td>null</td><td>null</td><td>null</td><td>null</td><td>null</td><td>null</td><td>null</td><td>null</td><td>null</td><td>null</td><td>null</td><td>null</td></tr><tr><td>2021-04-01</td><td>&quot;C-00001781&quot;</td><td>&quot;株式会社レコチョク&quot;</td><td>2016-12-07</td><td>2023-05-13</td><td>55000.0</td><td>55000.0</td><td>55000.0</td><td>null</td><td>null</td><td>null</td><td>null</td><td>null</td><td>null</td><td>null</td><td>null</td><td>null</td><td>null</td><td>null</td><td>null</td><td>null</td><td>null</td><td>null</td><td>null</td><td>null</td><td>null</td><td>null</td><td>null</td><td>null</td><td>null</td><td>null</td><td>null</td><td>null</td></tr><tr><td>&hellip;</td><td>&hellip;</td><td>&hellip;</td><td>&hellip;</td><td>&hellip;</td><td>&hellip;</td><td>&hellip;</td><td>&hellip;</td><td>&hellip;</td><td>&hellip;</td><td>&hellip;</td><td>&hellip;</td><td>&hellip;</td><td>&hellip;</td><td>&hellip;</td><td>&hellip;</td><td>&hellip;</td><td>&hellip;</td><td>&hellip;</td><td>&hellip;</td><td>&hellip;</td><td>&hellip;</td><td>&hellip;</td><td>&hellip;</td><td>&hellip;</td><td>&hellip;</td><td>&hellip;</td><td>&hellip;</td><td>&hellip;</td><td>&hellip;</td><td>&hellip;</td><td>&hellip;</td><td>&hellip;</td></tr><tr><td>2023-08-01</td><td>&quot;C-00017538&quot;</td><td>&quot;株式会社コガク&quot;</td><td>2023-02-10</td><td>null</td><td>0.0</td><td>64000.0</td><td>21333.333333</td><td>42666.666667</td><td>null</td><td>64000.0</td><td>null</td><td>null</td><td>2023-02-10</td><td>null</td><td>0.0</td><td>64000.0</td><td>21333.333333</td><td>42666.666667</td><td>null</td><td>null</td><td>null</td><td>null</td><td>null</td><td>null</td><td>null</td><td>null</td><td>null</td><td>null</td><td>null</td><td>null</td><td>null</td><td>null</td></tr><tr><td>2023-08-01</td><td>&quot;C-00017539&quot;</td><td>&quot;株式会社新世紀&quot;</td><td>2023-02-01</td><td>2023-06-30</td><td>null</td><td>960000.0</td><td>320000.0</td><td>640000.0</td><td>null</td><td>960000.0</td><td>null</td><td>null</td><td>2023-02-01</td><td>2023-06-30</td><td>null</td><td>960000.0</td><td>320000.0</td><td>640000.0</td><td>null</td><td>null</td><td>null</td><td>null</td><td>null</td><td>null</td><td>null</td><td>null</td><td>null</td><td>null</td><td>null</td><td>null</td><td>null</td><td>null</td></tr><tr><td>2023-08-01</td><td>&quot;C-00017540&quot;</td><td>&quot;株式会社データミックス&quot;</td><td>2023-02-01</td><td>2023-07-31</td><td>null</td><td>322800.0</td><td>215200.0</td><td>269000.0</td><td>null</td><td>322800.0</td><td>null</td><td>null</td><td>2023-02-01</td><td>2023-07-31</td><td>null</td><td>322800.0</td><td>215200.0</td><td>269000.0</td><td>null</td><td>null</td><td>null</td><td>null</td><td>null</td><td>null</td><td>null</td><td>null</td><td>null</td><td>null</td><td>null</td><td>null</td><td>null</td><td>null</td></tr><tr><td>2023-08-01</td><td>&quot;C-00017542&quot;</td><td>&quot;DADAN株式会社&quot;</td><td>2023-03-29</td><td>2023-06-30</td><td>null</td><td>390000.0</td><td>130000.0</td><td>244166.666667</td><td>null</td><td>358333.333333</td><td>null</td><td>null</td><td>null</td><td>null</td><td>null</td><td>null</td><td>null</td><td>null</td><td>null</td><td>null</td><td>null</td><td>null</td><td>null</td><td>null</td><td>null</td><td>null</td><td>null</td><td>null</td><td>null</td><td>null</td><td>null</td><td>null</td></tr><tr><td>2023-08-01</td><td>&quot;C-00017544&quot;</td><td>&quot;株式会社BBDO J WES…</td><td>2023-03-01</td><td>null</td><td>0.0</td><td>120000.0</td><td>80000.0</td><td>116666.666667</td><td>null</td><td>153333.333333</td><td>null</td><td>null</td><td>null</td><td>null</td><td>null</td><td>null</td><td>null</td><td>null</td><td>null</td><td>null</td><td>null</td><td>null</td><td>null</td><td>null</td><td>null</td><td>null</td><td>null</td><td>null</td><td>null</td><td>null</td><td>null</td><td>null</td></tr><tr><td>2023-08-01</td><td>&quot;C-00017545&quot;</td><td>&quot;株式会社MetaLab&quot;</td><td>2023-04-04</td><td>null</td><td>0.0</td><td>77500.0</td><td>51666.666667</td><td>null</td><td>null</td><td>null</td><td>null</td><td>null</td><td>null</td><td>null</td><td>null</td><td>null</td><td>null</td><td>null</td><td>null</td><td>null</td><td>null</td><td>null</td><td>null</td><td>null</td><td>null</td><td>null</td><td>null</td><td>null</td><td>null</td><td>null</td><td>null</td><td>null</td></tr><tr><td>2023-08-01</td><td>&quot;C-00017548&quot;</td><td>&quot;株式会社Polite&quot;</td><td>2023-04-17</td><td>null</td><td>0.0</td><td>177750.0</td><td>127496.666667</td><td>null</td><td>null</td><td>null</td><td>null</td><td>null</td><td>null</td><td>null</td><td>null</td><td>null</td><td>null</td><td>null</td><td>null</td><td>null</td><td>null</td><td>null</td><td>null</td><td>null</td><td>null</td><td>null</td><td>null</td><td>null</td><td>null</td><td>null</td><td>null</td><td>null</td></tr><tr><td>2023-08-01</td><td>&quot;C-00017549&quot;</td><td>&quot;株式会社J-オイルミルズ&quot;</td><td>2023-05-01</td><td>null</td><td>0.0</td><td>170000.0</td><td>46666.666667</td><td>null</td><td>null</td><td>null</td><td>null</td><td>null</td><td>null</td><td>null</td><td>null</td><td>null</td><td>null</td><td>null</td><td>null</td><td>null</td><td>null</td><td>null</td><td>null</td><td>null</td><td>null</td><td>null</td><td>null</td><td>null</td><td>null</td><td>null</td><td>null</td><td>null</td></tr><tr><td>2023-08-01</td><td>&quot;C-00017550&quot;</td><td>&quot;GO株式会社&quot;</td><td>2021-01-01</td><td>null</td><td>0.0</td><td>3.24e6</td><td>2.16e6</td><td>2.7e6</td><td>2.97e6</td><td>3.24e6</td><td>3.24e6</td><td>3.24e6</td><td>2021-01-01</td><td>null</td><td>0.0</td><td>3.24e6</td><td>2.16e6</td><td>2.7e6</td><td>2.97e6</td><td>3.24e6</td><td>3.24e6</td><td>3.24e6</td><td>2021-01-01</td><td>null</td><td>0.0</td><td>3.24e6</td><td>2.16e6</td><td>2.7e6</td><td>2.97e6</td><td>3.24e6</td><td>3.24e6</td><td>3.24e6</td></tr><tr><td>2023-08-01</td><td>&quot;C-00017552&quot;</td><td>&quot;any株式会社&quot;</td><td>2023-03-01</td><td>null</td><td>0.0</td><td>530000.0</td><td>353333.333333</td><td>441666.666667</td><td>null</td><td>530000.0</td><td>null</td><td>null</td><td>null</td><td>null</td><td>null</td><td>null</td><td>null</td><td>null</td><td>null</td><td>null</td><td>null</td><td>null</td><td>null</td><td>null</td><td>null</td><td>null</td><td>null</td><td>null</td><td>null</td><td>null</td><td>null</td><td>null</td></tr><tr><td>2023-08-01</td><td>&quot;C-00017562&quot;</td><td>&quot;株式会社イプラ&quot;</td><td>2023-04-17</td><td>2023-05-31</td><td>null</td><td>325000.0</td><td>0.0</td><td>null</td><td>null</td><td>null</td><td>null</td><td>null</td><td>null</td><td>null</td><td>null</td><td>null</td><td>null</td><td>null</td><td>null</td><td>null</td><td>null</td><td>null</td><td>null</td><td>null</td><td>null</td><td>null</td><td>null</td><td>null</td><td>null</td><td>null</td><td>null</td><td>null</td></tr><tr><td>2023-08-01</td><td>&quot;C-00017564&quot;</td><td>&quot;株式会社Blank Mark…</td><td>2023-05-23</td><td>null</td><td>0.0</td><td>211693.0</td><td>141666.666667</td><td>null</td><td>null</td><td>null</td><td>null</td><td>null</td><td>null</td><td>null</td><td>null</td><td>null</td><td>null</td><td>null</td><td>null</td><td>null</td><td>null</td><td>null</td><td>null</td><td>null</td><td>null</td><td>null</td><td>null</td><td>null</td><td>null</td><td>null</td><td>null</td><td>null</td></tr></tbody></table></div>"
            ]
          },
          "metadata": {},
          "execution_count": 29
        }
      ]
    },
    {
      "cell_type": "code",
      "source": [
        "# nヶ月ごとでグルーピングする前の、取引先毎の該当月全体の合計請求額を取得\n",
        "client_total = ss_df.filter(\n",
        "    pl.col('対象年月') >= (ss_df['対象年月'][0] + relativedelta(months=min(target_months)))\n",
        "  ).groupby(\n",
        "    '対象年月', '取引先ID'\n",
        "  ).sum().with_columns(\n",
        "    pl.col(f'請求額_当月').alias('請求額')\n",
        "  ).select(\n",
        "    pl.col('対象年月', '取引先ID', '請求額')\n",
        "  ).sort('対象年月', '取引先ID')\n",
        "\n",
        "def getClientTotal(row):\n",
        "  total_price = client_total.filter(\n",
        "    (pl.col('対象年月') == row[0]) & (pl.col('取引先ID') == row[1])\n",
        "  )['請求額']\n",
        "  if len(total_price) > 0:\n",
        "    return total_price[0]\n",
        "  else:\n",
        "    return None\n",
        "\n",
        "new_col_by_client_total = result_df_by_client.apply(getClientTotal)\n",
        "new_col_by_client_total = new_col_by_client_total.select(pl.col('apply').cast(pl.Float64, strict=False).alias('請求額'))\n",
        "result_df_by_client.insert_at_idx(3, new_col_by_client_total['請求額'])"
      ],
      "metadata": {
        "colab": {
          "base_uri": "https://localhost:8080/",
          "height": 1000
        },
        "id": "XnR3VvtwNagY",
        "outputId": "efe6c500-a248-4291-c4e0-0bb2278f742a"
      },
      "execution_count": null,
      "outputs": [
        {
          "output_type": "execute_result",
          "data": {
            "text/plain": [
              "shape: (6_793, 34)\n",
              "┌────────────┬───────────┬────────────┬──────────┬───┬────────────┬────────────┬────────────┬────────────┐\n",
              "│ 対象年月   ┆ 取引先ID  ┆ 取引先名   ┆ 請求額   ┆ … ┆ [12]移動平 ┆ [12]移動平 ┆ [12]移動平 ┆ [12]移動平 │\n",
              "│ ---        ┆ ---       ┆ ---        ┆ ---      ┆   ┆ 均_当月-12 ┆ 均_12ヶ月  ┆ 均_12ヶ月  ┆ 均_12ヶ月  │\n",
              "│ date       ┆ str       ┆ str        ┆ f64      ┆   ┆ ヶ月間     ┆ 前-03ヶ月  ┆ 前-06ヶ月  ┆ 前-12ヶ月  │\n",
              "│            ┆           ┆            ┆          ┆   ┆ ---        ┆ 間         ┆ 間         ┆ 間         │\n",
              "│            ┆           ┆            ┆          ┆   ┆ f64        ┆ ---        ┆ ---        ┆ ---        │\n",
              "│            ┆           ┆            ┆          ┆   ┆            ┆ f64        ┆ f64        ┆ f64        │\n",
              "╞════════════╪═══════════╪════════════╪══════════╪═══╪════════════╪════════════╪════════════╪════════════╡\n",
              "│ 2021-04-01 ┆ C-0000148 ┆ 株式会社ク ┆ 385500.0 ┆ … ┆ null       ┆ null       ┆ null       ┆ null       │\n",
              "│            ┆ 9         ┆ リーク・ア ┆          ┆   ┆            ┆            ┆            ┆            │\n",
              "│            ┆           ┆ ンド・リバ ┆          ┆   ┆            ┆            ┆            ┆            │\n",
              "│            ┆           ┆ ー社       ┆          ┆   ┆            ┆            ┆            ┆            │\n",
              "│ 2021-04-01 ┆ C-0000149 ┆ 株式会社サ ┆ 190000.0 ┆ … ┆ null       ┆ null       ┆ null       ┆ null       │\n",
              "│            ┆ 1         ┆ イバーエー ┆          ┆   ┆            ┆            ┆            ┆            │\n",
              "│            ┆           ┆ ジェント   ┆          ┆   ┆            ┆            ┆            ┆            │\n",
              "│ 2021-04-01 ┆ C-0000150 ┆ 株式会社イ ┆ 50000.0  ┆ … ┆ null       ┆ null       ┆ null       ┆ null       │\n",
              "│            ┆ 6         ┆ ード       ┆          ┆   ┆            ┆            ┆            ┆            │\n",
              "│ 2021-04-01 ┆ C-0000152 ┆ コムシード ┆ 45000.0  ┆ … ┆ null       ┆ null       ┆ null       ┆ null       │\n",
              "│            ┆ 6         ┆ 株式会社   ┆          ┆   ┆            ┆            ┆            ┆            │\n",
              "│ …          ┆ …         ┆ …          ┆ …        ┆ … ┆ …          ┆ …          ┆ …          ┆ …          │\n",
              "│ 2023-08-01 ┆ C-0001755 ┆ GO株式会社 ┆ null     ┆ … ┆ 2.97e6     ┆ 3.24e6     ┆ 3.24e6     ┆ 3.24e6     │\n",
              "│            ┆ 0         ┆            ┆          ┆   ┆            ┆            ┆            ┆            │\n",
              "│ 2023-08-01 ┆ C-0001755 ┆ any株式会  ┆ null     ┆ … ┆ null       ┆ null       ┆ null       ┆ null       │\n",
              "│            ┆ 2         ┆ 社         ┆          ┆   ┆            ┆            ┆            ┆            │\n",
              "│ 2023-08-01 ┆ C-0001756 ┆ 株式会社イ ┆ null     ┆ … ┆ null       ┆ null       ┆ null       ┆ null       │\n",
              "│            ┆ 2         ┆ プラ       ┆          ┆   ┆            ┆            ┆            ┆            │\n",
              "│ 2023-08-01 ┆ C-0001756 ┆ 株式会社Bl ┆ null     ┆ … ┆ null       ┆ null       ┆ null       ┆ null       │\n",
              "│            ┆ 4         ┆ ank        ┆          ┆   ┆            ┆            ┆            ┆            │\n",
              "│            ┆           ┆ Marketing  ┆          ┆   ┆            ┆            ┆            ┆            │\n",
              "│            ┆           ┆ &          ┆          ┆   ┆            ┆            ┆            ┆            │\n",
              "│            ┆           ┆ Management ┆          ┆   ┆            ┆            ┆            ┆            │\n",
              "└────────────┴───────────┴────────────┴──────────┴───┴────────────┴────────────┴────────────┴────────────┘"
            ],
            "text/html": [
              "<div><style>\n",
              ".dataframe > thead > tr > th,\n",
              ".dataframe > tbody > tr > td {\n",
              "  text-align: right;\n",
              "}\n",
              "</style>\n",
              "<small>shape: (6793, 34)</small><table border=\"1\" class=\"dataframe\"><thead><tr><th>対象年月</th><th>取引先ID</th><th>取引先名</th><th>請求額</th><th>[03]開始日_最古</th><th>[03]終了日_最新</th><th>[03]請求額_当月</th><th>[03]請求額_03ヶ月前</th><th>[03]移動平均_当月-03ヶ月間</th><th>[03]移動平均_当月-06ヶ月間</th><th>[03]移動平均_当月-12ヶ月間</th><th>[03]移動平均_03ヶ月前-03ヶ月間</th><th>[03]移動平均_03ヶ月前-06ヶ月間</th><th>[03]移動平均_03ヶ月前-12ヶ月間</th><th>[06]開始日_最古</th><th>[06]終了日_最新</th><th>[06]請求額_当月</th><th>[06]請求額_06ヶ月前</th><th>[06]移動平均_当月-03ヶ月間</th><th>[06]移動平均_当月-06ヶ月間</th><th>[06]移動平均_当月-12ヶ月間</th><th>[06]移動平均_06ヶ月前-03ヶ月間</th><th>[06]移動平均_06ヶ月前-06ヶ月間</th><th>[06]移動平均_06ヶ月前-12ヶ月間</th><th>[12]開始日_最古</th><th>[12]終了日_最新</th><th>[12]請求額_当月</th><th>[12]請求額_12ヶ月前</th><th>[12]移動平均_当月-03ヶ月間</th><th>[12]移動平均_当月-06ヶ月間</th><th>[12]移動平均_当月-12ヶ月間</th><th>[12]移動平均_12ヶ月前-03ヶ月間</th><th>[12]移動平均_12ヶ月前-06ヶ月間</th><th>[12]移動平均_12ヶ月前-12ヶ月間</th></tr><tr><td>date</td><td>str</td><td>str</td><td>f64</td><td>date</td><td>date</td><td>f64</td><td>f64</td><td>f64</td><td>f64</td><td>f64</td><td>f64</td><td>f64</td><td>f64</td><td>date</td><td>date</td><td>f64</td><td>f64</td><td>f64</td><td>f64</td><td>f64</td><td>f64</td><td>f64</td><td>f64</td><td>date</td><td>date</td><td>f64</td><td>f64</td><td>f64</td><td>f64</td><td>f64</td><td>f64</td><td>f64</td><td>f64</td></tr></thead><tbody><tr><td>2021-04-01</td><td>&quot;C-00001489&quot;</td><td>&quot;株式会社クリーク・アンド・リ…</td><td>385500.0</td><td>null</td><td>null</td><td>385500.0</td><td>447500.0</td><td>426833.333333</td><td>null</td><td>null</td><td>null</td><td>null</td><td>null</td><td>null</td><td>null</td><td>null</td><td>null</td><td>null</td><td>null</td><td>null</td><td>null</td><td>null</td><td>null</td><td>null</td><td>null</td><td>null</td><td>null</td><td>null</td><td>null</td><td>null</td><td>null</td><td>null</td><td>null</td></tr><tr><td>2021-04-01</td><td>&quot;C-00001491&quot;</td><td>&quot;株式会社サイバーエージェント…</td><td>190000.0</td><td>2013-08-01</td><td>null</td><td>190000.0</td><td>120000.0</td><td>190000.0</td><td>null</td><td>null</td><td>null</td><td>null</td><td>null</td><td>null</td><td>null</td><td>null</td><td>null</td><td>null</td><td>null</td><td>null</td><td>null</td><td>null</td><td>null</td><td>null</td><td>null</td><td>null</td><td>null</td><td>null</td><td>null</td><td>null</td><td>null</td><td>null</td><td>null</td></tr><tr><td>2021-04-01</td><td>&quot;C-00001506&quot;</td><td>&quot;株式会社イード&quot;</td><td>50000.0</td><td>2010-09-22</td><td>2023-03-31</td><td>50000.0</td><td>50000.0</td><td>50000.0</td><td>null</td><td>null</td><td>null</td><td>null</td><td>null</td><td>null</td><td>null</td><td>null</td><td>null</td><td>null</td><td>null</td><td>null</td><td>null</td><td>null</td><td>null</td><td>null</td><td>null</td><td>null</td><td>null</td><td>null</td><td>null</td><td>null</td><td>null</td><td>null</td><td>null</td></tr><tr><td>2021-04-01</td><td>&quot;C-00001526&quot;</td><td>&quot;コムシード株式会社&quot;</td><td>45000.0</td><td>2016-10-01</td><td>2021-05-05</td><td>45000.0</td><td>45000.0</td><td>45000.0</td><td>null</td><td>null</td><td>null</td><td>null</td><td>null</td><td>null</td><td>null</td><td>null</td><td>null</td><td>null</td><td>null</td><td>null</td><td>null</td><td>null</td><td>null</td><td>null</td><td>null</td><td>null</td><td>null</td><td>null</td><td>null</td><td>null</td><td>null</td><td>null</td><td>null</td></tr><tr><td>2021-04-01</td><td>&quot;C-00001596&quot;</td><td>&quot;株式会社グローバルウェイ&quot;</td><td>null</td><td>2018-04-09</td><td>2021-01-31</td><td>null</td><td>385000.0</td><td>0.0</td><td>null</td><td>null</td><td>null</td><td>null</td><td>null</td><td>null</td><td>null</td><td>null</td><td>null</td><td>null</td><td>null</td><td>null</td><td>null</td><td>null</td><td>null</td><td>null</td><td>null</td><td>null</td><td>null</td><td>null</td><td>null</td><td>null</td><td>null</td><td>null</td><td>null</td></tr><tr><td>2021-04-01</td><td>&quot;C-00001601&quot;</td><td>&quot;株式会社モバイルファクトリー…</td><td>485060.0</td><td>null</td><td>null</td><td>485060.0</td><td>584000.0</td><td>528706.666667</td><td>null</td><td>null</td><td>null</td><td>null</td><td>null</td><td>null</td><td>null</td><td>null</td><td>null</td><td>null</td><td>null</td><td>null</td><td>null</td><td>null</td><td>null</td><td>null</td><td>null</td><td>null</td><td>null</td><td>null</td><td>null</td><td>null</td><td>null</td><td>null</td><td>null</td></tr><tr><td>2021-04-01</td><td>&quot;C-00001655&quot;</td><td>&quot;株式会社インターエデュ・ドッ…</td><td>155000.0</td><td>2010-01-18</td><td>null</td><td>155000.0</td><td>150000.0</td><td>141666.666667</td><td>null</td><td>null</td><td>null</td><td>null</td><td>null</td><td>null</td><td>null</td><td>null</td><td>null</td><td>null</td><td>null</td><td>null</td><td>null</td><td>null</td><td>null</td><td>null</td><td>null</td><td>null</td><td>null</td><td>null</td><td>null</td><td>null</td><td>null</td><td>null</td><td>null</td></tr><tr><td>2021-04-01</td><td>&quot;C-00001669&quot;</td><td>&quot;株式会社エス・エム・エス&quot;</td><td>60000.0</td><td>2013-01-01</td><td>null</td><td>60000.0</td><td>70000.0</td><td>60000.0</td><td>null</td><td>null</td><td>null</td><td>null</td><td>null</td><td>null</td><td>null</td><td>null</td><td>null</td><td>null</td><td>null</td><td>null</td><td>null</td><td>null</td><td>null</td><td>null</td><td>null</td><td>null</td><td>null</td><td>null</td><td>null</td><td>null</td><td>null</td><td>null</td><td>null</td></tr><tr><td>2021-04-01</td><td>&quot;C-00001702&quot;</td><td>&quot;株式会社ヴァル研究所&quot;</td><td>74000.0</td><td>2018-08-20</td><td>null</td><td>74000.0</td><td>74000.0</td><td>74000.0</td><td>null</td><td>null</td><td>null</td><td>null</td><td>null</td><td>null</td><td>null</td><td>null</td><td>null</td><td>null</td><td>null</td><td>null</td><td>null</td><td>null</td><td>null</td><td>null</td><td>null</td><td>null</td><td>null</td><td>null</td><td>null</td><td>null</td><td>null</td><td>null</td><td>null</td></tr><tr><td>2021-04-01</td><td>&quot;C-00001759&quot;</td><td>&quot;KLab株式会社&quot;</td><td>1.2970488e7</td><td>2013-11-01</td><td>2022-02-28</td><td>7.944088e6</td><td>1.5747e7</td><td>1.0922e7</td><td>null</td><td>null</td><td>null</td><td>null</td><td>null</td><td>null</td><td>null</td><td>null</td><td>null</td><td>null</td><td>null</td><td>null</td><td>null</td><td>null</td><td>null</td><td>null</td><td>null</td><td>null</td><td>null</td><td>null</td><td>null</td><td>null</td><td>null</td><td>null</td><td>null</td></tr><tr><td>2021-04-01</td><td>&quot;C-00001768&quot;</td><td>&quot;株式会社カカクコム&quot;</td><td>296000.0</td><td>2011-09-20</td><td>null</td><td>296000.0</td><td>296000.0</td><td>298160.0</td><td>null</td><td>null</td><td>null</td><td>null</td><td>null</td><td>null</td><td>null</td><td>null</td><td>null</td><td>null</td><td>null</td><td>null</td><td>null</td><td>null</td><td>null</td><td>null</td><td>null</td><td>null</td><td>null</td><td>null</td><td>null</td><td>null</td><td>null</td><td>null</td><td>null</td></tr><tr><td>2021-04-01</td><td>&quot;C-00001781&quot;</td><td>&quot;株式会社レコチョク&quot;</td><td>55000.0</td><td>2016-12-07</td><td>2023-05-13</td><td>55000.0</td><td>55000.0</td><td>55000.0</td><td>null</td><td>null</td><td>null</td><td>null</td><td>null</td><td>null</td><td>null</td><td>null</td><td>null</td><td>null</td><td>null</td><td>null</td><td>null</td><td>null</td><td>null</td><td>null</td><td>null</td><td>null</td><td>null</td><td>null</td><td>null</td><td>null</td><td>null</td><td>null</td><td>null</td></tr><tr><td>&hellip;</td><td>&hellip;</td><td>&hellip;</td><td>&hellip;</td><td>&hellip;</td><td>&hellip;</td><td>&hellip;</td><td>&hellip;</td><td>&hellip;</td><td>&hellip;</td><td>&hellip;</td><td>&hellip;</td><td>&hellip;</td><td>&hellip;</td><td>&hellip;</td><td>&hellip;</td><td>&hellip;</td><td>&hellip;</td><td>&hellip;</td><td>&hellip;</td><td>&hellip;</td><td>&hellip;</td><td>&hellip;</td><td>&hellip;</td><td>&hellip;</td><td>&hellip;</td><td>&hellip;</td><td>&hellip;</td><td>&hellip;</td><td>&hellip;</td><td>&hellip;</td><td>&hellip;</td><td>&hellip;</td><td>&hellip;</td></tr><tr><td>2023-08-01</td><td>&quot;C-00017538&quot;</td><td>&quot;株式会社コガク&quot;</td><td>null</td><td>2023-02-10</td><td>null</td><td>0.0</td><td>64000.0</td><td>21333.333333</td><td>42666.666667</td><td>null</td><td>64000.0</td><td>null</td><td>null</td><td>2023-02-10</td><td>null</td><td>0.0</td><td>64000.0</td><td>21333.333333</td><td>42666.666667</td><td>null</td><td>null</td><td>null</td><td>null</td><td>null</td><td>null</td><td>null</td><td>null</td><td>null</td><td>null</td><td>null</td><td>null</td><td>null</td><td>null</td></tr><tr><td>2023-08-01</td><td>&quot;C-00017539&quot;</td><td>&quot;株式会社新世紀&quot;</td><td>null</td><td>2023-02-01</td><td>2023-06-30</td><td>null</td><td>960000.0</td><td>320000.0</td><td>640000.0</td><td>null</td><td>960000.0</td><td>null</td><td>null</td><td>2023-02-01</td><td>2023-06-30</td><td>null</td><td>960000.0</td><td>320000.0</td><td>640000.0</td><td>null</td><td>null</td><td>null</td><td>null</td><td>null</td><td>null</td><td>null</td><td>null</td><td>null</td><td>null</td><td>null</td><td>null</td><td>null</td><td>null</td></tr><tr><td>2023-08-01</td><td>&quot;C-00017540&quot;</td><td>&quot;株式会社データミックス&quot;</td><td>null</td><td>2023-02-01</td><td>2023-07-31</td><td>null</td><td>322800.0</td><td>215200.0</td><td>269000.0</td><td>null</td><td>322800.0</td><td>null</td><td>null</td><td>2023-02-01</td><td>2023-07-31</td><td>null</td><td>322800.0</td><td>215200.0</td><td>269000.0</td><td>null</td><td>null</td><td>null</td><td>null</td><td>null</td><td>null</td><td>null</td><td>null</td><td>null</td><td>null</td><td>null</td><td>null</td><td>null</td><td>null</td></tr><tr><td>2023-08-01</td><td>&quot;C-00017542&quot;</td><td>&quot;DADAN株式会社&quot;</td><td>null</td><td>2023-03-29</td><td>2023-06-30</td><td>null</td><td>390000.0</td><td>130000.0</td><td>244166.666667</td><td>null</td><td>358333.333333</td><td>null</td><td>null</td><td>null</td><td>null</td><td>null</td><td>null</td><td>null</td><td>null</td><td>null</td><td>null</td><td>null</td><td>null</td><td>null</td><td>null</td><td>null</td><td>null</td><td>null</td><td>null</td><td>null</td><td>null</td><td>null</td><td>null</td></tr><tr><td>2023-08-01</td><td>&quot;C-00017544&quot;</td><td>&quot;株式会社BBDO J WES…</td><td>null</td><td>2023-03-01</td><td>null</td><td>0.0</td><td>120000.0</td><td>80000.0</td><td>116666.666667</td><td>null</td><td>153333.333333</td><td>null</td><td>null</td><td>null</td><td>null</td><td>null</td><td>null</td><td>null</td><td>null</td><td>null</td><td>null</td><td>null</td><td>null</td><td>null</td><td>null</td><td>null</td><td>null</td><td>null</td><td>null</td><td>null</td><td>null</td><td>null</td><td>null</td></tr><tr><td>2023-08-01</td><td>&quot;C-00017545&quot;</td><td>&quot;株式会社MetaLab&quot;</td><td>null</td><td>2023-04-04</td><td>null</td><td>0.0</td><td>77500.0</td><td>51666.666667</td><td>null</td><td>null</td><td>null</td><td>null</td><td>null</td><td>null</td><td>null</td><td>null</td><td>null</td><td>null</td><td>null</td><td>null</td><td>null</td><td>null</td><td>null</td><td>null</td><td>null</td><td>null</td><td>null</td><td>null</td><td>null</td><td>null</td><td>null</td><td>null</td><td>null</td></tr><tr><td>2023-08-01</td><td>&quot;C-00017548&quot;</td><td>&quot;株式会社Polite&quot;</td><td>null</td><td>2023-04-17</td><td>null</td><td>0.0</td><td>177750.0</td><td>127496.666667</td><td>null</td><td>null</td><td>null</td><td>null</td><td>null</td><td>null</td><td>null</td><td>null</td><td>null</td><td>null</td><td>null</td><td>null</td><td>null</td><td>null</td><td>null</td><td>null</td><td>null</td><td>null</td><td>null</td><td>null</td><td>null</td><td>null</td><td>null</td><td>null</td><td>null</td></tr><tr><td>2023-08-01</td><td>&quot;C-00017549&quot;</td><td>&quot;株式会社J-オイルミルズ&quot;</td><td>null</td><td>2023-05-01</td><td>null</td><td>0.0</td><td>170000.0</td><td>46666.666667</td><td>null</td><td>null</td><td>null</td><td>null</td><td>null</td><td>null</td><td>null</td><td>null</td><td>null</td><td>null</td><td>null</td><td>null</td><td>null</td><td>null</td><td>null</td><td>null</td><td>null</td><td>null</td><td>null</td><td>null</td><td>null</td><td>null</td><td>null</td><td>null</td><td>null</td></tr><tr><td>2023-08-01</td><td>&quot;C-00017550&quot;</td><td>&quot;GO株式会社&quot;</td><td>null</td><td>2021-01-01</td><td>null</td><td>0.0</td><td>3.24e6</td><td>2.16e6</td><td>2.7e6</td><td>2.97e6</td><td>3.24e6</td><td>3.24e6</td><td>3.24e6</td><td>2021-01-01</td><td>null</td><td>0.0</td><td>3.24e6</td><td>2.16e6</td><td>2.7e6</td><td>2.97e6</td><td>3.24e6</td><td>3.24e6</td><td>3.24e6</td><td>2021-01-01</td><td>null</td><td>0.0</td><td>3.24e6</td><td>2.16e6</td><td>2.7e6</td><td>2.97e6</td><td>3.24e6</td><td>3.24e6</td><td>3.24e6</td></tr><tr><td>2023-08-01</td><td>&quot;C-00017552&quot;</td><td>&quot;any株式会社&quot;</td><td>null</td><td>2023-03-01</td><td>null</td><td>0.0</td><td>530000.0</td><td>353333.333333</td><td>441666.666667</td><td>null</td><td>530000.0</td><td>null</td><td>null</td><td>null</td><td>null</td><td>null</td><td>null</td><td>null</td><td>null</td><td>null</td><td>null</td><td>null</td><td>null</td><td>null</td><td>null</td><td>null</td><td>null</td><td>null</td><td>null</td><td>null</td><td>null</td><td>null</td><td>null</td></tr><tr><td>2023-08-01</td><td>&quot;C-00017562&quot;</td><td>&quot;株式会社イプラ&quot;</td><td>null</td><td>2023-04-17</td><td>2023-05-31</td><td>null</td><td>325000.0</td><td>0.0</td><td>null</td><td>null</td><td>null</td><td>null</td><td>null</td><td>null</td><td>null</td><td>null</td><td>null</td><td>null</td><td>null</td><td>null</td><td>null</td><td>null</td><td>null</td><td>null</td><td>null</td><td>null</td><td>null</td><td>null</td><td>null</td><td>null</td><td>null</td><td>null</td><td>null</td></tr><tr><td>2023-08-01</td><td>&quot;C-00017564&quot;</td><td>&quot;株式会社Blank Mark…</td><td>null</td><td>2023-05-23</td><td>null</td><td>0.0</td><td>211693.0</td><td>141666.666667</td><td>null</td><td>null</td><td>null</td><td>null</td><td>null</td><td>null</td><td>null</td><td>null</td><td>null</td><td>null</td><td>null</td><td>null</td><td>null</td><td>null</td><td>null</td><td>null</td><td>null</td><td>null</td><td>null</td><td>null</td><td>null</td><td>null</td><td>null</td><td>null</td><td>null</td></tr></tbody></table></div>"
            ]
          },
          "metadata": {},
          "execution_count": 30
        }
      ]
    },
    {
      "cell_type": "markdown",
      "source": [
        "#### 処理結果をスプレッドシートの3番目のシートへ展開"
      ],
      "metadata": {
        "id": "qLU0aJiB6v_7"
      }
    },
    {
      "cell_type": "code",
      "source": [
        "# スプレッドシートを開く（IDから）\n",
        "key = '15gxCoKnyMQZNqlODgbIeR2H1BfJ7KahfL61rckIEwkw'\n",
        "ss = gc.open_by_key(key)\n",
        "\n",
        "# シートを取得\n",
        "sheet_client = ss.get_worksheet(2)\n",
        "print(sheet_client)"
      ],
      "metadata": {
        "colab": {
          "base_uri": "https://localhost:8080/"
        },
        "outputId": "38c13e23-6287-4d44-8feb-57d80ebb4986",
        "id": "rKt00B6X6o2U"
      },
      "execution_count": null,
      "outputs": [
        {
          "output_type": "stream",
          "name": "stdout",
          "text": [
            "<Worksheet '取引先毎' id:739240386>\n"
          ]
        }
      ]
    },
    {
      "cell_type": "code",
      "source": [
        "# 対象年月 を date から str へ変換\n",
        "result_df_by_client = result_df_by_client.with_columns(\n",
        "  pl.col('対象年月').dt.strftime('%Y-%m-%d'),\n",
        "  pl.col('^.*開始日_.+$').dt.strftime('%Y-%m-%d'),\n",
        "  pl.col('^.*終了日_.+$').dt.strftime('%Y-%m-%d'),\n",
        ")\n",
        "result_df_by_client.head()\n",
        "\n",
        "# CSV処理後の Dataframe を二次元リストに変換\n",
        "result_list_by_client = []\n",
        "for col in result_df_by_client.columns:\n",
        "  temp_list = [col]\n",
        "  temp_list += result_df_by_client[col].to_list()\n",
        "  result_list_by_client.append(temp_list)\n",
        "\n",
        "# リストを転置\n",
        "result_list_by_client = [list(x) for x in zip(*result_list_by_client)]\n",
        "result_list_by_client[0:2]"
      ],
      "metadata": {
        "colab": {
          "base_uri": "https://localhost:8080/"
        },
        "outputId": "d1aed152-e391-48eb-884f-9f3a463e6e00",
        "id": "s8mRa7K36o2V"
      },
      "execution_count": null,
      "outputs": [
        {
          "output_type": "execute_result",
          "data": {
            "text/plain": [
              "[['対象年月',\n",
              "  '取引先ID',\n",
              "  '取引先名',\n",
              "  '請求額',\n",
              "  '[03]開始日_最古',\n",
              "  '[03]終了日_最新',\n",
              "  '[03]請求額_当月',\n",
              "  '[03]請求額_03ヶ月前',\n",
              "  '[03]移動平均_当月-03ヶ月間',\n",
              "  '[03]移動平均_当月-06ヶ月間',\n",
              "  '[03]移動平均_当月-12ヶ月間',\n",
              "  '[03]移動平均_03ヶ月前-03ヶ月間',\n",
              "  '[03]移動平均_03ヶ月前-06ヶ月間',\n",
              "  '[03]移動平均_03ヶ月前-12ヶ月間',\n",
              "  '[06]開始日_最古',\n",
              "  '[06]終了日_最新',\n",
              "  '[06]請求額_当月',\n",
              "  '[06]請求額_06ヶ月前',\n",
              "  '[06]移動平均_当月-03ヶ月間',\n",
              "  '[06]移動平均_当月-06ヶ月間',\n",
              "  '[06]移動平均_当月-12ヶ月間',\n",
              "  '[06]移動平均_06ヶ月前-03ヶ月間',\n",
              "  '[06]移動平均_06ヶ月前-06ヶ月間',\n",
              "  '[06]移動平均_06ヶ月前-12ヶ月間',\n",
              "  '[12]開始日_最古',\n",
              "  '[12]終了日_最新',\n",
              "  '[12]請求額_当月',\n",
              "  '[12]請求額_12ヶ月前',\n",
              "  '[12]移動平均_当月-03ヶ月間',\n",
              "  '[12]移動平均_当月-06ヶ月間',\n",
              "  '[12]移動平均_当月-12ヶ月間',\n",
              "  '[12]移動平均_12ヶ月前-03ヶ月間',\n",
              "  '[12]移動平均_12ヶ月前-06ヶ月間',\n",
              "  '[12]移動平均_12ヶ月前-12ヶ月間'],\n",
              " ['2021-04-01',\n",
              "  'C-00001489',\n",
              "  '株式会社クリーク・アンド・リバー社',\n",
              "  385500.0,\n",
              "  None,\n",
              "  None,\n",
              "  385500.0,\n",
              "  447500.0,\n",
              "  426833.3333333333,\n",
              "  None,\n",
              "  None,\n",
              "  None,\n",
              "  None,\n",
              "  None,\n",
              "  None,\n",
              "  None,\n",
              "  None,\n",
              "  None,\n",
              "  None,\n",
              "  None,\n",
              "  None,\n",
              "  None,\n",
              "  None,\n",
              "  None,\n",
              "  None,\n",
              "  None,\n",
              "  None,\n",
              "  None,\n",
              "  None,\n",
              "  None,\n",
              "  None,\n",
              "  None,\n",
              "  None,\n",
              "  None]]"
            ]
          },
          "metadata": {},
          "execution_count": 32
        }
      ]
    },
    {
      "cell_type": "code",
      "source": [
        "# シートを一旦クリア\n",
        "sheet_client.clear()\n",
        "\n",
        "# 2次元配列を一括で書き込み\n",
        "sheet_client.update(result_list_by_client)"
      ],
      "metadata": {
        "colab": {
          "base_uri": "https://localhost:8080/"
        },
        "outputId": "ca492316-f8c5-4be4-c706-5ea86688fb81",
        "id": "TEYnGL0A6o2V"
      },
      "execution_count": null,
      "outputs": [
        {
          "output_type": "execute_result",
          "data": {
            "text/plain": [
              "{'spreadsheetId': '15gxCoKnyMQZNqlODgbIeR2H1BfJ7KahfL61rckIEwkw',\n",
              " 'updatedRange': \"'取引先毎'!A1:AH6794\",\n",
              " 'updatedRows': 6794,\n",
              " 'updatedColumns': 34,\n",
              " 'updatedCells': 157052}"
            ]
          },
          "metadata": {},
          "execution_count": 33
        }
      ]
    },
    {
      "cell_type": "markdown",
      "source": [
        "### 部署グループごとに再集計"
      ],
      "metadata": {
        "id": "YHW1baNEhdMB"
      }
    },
    {
      "cell_type": "markdown",
      "source": [
        "#### 部署グループごとにグループ化して再処理"
      ],
      "metadata": {
        "id": "DcALrZaZhdMB"
      }
    },
    {
      "cell_type": "code",
      "source": [
        "# 3, 6, 12ヶ月の過去売り上げごと・部署グループごとにグルーピング\n",
        "from tqdm import tqdm\n",
        "from datetime import date\n",
        "from dateutil.relativedelta import relativedelta\n",
        "\n",
        "target_months = [3, 6, 12]\n",
        "result_dfs_division = []\n",
        "column_rename_dic = dict(\n",
        "  [(f'請求額_{i:02}ヶ月前', f'請求額_{-i}') for i in range(1, 13)] +\n",
        "  [('請求額_当月', '請求額_0')] +\n",
        "  [(f'請求額_{i:02}ヶ月後', f'請求額_{i}') for i in range(1, 13)]\n",
        ")\n",
        "\n",
        "# 開始・終了日の apply 処理用関数\n",
        "def getLatestDate_division(row, df):\n",
        "  val = df.filter((pl.col('部署グループ') == row[1]))\n",
        "  start = val.sort('開始日')['開始日'][0]\n",
        "  end = val.sort('終了日', descending=True)['終了日'][0] if not None in set(val['終了日']) else None\n",
        "  return (start, end)\n",
        "\n",
        "for i in target_months:\n",
        "  print(f'===== target_months = {i:02} =======================')\n",
        "\n",
        "  # 対象月が (レコードの最新の対象月 - iヶ月) より後になるレコードを除外\n",
        "  temp_nth_months_df = ss_df.filter(\n",
        "    pl.col('対象年月') <= (ss_df['対象年月'][-1] - relativedelta(months=i))\n",
        "  ).sort(\n",
        "    '対象年月', '部署グループ'\n",
        "  )\n",
        "\n",
        "  # 対象年月、部署グループ でグループ化\n",
        "  # groupby().sum() で date 型も計算されてしまうため「開始日、終了日」の列は除外\n",
        "  temp_grouping_df = temp_nth_months_df.select(\n",
        "    pl.col('*').exclude('開始日', '終了日')\n",
        "  ).groupby(\n",
        "    '対象年月', '部署グループ'\n",
        "  ).sum().with_columns(\n",
        "    pl.col(f'請求額_{i:02}ヶ月後').alias(f'[{i:02}]請求額_当月'), # iヶ月後の請求額を当月分として列を作成\n",
        "    pl.col(f'請求額_当月').alias(f'[{i:02}]請求額_{i:02}ヶ月前')  # 当月の請求額をiヶ月前分として列を作成\n",
        "  )\n",
        "\n",
        "  # 請求額のカラム名を「当月をゼロとした連番」にリネーム（12ヶ月前：請求額_-12 ～ 当月：請求額_0 ～ 12ヶ月後：請求額_12）\n",
        "  temp_grouping_df = temp_grouping_df.rename(column_rename_dic)\n",
        "\n",
        "  # 同一部署グループのレコードから 最も古い開始日, 最も新しい終了日 を追加（それぞれ null が含まれる場合は null にする）\n",
        "  # すべての値が null だった場合、カラムのデータ型が null になってしまうので cast で型を指定する\n",
        "  new_cols_division = temp_grouping_df.apply(lambda row: getLatestDate_division(row, temp_nth_months_df))\n",
        "  new_cols_division = new_cols_division.with_columns(\n",
        "    pl.col('column_0').cast(pl.Date, strict=False),\n",
        "    pl.col('column_1').cast(pl.Date, strict=False),\n",
        "  )\n",
        "  temp_grouping_df = temp_grouping_df.with_columns(\n",
        "    new_cols_division['column_0'].alias(f'[{i:02}]開始日_最古'),\n",
        "    new_cols_division['column_1'].alias(f'[{i:02}]終了日_最新')\n",
        "  )\n",
        "\n",
        "  print(f' - {i:02}ヶ月継続案件のみ | (当月 + {i:02}ヶ月) を起点とした移動平均      : ', end='')\n",
        "  # (当月 + iヶ月)から過去3, 6, 12ヶ月間の移動平均を追加\n",
        "  for m in tqdm(target_months):\n",
        "    # apply で処理する際のカラム名、型情報、最古の日付\n",
        "    col_names = temp_grouping_df.columns\n",
        "    col_types = dict(zip(col_names, temp_grouping_df.dtypes))\n",
        "    first_date = ss_df['対象年月'][0]\n",
        "\n",
        "    # (当月 + iヶ月) から (i - mヶ月前) までのカラム名のリストを生成\n",
        "    cols_period = [f'請求額_{n}' for n in range(i, i - m, -1)]\n",
        "\n",
        "    new_col = temp_grouping_df.apply(lambda row: addNthMonthMovingAverage_client(row, i, m, col_names, col_types, first_date, cols_period), return_dtype=pl.Float64)\n",
        "    temp_grouping_df = temp_grouping_df.with_columns(new_col['apply'].alias(f'[{i:02}]移動平均_当月-{m:02}ヶ月間'))\n",
        "\n",
        "  print(f' - {i:02}ヶ月継続案件のみ | (当月 + {i:02}ヶ月) の n ヶ月前からの移動平均 : ', end='')\n",
        "  # iヶ月前から過去3, 6, 12ヶ月間の移動平均を追加\n",
        "  for m in tqdm(target_months):\n",
        "    # apply で処理する際のカラム名、型情報、最古の日付\n",
        "    col_names = temp_grouping_df.columns\n",
        "    col_types = dict(zip(col_names, temp_grouping_df.dtypes))\n",
        "    first_date = ss_df['対象年月'][0]\n",
        "\n",
        "    # (当月) から (当月 - mヶ月前) までのカラム名のリストを生成\n",
        "    cols_period = [f'請求額_{n}' for n in range(0, -m, -1)]\n",
        "    new_col = temp_grouping_df.apply(lambda row: addNthMonthMovingAverage_client(row, i, m, col_names, col_types, first_date, cols_period, offset_month=-i), return_dtype=pl.Float64)\n",
        "    temp_grouping_df = temp_grouping_df.with_columns(new_col['apply'].alias(f'[{i:02}]移動平均_{i:02}ヶ月前-{m:02}ヶ月間'))\n",
        "\n",
        "  # 対象年月を iヶ月後に更新\n",
        "  temp_grouping_df = temp_grouping_df.with_columns(temp_grouping_df['対象年月'].apply(lambda x: x + relativedelta(months=i)))\n",
        "\n",
        "  # 残す列を選択\n",
        "  # 対象年月 ～ 請求額_nヶ月前 まで\n",
        "  temp_result_months_df = temp_grouping_df.select(\n",
        "      pl.col(\n",
        "        '対象年月',\n",
        "        '部署グループ',\n",
        "        f'[{i:02}]開始日_最古',\n",
        "        f'[{i:02}]終了日_最新',\n",
        "        f'[{i:02}]請求額_当月',\n",
        "        f'[{i:02}]請求額_{i:02}ヶ月前',\n",
        "      )\n",
        "    )\n",
        "  # 移動平均_nヶ月 のみ（pl.col でのカラム選択に正規表現を混在させられないようなのでこれのみ分割）\n",
        "  temp_result_average_df = temp_grouping_df.select(\n",
        "      pl.col(\n",
        "        f'^\\[{i:02}\\]移動平均_.+$',\n",
        "      )\n",
        "    )\n",
        "  # 対象年月 ～ 請求額_nヶ月前 と 移動平均_nヶ月 を結合\n",
        "  temp_grouping_df = pl.concat([temp_result_months_df, temp_result_average_df], how='horizontal')\n",
        "\n",
        "  # 処理した df を result_dfs_division に append\n",
        "  result_dfs_division.append(temp_grouping_df)"
      ],
      "metadata": {
        "colab": {
          "base_uri": "https://localhost:8080/"
        },
        "outputId": "2fe3d824-7455-4e23-8f9e-f5ecbcd149d8",
        "id": "GQn86YzhhdMK"
      },
      "execution_count": null,
      "outputs": [
        {
          "output_type": "stream",
          "name": "stdout",
          "text": [
            "===== target_months = 03 =======================\n",
            " - 03ヶ月継続案件のみ | (当月 + 03ヶ月) を起点とした移動平均      : "
          ]
        },
        {
          "output_type": "stream",
          "name": "stderr",
          "text": [
            "100%|██████████| 3/3 [00:00<00:00, 13.36it/s]\n"
          ]
        },
        {
          "output_type": "stream",
          "name": "stdout",
          "text": [
            " - 03ヶ月継続案件のみ | (当月 + 03ヶ月) の n ヶ月前からの移動平均 : "
          ]
        },
        {
          "output_type": "stream",
          "name": "stderr",
          "text": [
            "100%|██████████| 3/3 [00:00<00:00, 13.98it/s]\n"
          ]
        },
        {
          "output_type": "stream",
          "name": "stdout",
          "text": [
            "===== target_months = 06 =======================\n",
            " - 06ヶ月継続案件のみ | (当月 + 06ヶ月) を起点とした移動平均      : "
          ]
        },
        {
          "output_type": "stream",
          "name": "stderr",
          "text": [
            "100%|██████████| 3/3 [00:00<00:00, 15.16it/s]\n"
          ]
        },
        {
          "output_type": "stream",
          "name": "stdout",
          "text": [
            " - 06ヶ月継続案件のみ | (当月 + 06ヶ月) の n ヶ月前からの移動平均 : "
          ]
        },
        {
          "output_type": "stream",
          "name": "stderr",
          "text": [
            "100%|██████████| 3/3 [00:00<00:00, 15.96it/s]\n"
          ]
        },
        {
          "output_type": "stream",
          "name": "stdout",
          "text": [
            "===== target_months = 12 =======================\n",
            " - 12ヶ月継続案件のみ | (当月 + 12ヶ月) を起点とした移動平均      : "
          ]
        },
        {
          "output_type": "stream",
          "name": "stderr",
          "text": [
            "100%|██████████| 3/3 [00:00<00:00, 18.94it/s]\n"
          ]
        },
        {
          "output_type": "stream",
          "name": "stdout",
          "text": [
            " - 12ヶ月継続案件のみ | (当月 + 12ヶ月) の n ヶ月前からの移動平均 : "
          ]
        },
        {
          "output_type": "stream",
          "name": "stderr",
          "text": [
            "100%|██████████| 3/3 [00:00<00:00, 20.27it/s]\n"
          ]
        }
      ]
    },
    {
      "cell_type": "code",
      "source": [
        "# result_dfs_division (3, 6, 12ヶ月ごとの処理結果) を結合\n",
        "result_df_by_division = result_dfs_division[0]\n",
        "for i in range(1, len(result_dfs_division)):\n",
        "  result_df_by_division = result_df_by_division.join(result_dfs_division[i], on=['対象年月', '部署グループ'], how='left')\n",
        "result_df_by_division = result_df_by_division.sort('対象年月', '部署グループ')\n",
        "\n",
        "result_df_by_division"
      ],
      "metadata": {
        "colab": {
          "base_uri": "https://localhost:8080/"
        },
        "outputId": "abe15560-e5ff-42a5-96d7-38b2be143c0a",
        "id": "y_jt95NLhdML"
      },
      "execution_count": null,
      "outputs": [
        {
          "output_type": "execute_result",
          "data": {
            "text/plain": [
              "shape: (116, 32)\n",
              "┌────────────┬────────────┬────────────┬────────────┬───┬────────────┬────────────┬────────────┬────────────┐\n",
              "│ 対象年月   ┆ 部署グルー ┆ [03]開始日 ┆ [03]終了日 ┆ … ┆ [12]移動平 ┆ [12]移動平 ┆ [12]移動平 ┆ [12]移動平 │\n",
              "│ ---        ┆ プ         ┆ _最古      ┆ _最新      ┆   ┆ 均_当月-12 ┆ 均_12ヶ月  ┆ 均_12ヶ月  ┆ 均_12ヶ月  │\n",
              "│ date       ┆ ---        ┆ ---        ┆ ---        ┆   ┆ ヶ月間     ┆ 前-03ヶ月  ┆ 前-06ヶ月  ┆ 前-12ヶ月  │\n",
              "│            ┆ str        ┆ date       ┆ date       ┆   ┆ ---        ┆ 間         ┆ 間         ┆ 間         │\n",
              "│            ┆            ┆            ┆            ┆   ┆ f64        ┆ ---        ┆ ---        ┆ ---        │\n",
              "│            ┆            ┆            ┆            ┆   ┆            ┆ f64        ┆ f64        ┆ f64        │\n",
              "╞════════════╪════════════╪════════════╪════════════╪═══╪════════════╪════════════╪════════════╪════════════╡\n",
              "│ 2021-04-01 ┆ CS         ┆ null       ┆ null       ┆ … ┆ null       ┆ null       ┆ null       ┆ null       │\n",
              "│ 2021-04-01 ┆ HT         ┆ 2017-04-01 ┆ null       ┆ … ┆ null       ┆ null       ┆ null       ┆ null       │\n",
              "│ 2021-04-01 ┆ MONI       ┆ 2008-06-02 ┆ null       ┆ … ┆ null       ┆ null       ┆ null       ┆ null       │\n",
              "│ 2021-04-01 ┆ SPY        ┆ 2012-03-01 ┆ null       ┆ … ┆ null       ┆ null       ┆ null       ┆ null       │\n",
              "│ …          ┆ …          ┆ …          ┆ …          ┆ … ┆ …          ┆ …          ┆ …          ┆ …          │\n",
              "│ 2023-08-01 ┆ CS         ┆ null       ┆ null       ┆ … ┆ 1.1401e8   ┆ 1.6921e8   ┆ 1.57601965 ┆ 1.4184e8   │\n",
              "│            ┆            ┆            ┆            ┆   ┆            ┆            ┆ e8         ┆            │\n",
              "│ 2023-08-01 ┆ HT         ┆ 2017-04-01 ┆ null       ┆ … ┆ 1.3004e6   ┆ 1.5834e6   ┆ 1.4825e6   ┆ 1.3303e6   │\n",
              "│ 2023-08-01 ┆ MONI       ┆ 2008-06-02 ┆ null       ┆ … ┆ 2.5925e7   ┆ 3.0067e7   ┆ 2.9497e7   ┆ 2.8513e7   │\n",
              "│ 2023-08-01 ┆ SPY        ┆ 2012-03-01 ┆ null       ┆ … ┆ 1.6235e7   ┆ 1.8736e7   ┆ 1.7744e7   ┆ 1.6404e7   │\n",
              "└────────────┴────────────┴────────────┴────────────┴───┴────────────┴────────────┴────────────┴────────────┘"
            ],
            "text/html": [
              "<div><style>\n",
              ".dataframe > thead > tr > th,\n",
              ".dataframe > tbody > tr > td {\n",
              "  text-align: right;\n",
              "}\n",
              "</style>\n",
              "<small>shape: (116, 32)</small><table border=\"1\" class=\"dataframe\"><thead><tr><th>対象年月</th><th>部署グループ</th><th>[03]開始日_最古</th><th>[03]終了日_最新</th><th>[03]請求額_当月</th><th>[03]請求額_03ヶ月前</th><th>[03]移動平均_当月-03ヶ月間</th><th>[03]移動平均_当月-06ヶ月間</th><th>[03]移動平均_当月-12ヶ月間</th><th>[03]移動平均_03ヶ月前-03ヶ月間</th><th>[03]移動平均_03ヶ月前-06ヶ月間</th><th>[03]移動平均_03ヶ月前-12ヶ月間</th><th>[06]開始日_最古</th><th>[06]終了日_最新</th><th>[06]請求額_当月</th><th>[06]請求額_06ヶ月前</th><th>[06]移動平均_当月-03ヶ月間</th><th>[06]移動平均_当月-06ヶ月間</th><th>[06]移動平均_当月-12ヶ月間</th><th>[06]移動平均_06ヶ月前-03ヶ月間</th><th>[06]移動平均_06ヶ月前-06ヶ月間</th><th>[06]移動平均_06ヶ月前-12ヶ月間</th><th>[12]開始日_最古</th><th>[12]終了日_最新</th><th>[12]請求額_当月</th><th>[12]請求額_12ヶ月前</th><th>[12]移動平均_当月-03ヶ月間</th><th>[12]移動平均_当月-06ヶ月間</th><th>[12]移動平均_当月-12ヶ月間</th><th>[12]移動平均_12ヶ月前-03ヶ月間</th><th>[12]移動平均_12ヶ月前-06ヶ月間</th><th>[12]移動平均_12ヶ月前-12ヶ月間</th></tr><tr><td>date</td><td>str</td><td>date</td><td>date</td><td>f64</td><td>f64</td><td>f64</td><td>f64</td><td>f64</td><td>f64</td><td>f64</td><td>f64</td><td>date</td><td>date</td><td>f64</td><td>f64</td><td>f64</td><td>f64</td><td>f64</td><td>f64</td><td>f64</td><td>f64</td><td>date</td><td>date</td><td>f64</td><td>f64</td><td>f64</td><td>f64</td><td>f64</td><td>f64</td><td>f64</td><td>f64</td></tr></thead><tbody><tr><td>2021-04-01</td><td>&quot;CS&quot;</td><td>null</td><td>null</td><td>1.24675113e8</td><td>1.3148179e8</td><td>1.2855e8</td><td>null</td><td>null</td><td>null</td><td>null</td><td>null</td><td>null</td><td>null</td><td>null</td><td>null</td><td>null</td><td>null</td><td>null</td><td>null</td><td>null</td><td>null</td><td>null</td><td>null</td><td>null</td><td>null</td><td>null</td><td>null</td><td>null</td><td>null</td><td>null</td><td>null</td></tr><tr><td>2021-04-01</td><td>&quot;HT&quot;</td><td>2017-04-01</td><td>null</td><td>837100.0</td><td>902100.0</td><td>880433.333333</td><td>null</td><td>null</td><td>null</td><td>null</td><td>null</td><td>null</td><td>null</td><td>null</td><td>null</td><td>null</td><td>null</td><td>null</td><td>null</td><td>null</td><td>null</td><td>null</td><td>null</td><td>null</td><td>null</td><td>null</td><td>null</td><td>null</td><td>null</td><td>null</td><td>null</td></tr><tr><td>2021-04-01</td><td>&quot;MONI&quot;</td><td>2008-06-02</td><td>null</td><td>3.7438775e7</td><td>3.6880118e7</td><td>3.6644e7</td><td>null</td><td>null</td><td>null</td><td>null</td><td>null</td><td>null</td><td>null</td><td>null</td><td>null</td><td>null</td><td>null</td><td>null</td><td>null</td><td>null</td><td>null</td><td>null</td><td>null</td><td>null</td><td>null</td><td>null</td><td>null</td><td>null</td><td>null</td><td>null</td><td>null</td></tr><tr><td>2021-04-01</td><td>&quot;SPY&quot;</td><td>2012-03-01</td><td>null</td><td>1.459605e7</td><td>1.599655e7</td><td>1.5361e7</td><td>null</td><td>null</td><td>null</td><td>null</td><td>null</td><td>null</td><td>null</td><td>null</td><td>null</td><td>null</td><td>null</td><td>null</td><td>null</td><td>null</td><td>null</td><td>null</td><td>null</td><td>null</td><td>null</td><td>null</td><td>null</td><td>null</td><td>null</td><td>null</td><td>null</td></tr><tr><td>2021-05-01</td><td>&quot;CS&quot;</td><td>null</td><td>null</td><td>1.27150429e8</td><td>1.30423186e8</td><td>1.3099e8</td><td>null</td><td>null</td><td>null</td><td>null</td><td>null</td><td>null</td><td>null</td><td>null</td><td>null</td><td>null</td><td>null</td><td>null</td><td>null</td><td>null</td><td>null</td><td>null</td><td>null</td><td>null</td><td>null</td><td>null</td><td>null</td><td>null</td><td>null</td><td>null</td><td>null</td></tr><tr><td>2021-05-01</td><td>&quot;HT&quot;</td><td>2017-04-01</td><td>null</td><td>837100.0</td><td>902100.0</td><td>858766.666667</td><td>null</td><td>null</td><td>null</td><td>null</td><td>null</td><td>null</td><td>null</td><td>null</td><td>null</td><td>null</td><td>null</td><td>null</td><td>null</td><td>null</td><td>null</td><td>null</td><td>null</td><td>null</td><td>null</td><td>null</td><td>null</td><td>null</td><td>null</td><td>null</td><td>null</td></tr><tr><td>2021-05-01</td><td>&quot;MONI&quot;</td><td>2008-06-02</td><td>null</td><td>3.63519e7</td><td>3.6606636e7</td><td>3.7121e7</td><td>null</td><td>null</td><td>null</td><td>null</td><td>null</td><td>null</td><td>null</td><td>null</td><td>null</td><td>null</td><td>null</td><td>null</td><td>null</td><td>null</td><td>null</td><td>null</td><td>null</td><td>null</td><td>null</td><td>null</td><td>null</td><td>null</td><td>null</td><td>null</td><td>null</td></tr><tr><td>2021-05-01</td><td>&quot;SPY&quot;</td><td>2012-03-01</td><td>null</td><td>1.419145e7</td><td>1.6063475e7</td><td>1.48794e7</td><td>null</td><td>null</td><td>null</td><td>null</td><td>null</td><td>null</td><td>null</td><td>null</td><td>null</td><td>null</td><td>null</td><td>null</td><td>null</td><td>null</td><td>null</td><td>null</td><td>null</td><td>null</td><td>null</td><td>null</td><td>null</td><td>null</td><td>null</td><td>null</td><td>null</td></tr><tr><td>2021-06-01</td><td>&quot;CS&quot;</td><td>null</td><td>null</td><td>1.33193476e8</td><td>1.43711713e8</td><td>1.2998e8</td><td>1.3183e8</td><td>null</td><td>1.33682863e8</td><td>null</td><td>null</td><td>null</td><td>null</td><td>null</td><td>null</td><td>null</td><td>null</td><td>null</td><td>null</td><td>null</td><td>null</td><td>null</td><td>null</td><td>null</td><td>null</td><td>null</td><td>null</td><td>null</td><td>null</td><td>null</td><td>null</td></tr><tr><td>2021-06-01</td><td>&quot;HT&quot;</td><td>2017-04-01</td><td>null</td><td>837100.0</td><td>902100.0</td><td>837100.0</td><td>869600.0</td><td>null</td><td>902100.0</td><td>null</td><td>null</td><td>null</td><td>null</td><td>null</td><td>null</td><td>null</td><td>null</td><td>null</td><td>null</td><td>null</td><td>null</td><td>null</td><td>null</td><td>null</td><td>null</td><td>null</td><td>null</td><td>null</td><td>null</td><td>null</td><td>null</td></tr><tr><td>2021-06-01</td><td>&quot;MONI&quot;</td><td>2008-06-02</td><td>null</td><td>3.6310693e7</td><td>3.7635873e7</td><td>3.7275e7</td><td>3.7013e7</td><td>null</td><td>3.6751e7</td><td>null</td><td>null</td><td>null</td><td>null</td><td>null</td><td>null</td><td>null</td><td>null</td><td>null</td><td>null</td><td>null</td><td>null</td><td>null</td><td>null</td><td>null</td><td>null</td><td>null</td><td>null</td><td>null</td><td>null</td><td>null</td><td>null</td></tr><tr><td>2021-06-01</td><td>&quot;SPY&quot;</td><td>2012-03-01</td><td>null</td><td>1.427945e7</td><td>1.6221426e7</td><td>1.460905e7</td><td>1.5261e7</td><td>null</td><td>1.5912e7</td><td>null</td><td>null</td><td>null</td><td>null</td><td>null</td><td>null</td><td>null</td><td>null</td><td>null</td><td>null</td><td>null</td><td>null</td><td>null</td><td>null</td><td>null</td><td>null</td><td>null</td><td>null</td><td>null</td><td>null</td><td>null</td><td>null</td></tr><tr><td>&hellip;</td><td>&hellip;</td><td>&hellip;</td><td>&hellip;</td><td>&hellip;</td><td>&hellip;</td><td>&hellip;</td><td>&hellip;</td><td>&hellip;</td><td>&hellip;</td><td>&hellip;</td><td>&hellip;</td><td>&hellip;</td><td>&hellip;</td><td>&hellip;</td><td>&hellip;</td><td>&hellip;</td><td>&hellip;</td><td>&hellip;</td><td>&hellip;</td><td>&hellip;</td><td>&hellip;</td><td>&hellip;</td><td>&hellip;</td><td>&hellip;</td><td>&hellip;</td><td>&hellip;</td><td>&hellip;</td><td>&hellip;</td><td>&hellip;</td><td>&hellip;</td><td>&hellip;</td></tr><tr><td>2023-06-01</td><td>&quot;CS&quot;</td><td>null</td><td>null</td><td>1.19381768e8</td><td>1.33961533e8</td><td>1.2266e8</td><td>1.2603e8</td><td>1.2590e8</td><td>1.2939e8</td><td>1.2913e8</td><td>1.2025e8</td><td>null</td><td>null</td><td>1.01642024e8</td><td>1.7042376e8</td><td>1.05200639e8</td><td>1.1138e8</td><td>1.4132e8</td><td>1.7455e8</td><td>1.7126e8</td><td>1.5500e8</td><td>null</td><td>null</td><td>9.5866829e7</td><td>1.5336166e8</td><td>9.7888584e7</td><td>9.7462e7</td><td>1.2723e8</td><td>1.5116e8</td><td>1.4461e8</td><td>1.3241e8</td></tr><tr><td>2023-06-01</td><td>&quot;HT&quot;</td><td>2017-04-01</td><td>null</td><td>1.4931e6</td><td>1.5521e6</td><td>1.5028e6</td><td>1.5274e6</td><td>1.4939e6</td><td>1.5521e6</td><td>1.5471e6</td><td>1.4379e6</td><td>2017-04-01</td><td>null</td><td>1.4931e6</td><td>1.6172e6</td><td>1.5028e6</td><td>1.5439e6</td><td>1.5347e6</td><td>1.6072e6</td><td>1.5255e6</td><td>1.3883e6</td><td>2017-04-01</td><td>null</td><td>1.2981e6</td><td>1.6101e6</td><td>1.3078e6</td><td>1.3489e6</td><td>1.4399e6</td><td>1.4850e6</td><td>1.3730e6</td><td>1.2450e6</td></tr><tr><td>2023-06-01</td><td>&quot;MONI&quot;</td><td>2008-06-02</td><td>null</td><td>6.6369649e7</td><td>7.0545043e7</td><td>6.8126509e7</td><td>6.8835e7</td><td>4.9074e7</td><td>6.9544e7</td><td>4.9474e7</td><td>3.8757e7</td><td>2008-06-02</td><td>null</td><td>2.7513104e7</td><td>2.8778529e7</td><td>2.8233e7</td><td>2.8183e7</td><td>2.8819e7</td><td>2.9561e7</td><td>2.9455e7</td><td>2.7930e7</td><td>2008-06-02</td><td>null</td><td>2.6377898e7</td><td>2.9577527e7</td><td>2.7084e7</td><td>2.7005e7</td><td>2.8050e7</td><td>2.9065e7</td><td>2.8578e7</td><td>2.8035e7</td></tr><tr><td>2023-06-01</td><td>&quot;SPY&quot;</td><td>2012-03-01</td><td>null</td><td>1.855766e7</td><td>2.0200544e7</td><td>1.889082e7</td><td>1.9167236e7</td><td>1.8614e7</td><td>1.9443652e7</td><td>1.8852e7</td><td>1.7945833e7</td><td>2012-03-01</td><td>null</td><td>1.717066e7</td><td>1.9619494e7</td><td>1.7409e7</td><td>1.7870e7</td><td>1.8284e7</td><td>1.8901e7</td><td>1.8699e7</td><td>1.7404e7</td><td>2012-03-01</td><td>null</td><td>1.622348e7</td><td>1.8981272e7</td><td>1.6479e7</td><td>1.690095e7</td><td>1.7528e7</td><td>1.8296e7</td><td>1.7548e7</td><td>1.6180e7</td></tr><tr><td>2023-07-01</td><td>&quot;CS&quot;</td><td>null</td><td>null</td><td>1.18237419e8</td><td>1.27664401e8</td><td>1.2435e8</td><td>1.2350e8</td><td>1.2017e8</td><td>1.2265e8</td><td>1.19004429e8</td><td>1.1386e8</td><td>null</td><td>null</td><td>1.07145639e8</td><td>1.3304792e8</td><td>1.12116523e8</td><td>1.1755e8</td><td>1.2574e8</td><td>1.3420e8</td><td>1.3392e8</td><td>1.1700e8</td><td>null</td><td>null</td><td>9.2787529e7</td><td>1.65373496e8</td><td>9.7247803e7</td><td>9.8402e7</td><td>1.2596e8</td><td>1.54979397e8</td><td>1.4788e8</td><td>1.3605e8</td></tr><tr><td>2023-07-01</td><td>&quot;HT&quot;</td><td>2017-04-01</td><td>null</td><td>1.4831e6</td><td>1.5521e6</td><td>1.4798e6</td><td>1.5159e6</td><td>1.5061e6</td><td>1.5521e6</td><td>1.5688e6</td><td>1.4633e6</td><td>2017-04-01</td><td>null</td><td>1.4831e6</td><td>1.6172e6</td><td>1.4798e6</td><td>1.5216e6</td><td>1.541475e6</td><td>1.6505e6</td><td>1.5614e6</td><td>1.4298e6</td><td>2017-04-01</td><td>null</td><td>1.2881e6</td><td>1.5701e6</td><td>1.2848e6</td><td>1.3266e6</td><td>1.4164e6</td><td>1.536659e6</td><td>1.4310e6</td><td>1.286966e6</td></tr><tr><td>2023-07-01</td><td>&quot;MONI&quot;</td><td>2008-06-02</td><td>null</td><td>6.0227072e7</td><td>6.9891172e7</td><td>6.5284273e7</td><td>6.7673e7</td><td>5.1723e7</td><td>7.0062e7</td><td>5.5981e7</td><td>4.2248e7</td><td>2008-06-02</td><td>null</td><td>5.9737576e7</td><td>6.8476417e7</td><td>6.4556e7</td><td>6.7355e7</td><td>5.1633e7</td><td>4.2102e7</td><td>3.5912e7</td><td>3.1599e7</td><td>2008-06-02</td><td>null</td><td>2.1171911e7</td><td>3.0736759e7</td><td>2.5358e7</td><td>2.6642e7</td><td>2.7852e7</td><td>2.9595e7</td><td>2.9268e7</td><td>2.8393e7</td></tr><tr><td>2023-07-01</td><td>&quot;SPY&quot;</td><td>2012-03-01</td><td>null</td><td>1.806651e7</td><td>2.0038414e7</td><td>1.884084e7</td><td>1.9198e7</td><td>1.8424e7</td><td>1.9556e7</td><td>1.8691e7</td><td>1.7760e7</td><td>2012-03-01</td><td>null</td><td>1.650627e7</td><td>1.876347e7</td><td>1.729106e7</td><td>1.8039e7</td><td>1.8308e7</td><td>1.8762e7</td><td>1.8578e7</td><td>1.7397e7</td><td>2012-03-01</td><td>null</td><td>1.554209e7</td><td>1.864187e7</td><td>1.6267e7</td><td>1.6860e7</td><td>1.7622e7</td><td>1.8069537e7</td><td>1.7251928e7</td><td>1.5946e7</td></tr><tr><td>2023-08-01</td><td>&quot;CS&quot;</td><td>null</td><td>null</td><td>2.781e6</td><td>1.32442217e8</td><td>8.1923e7</td><td>1.0476e8</td><td>1.0893e8</td><td>1.27587575e8</td><td>1.1915e8</td><td>1.14746248e8</td><td>null</td><td>null</td><td>2.771e6</td><td>1.32656991e8</td><td>7.6206469e7</td><td>1.0051e8</td><td>1.1624e8</td><td>1.3026e8</td><td>1.31962627e8</td><td>1.1900e8</td><td>null</td><td>null</td><td>1.121e6</td><td>1.94586517e8</td><td>6.4194666e7</td><td>8.3361e7</td><td>1.1401e8</td><td>1.6921e8</td><td>1.57601965e8</td><td>1.4184e8</td></tr><tr><td>2023-08-01</td><td>&quot;HT&quot;</td><td>2017-04-01</td><td>null</td><td>179000.0</td><td>1.4631e6</td><td>1.0517e6</td><td>1.2741e6</td><td>1.3836e6</td><td>1.4964e6</td><td>1.5048e6</td><td>1.44435e6</td><td>2017-04-01</td><td>null</td><td>179000.0</td><td>1.586e6</td><td>1.0517e6</td><td>1.2871e6</td><td>1.4265e6</td><td>1.586e6</td><td>1.566e6</td><td>1.4368e6</td><td>2017-04-01</td><td>null</td><td>179000.0</td><td>1.5701e6</td><td>921733.333333</td><td>1.1246e6</td><td>1.3004e6</td><td>1.5834e6</td><td>1.4825e6</td><td>1.3303e6</td></tr><tr><td>2023-08-01</td><td>&quot;MONI&quot;</td><td>2008-06-02</td><td>null</td><td>1.069e6</td><td>6.8998606e7</td><td>4.2601075e7</td><td>5.6180e7</td><td>4.9434e7</td><td>6.9759e7</td><td>6.2617e7</td><td>4.5806e7</td><td>2008-06-02</td><td>null</td><td>1.069e6</td><td>7.2004917e7</td><td>4.2299407e7</td><td>5.5716e7</td><td>4.9441e7</td><td>5.6350949e7</td><td>4.3164767e7</td><td>3.5448e7</td><td>2008-06-02</td><td>null</td><td>994000.0</td><td>3.03618e7</td><td>1.6688e7</td><td>2.2602e7</td><td>2.5925e7</td><td>3.0067e7</td><td>2.9497e7</td><td>2.8513e7</td></tr><tr><td>2023-08-01</td><td>&quot;SPY&quot;</td><td>2012-03-01</td><td>null</td><td>840500.0</td><td>1.9659396e7</td><td>1.2747e7</td><td>1.6208e7</td><td>1.6967e7</td><td>1.9668459e7</td><td>1.8990e7</td><td>1.8012e7</td><td>2012-03-01</td><td>null</td><td>840500.0</td><td>2.0000942e7</td><td>1.2034e7</td><td>1.549343e7</td><td>1.7109e7</td><td>1.9309e7</td><td>1.8724e7</td><td>1.7762e7</td><td>2012-03-01</td><td>null</td><td>840500.0</td><td>1.959235e7</td><td>1.108269e7</td><td>1.4165e7</td><td>1.6235e7</td><td>1.8736e7</td><td>1.7744e7</td><td>1.6404e7</td></tr></tbody></table></div>"
            ]
          },
          "metadata": {},
          "execution_count": 35
        }
      ]
    },
    {
      "cell_type": "code",
      "source": [
        "# nヶ月ごとでグルーピングする前の、部署グループ毎の該当月全体の合計請求額を取得\n",
        "division_total = ss_df.filter(\n",
        "    pl.col('対象年月') >= (ss_df['対象年月'][0] + relativedelta(months=min(target_months)))\n",
        "  ).groupby(\n",
        "    '対象年月', '部署グループ'\n",
        "  ).sum().with_columns(\n",
        "    pl.col(f'請求額_当月').alias('請求額')\n",
        "  ).select(\n",
        "    pl.col('対象年月', '部署グループ', '請求額')\n",
        "  ).sort('対象年月', '部署グループ')\n",
        "\n",
        "def getDivisionTotal(row):\n",
        "  total_price = division_total.filter(\n",
        "    (pl.col('対象年月') == row[0]) & (pl.col('部署グループ') == row[1])\n",
        "  )['請求額']\n",
        "  if len(total_price) > 0:\n",
        "    return total_price[0]\n",
        "  else:\n",
        "    return None\n",
        "\n",
        "new_col_by_division_total = result_df_by_division.apply(getDivisionTotal)\n",
        "new_col_by_division_total = new_col_by_division_total.select(pl.col('apply').cast(pl.Float64, strict=False).alias('請求額'))\n",
        "result_df_by_division.insert_at_idx(2, new_col_by_division_total['請求額'])"
      ],
      "metadata": {
        "colab": {
          "base_uri": "https://localhost:8080/"
        },
        "id": "_SA4LHeLRT3d",
        "outputId": "f1ed64e1-773c-4a5f-a37e-d60a29187274"
      },
      "execution_count": null,
      "outputs": [
        {
          "output_type": "execute_result",
          "data": {
            "text/plain": [
              "shape: (116, 33)\n",
              "┌────────────┬────────────┬─────────┬────────────┬───┬────────────┬────────────┬────────────┬────────────┐\n",
              "│ 対象年月   ┆ 部署グルー ┆ 請求額  ┆ [03]開始日 ┆ … ┆ [12]移動平 ┆ [12]移動平 ┆ [12]移動平 ┆ [12]移動平 │\n",
              "│ ---        ┆ プ         ┆ ---     ┆ _最古      ┆   ┆ 均_当月-12 ┆ 均_12ヶ月  ┆ 均_12ヶ月  ┆ 均_12ヶ月  │\n",
              "│ date       ┆ ---        ┆ f64     ┆ ---        ┆   ┆ ヶ月間     ┆ 前-03ヶ月  ┆ 前-06ヶ月  ┆ 前-12ヶ月  │\n",
              "│            ┆ str        ┆         ┆ date       ┆   ┆ ---        ┆ 間         ┆ 間         ┆ 間         │\n",
              "│            ┆            ┆         ┆            ┆   ┆ f64        ┆ ---        ┆ ---        ┆ ---        │\n",
              "│            ┆            ┆         ┆            ┆   ┆            ┆ f64        ┆ f64        ┆ f64        │\n",
              "╞════════════╪════════════╪═════════╪════════════╪═══╪════════════╪════════════╪════════════╪════════════╡\n",
              "│ 2021-04-01 ┆ CS         ┆ 1.35278 ┆ null       ┆ … ┆ null       ┆ null       ┆ null       ┆ null       │\n",
              "│            ┆            ┆ 372e8   ┆            ┆   ┆            ┆            ┆            ┆            │\n",
              "│ 2021-04-01 ┆ HT         ┆ 837100. ┆ 2017-04-01 ┆ … ┆ null       ┆ null       ┆ null       ┆ null       │\n",
              "│            ┆            ┆ 0       ┆            ┆   ┆            ┆            ┆            ┆            │\n",
              "│ 2021-04-01 ┆ MONI       ┆ 3.86285 ┆ 2008-06-02 ┆ … ┆ null       ┆ null       ┆ null       ┆ null       │\n",
              "│            ┆            ┆ 25e7    ┆            ┆   ┆            ┆            ┆            ┆            │\n",
              "│ 2021-04-01 ┆ SPY        ┆ 1.74892 ┆ 2012-03-01 ┆ … ┆ null       ┆ null       ┆ null       ┆ null       │\n",
              "│            ┆            ┆ 17e7    ┆            ┆   ┆            ┆            ┆            ┆            │\n",
              "│ …          ┆ …          ┆ …       ┆ …          ┆ … ┆ …          ┆ …          ┆ …          ┆ …          │\n",
              "│ 2023-08-01 ┆ CS         ┆ 4.03344 ┆ null       ┆ … ┆ 1.1401e8   ┆ 1.6921e8   ┆ 1.57601965 ┆ 1.4184e8   │\n",
              "│            ┆            ┆ e6      ┆            ┆   ┆            ┆            ┆ e8         ┆            │\n",
              "│ 2023-08-01 ┆ HT         ┆ 179000. ┆ 2017-04-01 ┆ … ┆ 1.3004e6   ┆ 1.5834e6   ┆ 1.4825e6   ┆ 1.3303e6   │\n",
              "│            ┆            ┆ 0       ┆            ┆   ┆            ┆            ┆            ┆            │\n",
              "│ 2023-08-01 ┆ MONI       ┆ 1.069e6 ┆ 2008-06-02 ┆ … ┆ 2.5925e7   ┆ 3.0067e7   ┆ 2.9497e7   ┆ 2.8513e7   │\n",
              "│ 2023-08-01 ┆ SPY        ┆ 850500. ┆ 2012-03-01 ┆ … ┆ 1.6235e7   ┆ 1.8736e7   ┆ 1.7744e7   ┆ 1.6404e7   │\n",
              "│            ┆            ┆ 0       ┆            ┆   ┆            ┆            ┆            ┆            │\n",
              "└────────────┴────────────┴─────────┴────────────┴───┴────────────┴────────────┴────────────┴────────────┘"
            ],
            "text/html": [
              "<div><style>\n",
              ".dataframe > thead > tr > th,\n",
              ".dataframe > tbody > tr > td {\n",
              "  text-align: right;\n",
              "}\n",
              "</style>\n",
              "<small>shape: (116, 33)</small><table border=\"1\" class=\"dataframe\"><thead><tr><th>対象年月</th><th>部署グループ</th><th>請求額</th><th>[03]開始日_最古</th><th>[03]終了日_最新</th><th>[03]請求額_当月</th><th>[03]請求額_03ヶ月前</th><th>[03]移動平均_当月-03ヶ月間</th><th>[03]移動平均_当月-06ヶ月間</th><th>[03]移動平均_当月-12ヶ月間</th><th>[03]移動平均_03ヶ月前-03ヶ月間</th><th>[03]移動平均_03ヶ月前-06ヶ月間</th><th>[03]移動平均_03ヶ月前-12ヶ月間</th><th>[06]開始日_最古</th><th>[06]終了日_最新</th><th>[06]請求額_当月</th><th>[06]請求額_06ヶ月前</th><th>[06]移動平均_当月-03ヶ月間</th><th>[06]移動平均_当月-06ヶ月間</th><th>[06]移動平均_当月-12ヶ月間</th><th>[06]移動平均_06ヶ月前-03ヶ月間</th><th>[06]移動平均_06ヶ月前-06ヶ月間</th><th>[06]移動平均_06ヶ月前-12ヶ月間</th><th>[12]開始日_最古</th><th>[12]終了日_最新</th><th>[12]請求額_当月</th><th>[12]請求額_12ヶ月前</th><th>[12]移動平均_当月-03ヶ月間</th><th>[12]移動平均_当月-06ヶ月間</th><th>[12]移動平均_当月-12ヶ月間</th><th>[12]移動平均_12ヶ月前-03ヶ月間</th><th>[12]移動平均_12ヶ月前-06ヶ月間</th><th>[12]移動平均_12ヶ月前-12ヶ月間</th></tr><tr><td>date</td><td>str</td><td>f64</td><td>date</td><td>date</td><td>f64</td><td>f64</td><td>f64</td><td>f64</td><td>f64</td><td>f64</td><td>f64</td><td>f64</td><td>date</td><td>date</td><td>f64</td><td>f64</td><td>f64</td><td>f64</td><td>f64</td><td>f64</td><td>f64</td><td>f64</td><td>date</td><td>date</td><td>f64</td><td>f64</td><td>f64</td><td>f64</td><td>f64</td><td>f64</td><td>f64</td><td>f64</td></tr></thead><tbody><tr><td>2021-04-01</td><td>&quot;CS&quot;</td><td>1.35278372e8</td><td>null</td><td>null</td><td>1.24675113e8</td><td>1.3148179e8</td><td>1.2855e8</td><td>null</td><td>null</td><td>null</td><td>null</td><td>null</td><td>null</td><td>null</td><td>null</td><td>null</td><td>null</td><td>null</td><td>null</td><td>null</td><td>null</td><td>null</td><td>null</td><td>null</td><td>null</td><td>null</td><td>null</td><td>null</td><td>null</td><td>null</td><td>null</td><td>null</td></tr><tr><td>2021-04-01</td><td>&quot;HT&quot;</td><td>837100.0</td><td>2017-04-01</td><td>null</td><td>837100.0</td><td>902100.0</td><td>880433.333333</td><td>null</td><td>null</td><td>null</td><td>null</td><td>null</td><td>null</td><td>null</td><td>null</td><td>null</td><td>null</td><td>null</td><td>null</td><td>null</td><td>null</td><td>null</td><td>null</td><td>null</td><td>null</td><td>null</td><td>null</td><td>null</td><td>null</td><td>null</td><td>null</td><td>null</td></tr><tr><td>2021-04-01</td><td>&quot;MONI&quot;</td><td>3.8628525e7</td><td>2008-06-02</td><td>null</td><td>3.7438775e7</td><td>3.6880118e7</td><td>3.6644e7</td><td>null</td><td>null</td><td>null</td><td>null</td><td>null</td><td>null</td><td>null</td><td>null</td><td>null</td><td>null</td><td>null</td><td>null</td><td>null</td><td>null</td><td>null</td><td>null</td><td>null</td><td>null</td><td>null</td><td>null</td><td>null</td><td>null</td><td>null</td><td>null</td><td>null</td></tr><tr><td>2021-04-01</td><td>&quot;SPY&quot;</td><td>1.7489217e7</td><td>2012-03-01</td><td>null</td><td>1.459605e7</td><td>1.599655e7</td><td>1.5361e7</td><td>null</td><td>null</td><td>null</td><td>null</td><td>null</td><td>null</td><td>null</td><td>null</td><td>null</td><td>null</td><td>null</td><td>null</td><td>null</td><td>null</td><td>null</td><td>null</td><td>null</td><td>null</td><td>null</td><td>null</td><td>null</td><td>null</td><td>null</td><td>null</td><td>null</td></tr><tr><td>2021-05-01</td><td>&quot;CS&quot;</td><td>1.37443702e8</td><td>null</td><td>null</td><td>1.27150429e8</td><td>1.30423186e8</td><td>1.3099e8</td><td>null</td><td>null</td><td>null</td><td>null</td><td>null</td><td>null</td><td>null</td><td>null</td><td>null</td><td>null</td><td>null</td><td>null</td><td>null</td><td>null</td><td>null</td><td>null</td><td>null</td><td>null</td><td>null</td><td>null</td><td>null</td><td>null</td><td>null</td><td>null</td><td>null</td></tr><tr><td>2021-05-01</td><td>&quot;HT&quot;</td><td>1.233552e6</td><td>2017-04-01</td><td>null</td><td>837100.0</td><td>902100.0</td><td>858766.666667</td><td>null</td><td>null</td><td>null</td><td>null</td><td>null</td><td>null</td><td>null</td><td>null</td><td>null</td><td>null</td><td>null</td><td>null</td><td>null</td><td>null</td><td>null</td><td>null</td><td>null</td><td>null</td><td>null</td><td>null</td><td>null</td><td>null</td><td>null</td><td>null</td><td>null</td></tr><tr><td>2021-05-01</td><td>&quot;MONI&quot;</td><td>3.7113057e7</td><td>2008-06-02</td><td>null</td><td>3.63519e7</td><td>3.6606636e7</td><td>3.7121e7</td><td>null</td><td>null</td><td>null</td><td>null</td><td>null</td><td>null</td><td>null</td><td>null</td><td>null</td><td>null</td><td>null</td><td>null</td><td>null</td><td>null</td><td>null</td><td>null</td><td>null</td><td>null</td><td>null</td><td>null</td><td>null</td><td>null</td><td>null</td><td>null</td><td>null</td></tr><tr><td>2021-05-01</td><td>&quot;SPY&quot;</td><td>1.6892714e7</td><td>2012-03-01</td><td>null</td><td>1.419145e7</td><td>1.6063475e7</td><td>1.48794e7</td><td>null</td><td>null</td><td>null</td><td>null</td><td>null</td><td>null</td><td>null</td><td>null</td><td>null</td><td>null</td><td>null</td><td>null</td><td>null</td><td>null</td><td>null</td><td>null</td><td>null</td><td>null</td><td>null</td><td>null</td><td>null</td><td>null</td><td>null</td><td>null</td><td>null</td></tr><tr><td>2021-06-01</td><td>&quot;CS&quot;</td><td>1.46140522e8</td><td>null</td><td>null</td><td>1.33193476e8</td><td>1.43711713e8</td><td>1.2998e8</td><td>1.3183e8</td><td>null</td><td>1.33682863e8</td><td>null</td><td>null</td><td>null</td><td>null</td><td>null</td><td>null</td><td>null</td><td>null</td><td>null</td><td>null</td><td>null</td><td>null</td><td>null</td><td>null</td><td>null</td><td>null</td><td>null</td><td>null</td><td>null</td><td>null</td><td>null</td><td>null</td></tr><tr><td>2021-06-01</td><td>&quot;HT&quot;</td><td>902100.0</td><td>2017-04-01</td><td>null</td><td>837100.0</td><td>902100.0</td><td>837100.0</td><td>869600.0</td><td>null</td><td>902100.0</td><td>null</td><td>null</td><td>null</td><td>null</td><td>null</td><td>null</td><td>null</td><td>null</td><td>null</td><td>null</td><td>null</td><td>null</td><td>null</td><td>null</td><td>null</td><td>null</td><td>null</td><td>null</td><td>null</td><td>null</td><td>null</td><td>null</td></tr><tr><td>2021-06-01</td><td>&quot;MONI&quot;</td><td>3.8769708e7</td><td>2008-06-02</td><td>null</td><td>3.6310693e7</td><td>3.7635873e7</td><td>3.7275e7</td><td>3.7013e7</td><td>null</td><td>3.6751e7</td><td>null</td><td>null</td><td>null</td><td>null</td><td>null</td><td>null</td><td>null</td><td>null</td><td>null</td><td>null</td><td>null</td><td>null</td><td>null</td><td>null</td><td>null</td><td>null</td><td>null</td><td>null</td><td>null</td><td>null</td><td>null</td><td>null</td></tr><tr><td>2021-06-01</td><td>&quot;SPY&quot;</td><td>1.687895e7</td><td>2012-03-01</td><td>null</td><td>1.427945e7</td><td>1.6221426e7</td><td>1.460905e7</td><td>1.5261e7</td><td>null</td><td>1.5912e7</td><td>null</td><td>null</td><td>null</td><td>null</td><td>null</td><td>null</td><td>null</td><td>null</td><td>null</td><td>null</td><td>null</td><td>null</td><td>null</td><td>null</td><td>null</td><td>null</td><td>null</td><td>null</td><td>null</td><td>null</td><td>null</td><td>null</td></tr><tr><td>&hellip;</td><td>&hellip;</td><td>&hellip;</td><td>&hellip;</td><td>&hellip;</td><td>&hellip;</td><td>&hellip;</td><td>&hellip;</td><td>&hellip;</td><td>&hellip;</td><td>&hellip;</td><td>&hellip;</td><td>&hellip;</td><td>&hellip;</td><td>&hellip;</td><td>&hellip;</td><td>&hellip;</td><td>&hellip;</td><td>&hellip;</td><td>&hellip;</td><td>&hellip;</td><td>&hellip;</td><td>&hellip;</td><td>&hellip;</td><td>&hellip;</td><td>&hellip;</td><td>&hellip;</td><td>&hellip;</td><td>&hellip;</td><td>&hellip;</td><td>&hellip;</td><td>&hellip;</td><td>&hellip;</td></tr><tr><td>2023-06-01</td><td>&quot;CS&quot;</td><td>1.2775565e8</td><td>null</td><td>null</td><td>1.19381768e8</td><td>1.33961533e8</td><td>1.2266e8</td><td>1.2603e8</td><td>1.2590e8</td><td>1.2939e8</td><td>1.2913e8</td><td>1.2025e8</td><td>null</td><td>null</td><td>1.01642024e8</td><td>1.7042376e8</td><td>1.05200639e8</td><td>1.1138e8</td><td>1.4132e8</td><td>1.7455e8</td><td>1.7126e8</td><td>1.5500e8</td><td>null</td><td>null</td><td>9.5866829e7</td><td>1.5336166e8</td><td>9.7888584e7</td><td>9.7462e7</td><td>1.2723e8</td><td>1.5116e8</td><td>1.4461e8</td><td>1.3241e8</td></tr><tr><td>2023-06-01</td><td>&quot;HT&quot;</td><td>1.4931e6</td><td>2017-04-01</td><td>null</td><td>1.4931e6</td><td>1.5521e6</td><td>1.5028e6</td><td>1.5274e6</td><td>1.4939e6</td><td>1.5521e6</td><td>1.5471e6</td><td>1.4379e6</td><td>2017-04-01</td><td>null</td><td>1.4931e6</td><td>1.6172e6</td><td>1.5028e6</td><td>1.5439e6</td><td>1.5347e6</td><td>1.6072e6</td><td>1.5255e6</td><td>1.3883e6</td><td>2017-04-01</td><td>null</td><td>1.2981e6</td><td>1.6101e6</td><td>1.3078e6</td><td>1.3489e6</td><td>1.4399e6</td><td>1.4850e6</td><td>1.3730e6</td><td>1.2450e6</td></tr><tr><td>2023-06-01</td><td>&quot;MONI&quot;</td><td>6.7064149e7</td><td>2008-06-02</td><td>null</td><td>6.6369649e7</td><td>7.0545043e7</td><td>6.8126509e7</td><td>6.8835e7</td><td>4.9074e7</td><td>6.9544e7</td><td>4.9474e7</td><td>3.8757e7</td><td>2008-06-02</td><td>null</td><td>2.7513104e7</td><td>2.8778529e7</td><td>2.8233e7</td><td>2.8183e7</td><td>2.8819e7</td><td>2.9561e7</td><td>2.9455e7</td><td>2.7930e7</td><td>2008-06-02</td><td>null</td><td>2.6377898e7</td><td>2.9577527e7</td><td>2.7084e7</td><td>2.7005e7</td><td>2.8050e7</td><td>2.9065e7</td><td>2.8578e7</td><td>2.8035e7</td></tr><tr><td>2023-06-01</td><td>&quot;SPY&quot;</td><td>1.940592e7</td><td>2012-03-01</td><td>null</td><td>1.855766e7</td><td>2.0200544e7</td><td>1.889082e7</td><td>1.9167236e7</td><td>1.8614e7</td><td>1.9443652e7</td><td>1.8852e7</td><td>1.7945833e7</td><td>2012-03-01</td><td>null</td><td>1.717066e7</td><td>1.9619494e7</td><td>1.7409e7</td><td>1.7870e7</td><td>1.8284e7</td><td>1.8901e7</td><td>1.8699e7</td><td>1.7404e7</td><td>2012-03-01</td><td>null</td><td>1.622348e7</td><td>1.8981272e7</td><td>1.6479e7</td><td>1.690095e7</td><td>1.7528e7</td><td>1.8296e7</td><td>1.7548e7</td><td>1.6180e7</td></tr><tr><td>2023-07-01</td><td>&quot;CS&quot;</td><td>1.26025366e8</td><td>null</td><td>null</td><td>1.18237419e8</td><td>1.27664401e8</td><td>1.2435e8</td><td>1.2350e8</td><td>1.2017e8</td><td>1.2265e8</td><td>1.19004429e8</td><td>1.1386e8</td><td>null</td><td>null</td><td>1.07145639e8</td><td>1.3304792e8</td><td>1.12116523e8</td><td>1.1755e8</td><td>1.2574e8</td><td>1.3420e8</td><td>1.3392e8</td><td>1.1700e8</td><td>null</td><td>null</td><td>9.2787529e7</td><td>1.65373496e8</td><td>9.7247803e7</td><td>9.8402e7</td><td>1.2596e8</td><td>1.54979397e8</td><td>1.4788e8</td><td>1.3605e8</td></tr><tr><td>2023-07-01</td><td>&quot;HT&quot;</td><td>1.5701e6</td><td>2017-04-01</td><td>null</td><td>1.4831e6</td><td>1.5521e6</td><td>1.4798e6</td><td>1.5159e6</td><td>1.5061e6</td><td>1.5521e6</td><td>1.5688e6</td><td>1.4633e6</td><td>2017-04-01</td><td>null</td><td>1.4831e6</td><td>1.6172e6</td><td>1.4798e6</td><td>1.5216e6</td><td>1.541475e6</td><td>1.6505e6</td><td>1.5614e6</td><td>1.4298e6</td><td>2017-04-01</td><td>null</td><td>1.2881e6</td><td>1.5701e6</td><td>1.2848e6</td><td>1.3266e6</td><td>1.4164e6</td><td>1.536659e6</td><td>1.4310e6</td><td>1.286966e6</td></tr><tr><td>2023-07-01</td><td>&quot;MONI&quot;</td><td>6.6143116e7</td><td>2008-06-02</td><td>null</td><td>6.0227072e7</td><td>6.9891172e7</td><td>6.5284273e7</td><td>6.7673e7</td><td>5.1723e7</td><td>7.0062e7</td><td>5.5981e7</td><td>4.2248e7</td><td>2008-06-02</td><td>null</td><td>5.9737576e7</td><td>6.8476417e7</td><td>6.4556e7</td><td>6.7355e7</td><td>5.1633e7</td><td>4.2102e7</td><td>3.5912e7</td><td>3.1599e7</td><td>2008-06-02</td><td>null</td><td>2.1171911e7</td><td>3.0736759e7</td><td>2.5358e7</td><td>2.6642e7</td><td>2.7852e7</td><td>2.9595e7</td><td>2.9268e7</td><td>2.8393e7</td></tr><tr><td>2023-07-01</td><td>&quot;SPY&quot;</td><td>1.848441e7</td><td>2012-03-01</td><td>null</td><td>1.806651e7</td><td>2.0038414e7</td><td>1.884084e7</td><td>1.9198e7</td><td>1.8424e7</td><td>1.9556e7</td><td>1.8691e7</td><td>1.7760e7</td><td>2012-03-01</td><td>null</td><td>1.650627e7</td><td>1.876347e7</td><td>1.729106e7</td><td>1.8039e7</td><td>1.8308e7</td><td>1.8762e7</td><td>1.8578e7</td><td>1.7397e7</td><td>2012-03-01</td><td>null</td><td>1.554209e7</td><td>1.864187e7</td><td>1.6267e7</td><td>1.6860e7</td><td>1.7622e7</td><td>1.8069537e7</td><td>1.7251928e7</td><td>1.5946e7</td></tr><tr><td>2023-08-01</td><td>&quot;CS&quot;</td><td>4.03344e6</td><td>null</td><td>null</td><td>2.781e6</td><td>1.32442217e8</td><td>8.1923e7</td><td>1.0476e8</td><td>1.0893e8</td><td>1.27587575e8</td><td>1.1915e8</td><td>1.14746248e8</td><td>null</td><td>null</td><td>2.771e6</td><td>1.32656991e8</td><td>7.6206469e7</td><td>1.0051e8</td><td>1.1624e8</td><td>1.3026e8</td><td>1.31962627e8</td><td>1.1900e8</td><td>null</td><td>null</td><td>1.121e6</td><td>1.94586517e8</td><td>6.4194666e7</td><td>8.3361e7</td><td>1.1401e8</td><td>1.6921e8</td><td>1.57601965e8</td><td>1.4184e8</td></tr><tr><td>2023-08-01</td><td>&quot;HT&quot;</td><td>179000.0</td><td>2017-04-01</td><td>null</td><td>179000.0</td><td>1.4631e6</td><td>1.0517e6</td><td>1.2741e6</td><td>1.3836e6</td><td>1.4964e6</td><td>1.5048e6</td><td>1.44435e6</td><td>2017-04-01</td><td>null</td><td>179000.0</td><td>1.586e6</td><td>1.0517e6</td><td>1.2871e6</td><td>1.4265e6</td><td>1.586e6</td><td>1.566e6</td><td>1.4368e6</td><td>2017-04-01</td><td>null</td><td>179000.0</td><td>1.5701e6</td><td>921733.333333</td><td>1.1246e6</td><td>1.3004e6</td><td>1.5834e6</td><td>1.4825e6</td><td>1.3303e6</td></tr><tr><td>2023-08-01</td><td>&quot;MONI&quot;</td><td>1.069e6</td><td>2008-06-02</td><td>null</td><td>1.069e6</td><td>6.8998606e7</td><td>4.2601075e7</td><td>5.6180e7</td><td>4.9434e7</td><td>6.9759e7</td><td>6.2617e7</td><td>4.5806e7</td><td>2008-06-02</td><td>null</td><td>1.069e6</td><td>7.2004917e7</td><td>4.2299407e7</td><td>5.5716e7</td><td>4.9441e7</td><td>5.6350949e7</td><td>4.3164767e7</td><td>3.5448e7</td><td>2008-06-02</td><td>null</td><td>994000.0</td><td>3.03618e7</td><td>1.6688e7</td><td>2.2602e7</td><td>2.5925e7</td><td>3.0067e7</td><td>2.9497e7</td><td>2.8513e7</td></tr><tr><td>2023-08-01</td><td>&quot;SPY&quot;</td><td>850500.0</td><td>2012-03-01</td><td>null</td><td>840500.0</td><td>1.9659396e7</td><td>1.2747e7</td><td>1.6208e7</td><td>1.6967e7</td><td>1.9668459e7</td><td>1.8990e7</td><td>1.8012e7</td><td>2012-03-01</td><td>null</td><td>840500.0</td><td>2.0000942e7</td><td>1.2034e7</td><td>1.549343e7</td><td>1.7109e7</td><td>1.9309e7</td><td>1.8724e7</td><td>1.7762e7</td><td>2012-03-01</td><td>null</td><td>840500.0</td><td>1.959235e7</td><td>1.108269e7</td><td>1.4165e7</td><td>1.6235e7</td><td>1.8736e7</td><td>1.7744e7</td><td>1.6404e7</td></tr></tbody></table></div>"
            ]
          },
          "metadata": {},
          "execution_count": 36
        }
      ]
    },
    {
      "cell_type": "markdown",
      "source": [
        "#### 処理結果をスプレッドシートの4番目のシートへ展開"
      ],
      "metadata": {
        "id": "ibgH-EsThdML"
      }
    },
    {
      "cell_type": "code",
      "source": [
        "# スプレッドシートを開く（IDから）\n",
        "key = '15gxCoKnyMQZNqlODgbIeR2H1BfJ7KahfL61rckIEwkw'\n",
        "ss = gc.open_by_key(key)\n",
        "\n",
        "# シートを取得\n",
        "sheet_client = ss.get_worksheet(3)\n",
        "print(sheet_client)"
      ],
      "metadata": {
        "colab": {
          "base_uri": "https://localhost:8080/"
        },
        "outputId": "5d2beee6-1f2c-479c-d9c2-5805484cd347",
        "id": "pEmkNNsLhdML"
      },
      "execution_count": null,
      "outputs": [
        {
          "output_type": "stream",
          "name": "stdout",
          "text": [
            "<Worksheet '部署グループ毎' id:1350725156>\n"
          ]
        }
      ]
    },
    {
      "cell_type": "code",
      "source": [
        "# 対象年月 を date から str へ変換\n",
        "result_df_by_division = result_df_by_division.with_columns(\n",
        "  pl.col('対象年月').dt.strftime('%Y-%m-%d'),\n",
        "  pl.col('^.*開始日_.+$').dt.strftime('%Y-%m-%d'),\n",
        "  pl.col('^.*終了日_.+$').dt.strftime('%Y-%m-%d'),\n",
        ")\n",
        "result_df_by_division.head()\n",
        "\n",
        "# CSV処理後の Dataframe を二次元リストに変換\n",
        "result_list_by_division = []\n",
        "for col in result_df_by_division.columns:\n",
        "  temp_list = [col]\n",
        "  temp_list += result_df_by_division[col].to_list()\n",
        "  result_list_by_division.append(temp_list)\n",
        "\n",
        "# リストを転置\n",
        "result_list_by_division = [list(x) for x in zip(*result_list_by_division)]\n",
        "result_list_by_division[0:2]"
      ],
      "metadata": {
        "colab": {
          "base_uri": "https://localhost:8080/"
        },
        "outputId": "7a1ffcb4-afd5-4f8e-8442-bad0b5837319",
        "id": "thcZ1lnZhdML"
      },
      "execution_count": null,
      "outputs": [
        {
          "output_type": "execute_result",
          "data": {
            "text/plain": [
              "[['対象年月',\n",
              "  '部署グループ',\n",
              "  '請求額',\n",
              "  '[03]開始日_最古',\n",
              "  '[03]終了日_最新',\n",
              "  '[03]請求額_当月',\n",
              "  '[03]請求額_03ヶ月前',\n",
              "  '[03]移動平均_当月-03ヶ月間',\n",
              "  '[03]移動平均_当月-06ヶ月間',\n",
              "  '[03]移動平均_当月-12ヶ月間',\n",
              "  '[03]移動平均_03ヶ月前-03ヶ月間',\n",
              "  '[03]移動平均_03ヶ月前-06ヶ月間',\n",
              "  '[03]移動平均_03ヶ月前-12ヶ月間',\n",
              "  '[06]開始日_最古',\n",
              "  '[06]終了日_最新',\n",
              "  '[06]請求額_当月',\n",
              "  '[06]請求額_06ヶ月前',\n",
              "  '[06]移動平均_当月-03ヶ月間',\n",
              "  '[06]移動平均_当月-06ヶ月間',\n",
              "  '[06]移動平均_当月-12ヶ月間',\n",
              "  '[06]移動平均_06ヶ月前-03ヶ月間',\n",
              "  '[06]移動平均_06ヶ月前-06ヶ月間',\n",
              "  '[06]移動平均_06ヶ月前-12ヶ月間',\n",
              "  '[12]開始日_最古',\n",
              "  '[12]終了日_最新',\n",
              "  '[12]請求額_当月',\n",
              "  '[12]請求額_12ヶ月前',\n",
              "  '[12]移動平均_当月-03ヶ月間',\n",
              "  '[12]移動平均_当月-06ヶ月間',\n",
              "  '[12]移動平均_当月-12ヶ月間',\n",
              "  '[12]移動平均_12ヶ月前-03ヶ月間',\n",
              "  '[12]移動平均_12ヶ月前-06ヶ月間',\n",
              "  '[12]移動平均_12ヶ月前-12ヶ月間'],\n",
              " ['2021-04-01',\n",
              "  'CS',\n",
              "  135278372.0,\n",
              "  None,\n",
              "  None,\n",
              "  124675113.0,\n",
              "  131481790.0,\n",
              "  128545394.33333333,\n",
              "  None,\n",
              "  None,\n",
              "  None,\n",
              "  None,\n",
              "  None,\n",
              "  None,\n",
              "  None,\n",
              "  None,\n",
              "  None,\n",
              "  None,\n",
              "  None,\n",
              "  None,\n",
              "  None,\n",
              "  None,\n",
              "  None,\n",
              "  None,\n",
              "  None,\n",
              "  None,\n",
              "  None,\n",
              "  None,\n",
              "  None,\n",
              "  None,\n",
              "  None,\n",
              "  None,\n",
              "  None]]"
            ]
          },
          "metadata": {},
          "execution_count": 38
        }
      ]
    },
    {
      "cell_type": "code",
      "source": [
        "# シートを一旦クリア\n",
        "sheet_client.clear()\n",
        "\n",
        "# 2次元配列を一括で書き込み\n",
        "sheet_client.update(result_list_by_division)"
      ],
      "metadata": {
        "colab": {
          "base_uri": "https://localhost:8080/"
        },
        "outputId": "59fcb7c5-d6f0-4ec1-d257-101484f53d0b",
        "id": "0xWARO1khdMM"
      },
      "execution_count": null,
      "outputs": [
        {
          "output_type": "execute_result",
          "data": {
            "text/plain": [
              "{'spreadsheetId': '15gxCoKnyMQZNqlODgbIeR2H1BfJ7KahfL61rckIEwkw',\n",
              " 'updatedRange': \"'部署グループ毎'!A1:AG117\",\n",
              " 'updatedRows': 117,\n",
              " 'updatedColumns': 33,\n",
              " 'updatedCells': 2730}"
            ]
          },
          "metadata": {},
          "execution_count": 39
        }
      ]
    },
    {
      "cell_type": "markdown",
      "source": [
        "サカイノ追加"
      ],
      "metadata": {
        "id": "b4GDBH4s4ExD"
      }
    }
  ],
  "metadata": {
    "colab": {
      "collapsed_sections": [
        "y2tqDmpzltUw"
      ],
      "provenance": [],
      "toc_visible": true,
      "include_colab_link": true
    },
    "kernelspec": {
      "display_name": "Python 3",
      "name": "python3"
    },
    "language_info": {
      "name": "python"
    }
  },
  "nbformat": 4,
  "nbformat_minor": 0
}